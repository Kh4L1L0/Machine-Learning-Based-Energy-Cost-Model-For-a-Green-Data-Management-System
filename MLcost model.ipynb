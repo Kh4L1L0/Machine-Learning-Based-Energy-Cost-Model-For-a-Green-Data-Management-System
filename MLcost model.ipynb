{
  "cells": [
    {
      "cell_type": "markdown",
      "metadata": {
        "id": "o_O9T2oR9uu5"
      },
      "source": [
        "# Data Preparation"
      ]
    },
    {
      "cell_type": "code",
      "execution_count": 1,
      "metadata": {
        "id": "h-BeIAiV2mCJ"
      },
      "outputs": [],
      "source": [
        "import numpy as np\n",
        "import pandas as pd\n",
        "import tensorflow as tf\n",
        "from sklearn.metrics import  mean_squared_error , mean_absolute_error , mean_absolute_percentage_error\n",
        "from sklearn.linear_model import LinearRegression\n",
        "from sklearn.preprocessing import StandardScaler, MinMaxScaler , PolynomialFeatures\n",
        "import math\n",
        "from xgboost import XGBRegressor\n",
        "import matplotlib.pyplot as plt\n",
        "\n",
        "pl_data = pd.read_csv('./data/training_data_pipelines.csv' ,sep=';' )\n",
        "test_pl_data = pd.read_csv('./data/testing_data_pipelines.csv' ,sep=';' )"
      ]
    },
    {
      "cell_type": "code",
      "execution_count": 2,
      "metadata": {
        "colab": {
          "base_uri": "https://localhost:8080/",
          "height": 0
        },
        "id": "lyczJgUjlK4P",
        "outputId": "5e8caca5-658e-4ad5-bd87-477cf0f722ea"
      },
      "outputs": [
        {
          "data": {
            "text/html": [
              "<div>\n",
              "<style scoped>\n",
              "    .dataframe tbody tr th:only-of-type {\n",
              "        vertical-align: middle;\n",
              "    }\n",
              "\n",
              "    .dataframe tbody tr th {\n",
              "        vertical-align: top;\n",
              "    }\n",
              "\n",
              "    .dataframe thead th {\n",
              "        text-align: right;\n",
              "    }\n",
              "</style>\n",
              "<table border=\"1\" class=\"dataframe\">\n",
              "  <thead>\n",
              "    <tr style=\"text-align: right;\">\n",
              "      <th></th>\n",
              "      <th>Q</th>\n",
              "      <th>pipeline</th>\n",
              "      <th>cpu_cost</th>\n",
              "      <th>io_cost</th>\n",
              "      <th>mem_cost</th>\n",
              "      <th>dop_pl</th>\n",
              "      <th>power</th>\n",
              "      <th>time</th>\n",
              "      <th>energy</th>\n",
              "      <th>governor</th>\n",
              "      <th>frequency</th>\n",
              "      <th>db_name</th>\n",
              "      <th>dop_q</th>\n",
              "      <th>HT: Disabled</th>\n",
              "      <th>C-states: Enabled</th>\n",
              "      <th>TurboBoost: Disabled</th>\n",
              "      <th>PC: i7</th>\n",
              "    </tr>\n",
              "  </thead>\n",
              "  <tbody>\n",
              "    <tr>\n",
              "      <th>0</th>\n",
              "      <td>Q1</td>\n",
              "      <td>PL1</td>\n",
              "      <td>6577804.30</td>\n",
              "      <td>13445055.0</td>\n",
              "      <td>0.0</td>\n",
              "      <td>0.0</td>\n",
              "      <td>45.823890</td>\n",
              "      <td>108.183241</td>\n",
              "      <td>4957.376926</td>\n",
              "      <td>userspace</td>\n",
              "      <td>3400000</td>\n",
              "      <td>tpch_sf30</td>\n",
              "      <td>0</td>\n",
              "      <td>HT: Disabled</td>\n",
              "      <td>C-states: Enabled</td>\n",
              "      <td>TurboBoost: Disabled</td>\n",
              "      <td>PC: i7</td>\n",
              "    </tr>\n",
              "    <tr>\n",
              "      <th>1</th>\n",
              "      <td>Q1</td>\n",
              "      <td>PL2</td>\n",
              "      <td>1124955.80</td>\n",
              "      <td>1671781.0</td>\n",
              "      <td>0.0</td>\n",
              "      <td>0.0</td>\n",
              "      <td>47.396818</td>\n",
              "      <td>10.725339</td>\n",
              "      <td>508.346943</td>\n",
              "      <td>userspace</td>\n",
              "      <td>3400000</td>\n",
              "      <td>tpch_sf30</td>\n",
              "      <td>0</td>\n",
              "      <td>HT: Disabled</td>\n",
              "      <td>C-states: Enabled</td>\n",
              "      <td>TurboBoost: Disabled</td>\n",
              "      <td>PC: i7</td>\n",
              "    </tr>\n",
              "    <tr>\n",
              "      <th>2</th>\n",
              "      <td>Q1</td>\n",
              "      <td>PL1</td>\n",
              "      <td>6577804.30</td>\n",
              "      <td>13444895.0</td>\n",
              "      <td>160.0</td>\n",
              "      <td>0.0</td>\n",
              "      <td>42.640875</td>\n",
              "      <td>118.666060</td>\n",
              "      <td>5060.024631</td>\n",
              "      <td>userspace</td>\n",
              "      <td>3000000</td>\n",
              "      <td>tpch_sf30</td>\n",
              "      <td>0</td>\n",
              "      <td>HT: Disabled</td>\n",
              "      <td>C-states: Enabled</td>\n",
              "      <td>TurboBoost: Disabled</td>\n",
              "      <td>PC: i7</td>\n",
              "    </tr>\n",
              "    <tr>\n",
              "      <th>3</th>\n",
              "      <td>Q1</td>\n",
              "      <td>PL2</td>\n",
              "      <td>1124955.80</td>\n",
              "      <td>1671717.0</td>\n",
              "      <td>64.0</td>\n",
              "      <td>0.0</td>\n",
              "      <td>43.162714</td>\n",
              "      <td>13.880640</td>\n",
              "      <td>599.126098</td>\n",
              "      <td>userspace</td>\n",
              "      <td>3000000</td>\n",
              "      <td>tpch_sf30</td>\n",
              "      <td>0</td>\n",
              "      <td>HT: Disabled</td>\n",
              "      <td>C-states: Enabled</td>\n",
              "      <td>TurboBoost: Disabled</td>\n",
              "      <td>PC: i7</td>\n",
              "    </tr>\n",
              "    <tr>\n",
              "      <th>4</th>\n",
              "      <td>Q1</td>\n",
              "      <td>PL1</td>\n",
              "      <td>6577804.30</td>\n",
              "      <td>13444735.0</td>\n",
              "      <td>320.0</td>\n",
              "      <td>0.0</td>\n",
              "      <td>40.652008</td>\n",
              "      <td>129.509526</td>\n",
              "      <td>5264.822247</td>\n",
              "      <td>userspace</td>\n",
              "      <td>2700000</td>\n",
              "      <td>tpch_sf30</td>\n",
              "      <td>0</td>\n",
              "      <td>HT: Disabled</td>\n",
              "      <td>C-states: Enabled</td>\n",
              "      <td>TurboBoost: Disabled</td>\n",
              "      <td>PC: i7</td>\n",
              "    </tr>\n",
              "    <tr>\n",
              "      <th>...</th>\n",
              "      <td>...</td>\n",
              "      <td>...</td>\n",
              "      <td>...</td>\n",
              "      <td>...</td>\n",
              "      <td>...</td>\n",
              "      <td>...</td>\n",
              "      <td>...</td>\n",
              "      <td>...</td>\n",
              "      <td>...</td>\n",
              "      <td>...</td>\n",
              "      <td>...</td>\n",
              "      <td>...</td>\n",
              "      <td>...</td>\n",
              "      <td>...</td>\n",
              "      <td>...</td>\n",
              "      <td>...</td>\n",
              "      <td>...</td>\n",
              "    </tr>\n",
              "    <tr>\n",
              "      <th>13123</th>\n",
              "      <td>Q69</td>\n",
              "      <td>PL1</td>\n",
              "      <td>1.06</td>\n",
              "      <td>6728253.0</td>\n",
              "      <td>22299.0</td>\n",
              "      <td>0.0</td>\n",
              "      <td>36.695500</td>\n",
              "      <td>1.159333</td>\n",
              "      <td>42.542304</td>\n",
              "      <td>userspace</td>\n",
              "      <td>800000</td>\n",
              "      <td>tpch_sf50</td>\n",
              "      <td>4</td>\n",
              "      <td>HT: Disabled</td>\n",
              "      <td>C-states: Enabled</td>\n",
              "      <td>TurboBoost: Disabled</td>\n",
              "      <td>PC: i7</td>\n",
              "    </tr>\n",
              "    <tr>\n",
              "      <th>13124</th>\n",
              "      <td>Q69</td>\n",
              "      <td>PL2</td>\n",
              "      <td>0.06</td>\n",
              "      <td>2242751.0</td>\n",
              "      <td>7433.0</td>\n",
              "      <td>4.0</td>\n",
              "      <td>36.695500</td>\n",
              "      <td>0.000124</td>\n",
              "      <td>0.004550</td>\n",
              "      <td>userspace</td>\n",
              "      <td>800000</td>\n",
              "      <td>tpch_sf50</td>\n",
              "      <td>4</td>\n",
              "      <td>HT: Disabled</td>\n",
              "      <td>C-states: Enabled</td>\n",
              "      <td>TurboBoost: Disabled</td>\n",
              "      <td>PC: i7</td>\n",
              "    </tr>\n",
              "    <tr>\n",
              "      <th>13125</th>\n",
              "      <td>Q69</td>\n",
              "      <td>PL3</td>\n",
              "      <td>984244.72</td>\n",
              "      <td>5785685.0</td>\n",
              "      <td>19202.0</td>\n",
              "      <td>4.0</td>\n",
              "      <td>37.873383</td>\n",
              "      <td>58.415605</td>\n",
              "      <td>2212.396601</td>\n",
              "      <td>userspace</td>\n",
              "      <td>800000</td>\n",
              "      <td>tpch_sf50</td>\n",
              "      <td>4</td>\n",
              "      <td>HT: Disabled</td>\n",
              "      <td>C-states: Enabled</td>\n",
              "      <td>TurboBoost: Disabled</td>\n",
              "      <td>PC: i7</td>\n",
              "    </tr>\n",
              "    <tr>\n",
              "      <th>13126</th>\n",
              "      <td>Q69</td>\n",
              "      <td>PL4</td>\n",
              "      <td>126576.30</td>\n",
              "      <td>582412.0</td>\n",
              "      <td>8746.0</td>\n",
              "      <td>4.0</td>\n",
              "      <td>36.019750</td>\n",
              "      <td>3.620635</td>\n",
              "      <td>130.414368</td>\n",
              "      <td>userspace</td>\n",
              "      <td>800000</td>\n",
              "      <td>tpch_sf50</td>\n",
              "      <td>4</td>\n",
              "      <td>HT: Disabled</td>\n",
              "      <td>C-states: Enabled</td>\n",
              "      <td>TurboBoost: Disabled</td>\n",
              "      <td>PC: i7</td>\n",
              "    </tr>\n",
              "    <tr>\n",
              "      <th>13127</th>\n",
              "      <td>Q69</td>\n",
              "      <td>PL5</td>\n",
              "      <td>0.50</td>\n",
              "      <td>0.0</td>\n",
              "      <td>10.0</td>\n",
              "      <td>4.0</td>\n",
              "      <td>33.504500</td>\n",
              "      <td>0.000093</td>\n",
              "      <td>0.003116</td>\n",
              "      <td>userspace</td>\n",
              "      <td>800000</td>\n",
              "      <td>tpch_sf50</td>\n",
              "      <td>4</td>\n",
              "      <td>HT: Disabled</td>\n",
              "      <td>C-states: Enabled</td>\n",
              "      <td>TurboBoost: Disabled</td>\n",
              "      <td>PC: i7</td>\n",
              "    </tr>\n",
              "  </tbody>\n",
              "</table>\n",
              "<p>13128 rows × 17 columns</p>\n",
              "</div>"
            ],
            "text/plain": [
              "         Q pipeline    cpu_cost     io_cost  mem_cost  dop_pl      power  \\\n",
              "0       Q1      PL1  6577804.30  13445055.0       0.0     0.0  45.823890   \n",
              "1       Q1      PL2  1124955.80   1671781.0       0.0     0.0  47.396818   \n",
              "2       Q1      PL1  6577804.30  13444895.0     160.0     0.0  42.640875   \n",
              "3       Q1      PL2  1124955.80   1671717.0      64.0     0.0  43.162714   \n",
              "4       Q1      PL1  6577804.30  13444735.0     320.0     0.0  40.652008   \n",
              "...    ...      ...         ...         ...       ...     ...        ...   \n",
              "13123  Q69      PL1        1.06   6728253.0   22299.0     0.0  36.695500   \n",
              "13124  Q69      PL2        0.06   2242751.0    7433.0     4.0  36.695500   \n",
              "13125  Q69      PL3   984244.72   5785685.0   19202.0     4.0  37.873383   \n",
              "13126  Q69      PL4   126576.30    582412.0    8746.0     4.0  36.019750   \n",
              "13127  Q69      PL5        0.50         0.0      10.0     4.0  33.504500   \n",
              "\n",
              "             time       energy   governor  frequency    db_name  dop_q  \\\n",
              "0      108.183241  4957.376926  userspace    3400000  tpch_sf30      0   \n",
              "1       10.725339   508.346943  userspace    3400000  tpch_sf30      0   \n",
              "2      118.666060  5060.024631  userspace    3000000  tpch_sf30      0   \n",
              "3       13.880640   599.126098  userspace    3000000  tpch_sf30      0   \n",
              "4      129.509526  5264.822247  userspace    2700000  tpch_sf30      0   \n",
              "...           ...          ...        ...        ...        ...    ...   \n",
              "13123    1.159333    42.542304  userspace     800000  tpch_sf50      4   \n",
              "13124    0.000124     0.004550  userspace     800000  tpch_sf50      4   \n",
              "13125   58.415605  2212.396601  userspace     800000  tpch_sf50      4   \n",
              "13126    3.620635   130.414368  userspace     800000  tpch_sf50      4   \n",
              "13127    0.000093     0.003116  userspace     800000  tpch_sf50      4   \n",
              "\n",
              "       HT: Disabled  C-states: Enabled  TurboBoost: Disabled  PC: i7  \n",
              "0      HT: Disabled  C-states: Enabled  TurboBoost: Disabled  PC: i7  \n",
              "1      HT: Disabled  C-states: Enabled  TurboBoost: Disabled  PC: i7  \n",
              "2      HT: Disabled  C-states: Enabled  TurboBoost: Disabled  PC: i7  \n",
              "3      HT: Disabled  C-states: Enabled  TurboBoost: Disabled  PC: i7  \n",
              "4      HT: Disabled  C-states: Enabled  TurboBoost: Disabled  PC: i7  \n",
              "...             ...                ...                   ...     ...  \n",
              "13123  HT: Disabled  C-states: Enabled  TurboBoost: Disabled  PC: i7  \n",
              "13124  HT: Disabled  C-states: Enabled  TurboBoost: Disabled  PC: i7  \n",
              "13125  HT: Disabled  C-states: Enabled  TurboBoost: Disabled  PC: i7  \n",
              "13126  HT: Disabled  C-states: Enabled  TurboBoost: Disabled  PC: i7  \n",
              "13127  HT: Disabled  C-states: Enabled  TurboBoost: Disabled  PC: i7  \n",
              "\n",
              "[13128 rows x 17 columns]"
            ]
          },
          "execution_count": 2,
          "metadata": {},
          "output_type": "execute_result"
        }
      ],
      "source": [
        "pl_data"
      ]
    },
    {
      "cell_type": "markdown",
      "metadata": {
        "id": "01QyXaV8k_Zm"
      },
      "source": [
        "- Cleaning the data.\n",
        "- adding 1 to the degree of parallelism "
      ]
    },
    {
      "cell_type": "code",
      "execution_count": 3,
      "metadata": {
        "colab": {
          "base_uri": "https://localhost:8080/",
          "height": 0
        },
        "id": "VFbhZ-pU3aHW",
        "outputId": "f32021e7-224c-4c70-e5b5-bbfeccc42034"
      },
      "outputs": [
        {
          "data": {
            "text/html": [
              "<div>\n",
              "<style scoped>\n",
              "    .dataframe tbody tr th:only-of-type {\n",
              "        vertical-align: middle;\n",
              "    }\n",
              "\n",
              "    .dataframe tbody tr th {\n",
              "        vertical-align: top;\n",
              "    }\n",
              "\n",
              "    .dataframe thead th {\n",
              "        text-align: right;\n",
              "    }\n",
              "</style>\n",
              "<table border=\"1\" class=\"dataframe\">\n",
              "  <thead>\n",
              "    <tr style=\"text-align: right;\">\n",
              "      <th></th>\n",
              "      <th>Q</th>\n",
              "      <th>pipeline</th>\n",
              "      <th>cpu_cost</th>\n",
              "      <th>io_cost</th>\n",
              "      <th>mem_cost</th>\n",
              "      <th>dop_pl</th>\n",
              "      <th>power</th>\n",
              "      <th>time</th>\n",
              "      <th>energy</th>\n",
              "      <th>frequency</th>\n",
              "      <th>db_name</th>\n",
              "      <th>dop_q</th>\n",
              "    </tr>\n",
              "  </thead>\n",
              "  <tbody>\n",
              "    <tr>\n",
              "      <th>0</th>\n",
              "      <td>Q1</td>\n",
              "      <td>PL1</td>\n",
              "      <td>6577804.30</td>\n",
              "      <td>13445055.0</td>\n",
              "      <td>0.0</td>\n",
              "      <td>1.0</td>\n",
              "      <td>45.823890</td>\n",
              "      <td>108.183241</td>\n",
              "      <td>4957.376926</td>\n",
              "      <td>3400000</td>\n",
              "      <td>tpch_sf30</td>\n",
              "      <td>1</td>\n",
              "    </tr>\n",
              "    <tr>\n",
              "      <th>1</th>\n",
              "      <td>Q1</td>\n",
              "      <td>PL2</td>\n",
              "      <td>1124955.80</td>\n",
              "      <td>1671781.0</td>\n",
              "      <td>0.0</td>\n",
              "      <td>1.0</td>\n",
              "      <td>47.396818</td>\n",
              "      <td>10.725339</td>\n",
              "      <td>508.346943</td>\n",
              "      <td>3400000</td>\n",
              "      <td>tpch_sf30</td>\n",
              "      <td>1</td>\n",
              "    </tr>\n",
              "    <tr>\n",
              "      <th>2</th>\n",
              "      <td>Q1</td>\n",
              "      <td>PL1</td>\n",
              "      <td>6577804.30</td>\n",
              "      <td>13444895.0</td>\n",
              "      <td>160.0</td>\n",
              "      <td>1.0</td>\n",
              "      <td>42.640875</td>\n",
              "      <td>118.666060</td>\n",
              "      <td>5060.024631</td>\n",
              "      <td>3000000</td>\n",
              "      <td>tpch_sf30</td>\n",
              "      <td>1</td>\n",
              "    </tr>\n",
              "    <tr>\n",
              "      <th>3</th>\n",
              "      <td>Q1</td>\n",
              "      <td>PL2</td>\n",
              "      <td>1124955.80</td>\n",
              "      <td>1671717.0</td>\n",
              "      <td>64.0</td>\n",
              "      <td>1.0</td>\n",
              "      <td>43.162714</td>\n",
              "      <td>13.880640</td>\n",
              "      <td>599.126098</td>\n",
              "      <td>3000000</td>\n",
              "      <td>tpch_sf30</td>\n",
              "      <td>1</td>\n",
              "    </tr>\n",
              "    <tr>\n",
              "      <th>4</th>\n",
              "      <td>Q1</td>\n",
              "      <td>PL1</td>\n",
              "      <td>6577804.30</td>\n",
              "      <td>13444735.0</td>\n",
              "      <td>320.0</td>\n",
              "      <td>1.0</td>\n",
              "      <td>40.652008</td>\n",
              "      <td>129.509526</td>\n",
              "      <td>5264.822247</td>\n",
              "      <td>2700000</td>\n",
              "      <td>tpch_sf30</td>\n",
              "      <td>1</td>\n",
              "    </tr>\n",
              "    <tr>\n",
              "      <th>...</th>\n",
              "      <td>...</td>\n",
              "      <td>...</td>\n",
              "      <td>...</td>\n",
              "      <td>...</td>\n",
              "      <td>...</td>\n",
              "      <td>...</td>\n",
              "      <td>...</td>\n",
              "      <td>...</td>\n",
              "      <td>...</td>\n",
              "      <td>...</td>\n",
              "      <td>...</td>\n",
              "      <td>...</td>\n",
              "    </tr>\n",
              "    <tr>\n",
              "      <th>13123</th>\n",
              "      <td>Q69</td>\n",
              "      <td>PL1</td>\n",
              "      <td>1.06</td>\n",
              "      <td>6728253.0</td>\n",
              "      <td>22299.0</td>\n",
              "      <td>1.0</td>\n",
              "      <td>36.695500</td>\n",
              "      <td>1.159333</td>\n",
              "      <td>42.542304</td>\n",
              "      <td>800000</td>\n",
              "      <td>tpch_sf50</td>\n",
              "      <td>5</td>\n",
              "    </tr>\n",
              "    <tr>\n",
              "      <th>13124</th>\n",
              "      <td>Q69</td>\n",
              "      <td>PL2</td>\n",
              "      <td>0.06</td>\n",
              "      <td>2242751.0</td>\n",
              "      <td>7433.0</td>\n",
              "      <td>5.0</td>\n",
              "      <td>36.695500</td>\n",
              "      <td>0.000124</td>\n",
              "      <td>0.004550</td>\n",
              "      <td>800000</td>\n",
              "      <td>tpch_sf50</td>\n",
              "      <td>5</td>\n",
              "    </tr>\n",
              "    <tr>\n",
              "      <th>13125</th>\n",
              "      <td>Q69</td>\n",
              "      <td>PL3</td>\n",
              "      <td>984244.72</td>\n",
              "      <td>5785685.0</td>\n",
              "      <td>19202.0</td>\n",
              "      <td>5.0</td>\n",
              "      <td>37.873383</td>\n",
              "      <td>58.415605</td>\n",
              "      <td>2212.396601</td>\n",
              "      <td>800000</td>\n",
              "      <td>tpch_sf50</td>\n",
              "      <td>5</td>\n",
              "    </tr>\n",
              "    <tr>\n",
              "      <th>13126</th>\n",
              "      <td>Q69</td>\n",
              "      <td>PL4</td>\n",
              "      <td>126576.30</td>\n",
              "      <td>582412.0</td>\n",
              "      <td>8746.0</td>\n",
              "      <td>5.0</td>\n",
              "      <td>36.019750</td>\n",
              "      <td>3.620635</td>\n",
              "      <td>130.414368</td>\n",
              "      <td>800000</td>\n",
              "      <td>tpch_sf50</td>\n",
              "      <td>5</td>\n",
              "    </tr>\n",
              "    <tr>\n",
              "      <th>13127</th>\n",
              "      <td>Q69</td>\n",
              "      <td>PL5</td>\n",
              "      <td>0.50</td>\n",
              "      <td>0.0</td>\n",
              "      <td>10.0</td>\n",
              "      <td>5.0</td>\n",
              "      <td>33.504500</td>\n",
              "      <td>0.000093</td>\n",
              "      <td>0.003116</td>\n",
              "      <td>800000</td>\n",
              "      <td>tpch_sf50</td>\n",
              "      <td>5</td>\n",
              "    </tr>\n",
              "  </tbody>\n",
              "</table>\n",
              "<p>13128 rows × 12 columns</p>\n",
              "</div>"
            ],
            "text/plain": [
              "         Q pipeline    cpu_cost     io_cost  mem_cost  dop_pl      power  \\\n",
              "0       Q1      PL1  6577804.30  13445055.0       0.0     1.0  45.823890   \n",
              "1       Q1      PL2  1124955.80   1671781.0       0.0     1.0  47.396818   \n",
              "2       Q1      PL1  6577804.30  13444895.0     160.0     1.0  42.640875   \n",
              "3       Q1      PL2  1124955.80   1671717.0      64.0     1.0  43.162714   \n",
              "4       Q1      PL1  6577804.30  13444735.0     320.0     1.0  40.652008   \n",
              "...    ...      ...         ...         ...       ...     ...        ...   \n",
              "13123  Q69      PL1        1.06   6728253.0   22299.0     1.0  36.695500   \n",
              "13124  Q69      PL2        0.06   2242751.0    7433.0     5.0  36.695500   \n",
              "13125  Q69      PL3   984244.72   5785685.0   19202.0     5.0  37.873383   \n",
              "13126  Q69      PL4   126576.30    582412.0    8746.0     5.0  36.019750   \n",
              "13127  Q69      PL5        0.50         0.0      10.0     5.0  33.504500   \n",
              "\n",
              "             time       energy  frequency    db_name  dop_q  \n",
              "0      108.183241  4957.376926    3400000  tpch_sf30      1  \n",
              "1       10.725339   508.346943    3400000  tpch_sf30      1  \n",
              "2      118.666060  5060.024631    3000000  tpch_sf30      1  \n",
              "3       13.880640   599.126098    3000000  tpch_sf30      1  \n",
              "4      129.509526  5264.822247    2700000  tpch_sf30      1  \n",
              "...           ...          ...        ...        ...    ...  \n",
              "13123    1.159333    42.542304     800000  tpch_sf50      5  \n",
              "13124    0.000124     0.004550     800000  tpch_sf50      5  \n",
              "13125   58.415605  2212.396601     800000  tpch_sf50      5  \n",
              "13126    3.620635   130.414368     800000  tpch_sf50      5  \n",
              "13127    0.000093     0.003116     800000  tpch_sf50      5  \n",
              "\n",
              "[13128 rows x 12 columns]"
            ]
          },
          "execution_count": 3,
          "metadata": {},
          "output_type": "execute_result"
        }
      ],
      "source": [
        "pl = pl_data.drop(['governor','HT: Disabled','C-states: Enabled','TurboBoost: Disabled','PC: i7'], inplace=False, axis=1)\n",
        "pl_test = test_pl_data.drop(['governor','HT: Disabled','C-states: Enabled','TurboBoost: Disabled','PC: i7'], inplace=False, axis=1)\n",
        "pl['dop_q'] = pl['dop_q'] + 1\n",
        "pl_test['dop_q'] = pl_test['dop_q'] + 1\n",
        "pl['dop_pl'] = pl['dop_pl'] + 1\n",
        "pl_test['dop_pl'] = pl_test['dop_pl'] + 1\n",
        "pl"
      ]
    },
    {
      "cell_type": "code",
      "execution_count": 4,
      "metadata": {
        "colab": {
          "base_uri": "https://localhost:8080/"
        },
        "id": "H98ahUs5UXl3",
        "outputId": "9cfcc833-6a03-457b-eb97-36319e205950"
      },
      "outputs": [
        {
          "data": {
            "text/plain": [
              "array(['tpcds_sf50'], dtype=object)"
            ]
          },
          "execution_count": 4,
          "metadata": {},
          "output_type": "execute_result"
        }
      ],
      "source": [
        "pl_test.db_name.unique()"
      ]
    },
    {
      "cell_type": "markdown",
      "metadata": {
        "id": "hN2IJrfXnfQL"
      },
      "source": [
        "- adding the scale factor feature from db_name"
      ]
    },
    {
      "cell_type": "code",
      "execution_count": 5,
      "metadata": {
        "id": "R4Fh6nFlUZFH"
      },
      "outputs": [],
      "source": [
        "\n",
        "\n",
        "pl['db_name'] = pl['db_name'].replace(['tpch_sf50'], 50)\n",
        "pl['db_name'] = pl['db_name'].replace(['tpch_sf10'], 10)\n",
        "pl['db_name'] = pl['db_name'].replace(['tpch_sf30'], 30)\n",
        "\n",
        "pl_test['db_name'] = pl_test['db_name'].replace(['tpcds_sf50'], 50)\n",
        "\n"
      ]
    },
    {
      "cell_type": "code",
      "execution_count": 6,
      "metadata": {
        "colab": {
          "base_uri": "https://localhost:8080/",
          "height": 0
        },
        "id": "RPDXuSzNU2NH",
        "outputId": "01f5adfb-e420-4e5f-e1e6-aa39d6926f6d"
      },
      "outputs": [
        {
          "data": {
            "text/html": [
              "<div>\n",
              "<style scoped>\n",
              "    .dataframe tbody tr th:only-of-type {\n",
              "        vertical-align: middle;\n",
              "    }\n",
              "\n",
              "    .dataframe tbody tr th {\n",
              "        vertical-align: top;\n",
              "    }\n",
              "\n",
              "    .dataframe thead th {\n",
              "        text-align: right;\n",
              "    }\n",
              "</style>\n",
              "<table border=\"1\" class=\"dataframe\">\n",
              "  <thead>\n",
              "    <tr style=\"text-align: right;\">\n",
              "      <th></th>\n",
              "      <th>Q</th>\n",
              "      <th>pipeline</th>\n",
              "      <th>cpu_cost</th>\n",
              "      <th>io_cost</th>\n",
              "      <th>mem_cost</th>\n",
              "      <th>dop_pl</th>\n",
              "      <th>power</th>\n",
              "      <th>time</th>\n",
              "      <th>energy</th>\n",
              "      <th>frequency</th>\n",
              "      <th>db_name</th>\n",
              "      <th>dop_q</th>\n",
              "    </tr>\n",
              "  </thead>\n",
              "  <tbody>\n",
              "    <tr>\n",
              "      <th>0</th>\n",
              "      <td>Q1</td>\n",
              "      <td>PL1</td>\n",
              "      <td>6577804.30</td>\n",
              "      <td>13445055.0</td>\n",
              "      <td>0.0</td>\n",
              "      <td>1.0</td>\n",
              "      <td>45.823890</td>\n",
              "      <td>108.183241</td>\n",
              "      <td>4957.376926</td>\n",
              "      <td>3400000</td>\n",
              "      <td>30</td>\n",
              "      <td>1</td>\n",
              "    </tr>\n",
              "    <tr>\n",
              "      <th>1</th>\n",
              "      <td>Q1</td>\n",
              "      <td>PL2</td>\n",
              "      <td>1124955.80</td>\n",
              "      <td>1671781.0</td>\n",
              "      <td>0.0</td>\n",
              "      <td>1.0</td>\n",
              "      <td>47.396818</td>\n",
              "      <td>10.725339</td>\n",
              "      <td>508.346943</td>\n",
              "      <td>3400000</td>\n",
              "      <td>30</td>\n",
              "      <td>1</td>\n",
              "    </tr>\n",
              "    <tr>\n",
              "      <th>2</th>\n",
              "      <td>Q1</td>\n",
              "      <td>PL1</td>\n",
              "      <td>6577804.30</td>\n",
              "      <td>13444895.0</td>\n",
              "      <td>160.0</td>\n",
              "      <td>1.0</td>\n",
              "      <td>42.640875</td>\n",
              "      <td>118.666060</td>\n",
              "      <td>5060.024631</td>\n",
              "      <td>3000000</td>\n",
              "      <td>30</td>\n",
              "      <td>1</td>\n",
              "    </tr>\n",
              "    <tr>\n",
              "      <th>3</th>\n",
              "      <td>Q1</td>\n",
              "      <td>PL2</td>\n",
              "      <td>1124955.80</td>\n",
              "      <td>1671717.0</td>\n",
              "      <td>64.0</td>\n",
              "      <td>1.0</td>\n",
              "      <td>43.162714</td>\n",
              "      <td>13.880640</td>\n",
              "      <td>599.126098</td>\n",
              "      <td>3000000</td>\n",
              "      <td>30</td>\n",
              "      <td>1</td>\n",
              "    </tr>\n",
              "    <tr>\n",
              "      <th>4</th>\n",
              "      <td>Q1</td>\n",
              "      <td>PL1</td>\n",
              "      <td>6577804.30</td>\n",
              "      <td>13444735.0</td>\n",
              "      <td>320.0</td>\n",
              "      <td>1.0</td>\n",
              "      <td>40.652008</td>\n",
              "      <td>129.509526</td>\n",
              "      <td>5264.822247</td>\n",
              "      <td>2700000</td>\n",
              "      <td>30</td>\n",
              "      <td>1</td>\n",
              "    </tr>\n",
              "    <tr>\n",
              "      <th>...</th>\n",
              "      <td>...</td>\n",
              "      <td>...</td>\n",
              "      <td>...</td>\n",
              "      <td>...</td>\n",
              "      <td>...</td>\n",
              "      <td>...</td>\n",
              "      <td>...</td>\n",
              "      <td>...</td>\n",
              "      <td>...</td>\n",
              "      <td>...</td>\n",
              "      <td>...</td>\n",
              "      <td>...</td>\n",
              "    </tr>\n",
              "    <tr>\n",
              "      <th>13123</th>\n",
              "      <td>Q69</td>\n",
              "      <td>PL1</td>\n",
              "      <td>1.06</td>\n",
              "      <td>6728253.0</td>\n",
              "      <td>22299.0</td>\n",
              "      <td>1.0</td>\n",
              "      <td>36.695500</td>\n",
              "      <td>1.159333</td>\n",
              "      <td>42.542304</td>\n",
              "      <td>800000</td>\n",
              "      <td>50</td>\n",
              "      <td>5</td>\n",
              "    </tr>\n",
              "    <tr>\n",
              "      <th>13124</th>\n",
              "      <td>Q69</td>\n",
              "      <td>PL2</td>\n",
              "      <td>0.06</td>\n",
              "      <td>2242751.0</td>\n",
              "      <td>7433.0</td>\n",
              "      <td>5.0</td>\n",
              "      <td>36.695500</td>\n",
              "      <td>0.000124</td>\n",
              "      <td>0.004550</td>\n",
              "      <td>800000</td>\n",
              "      <td>50</td>\n",
              "      <td>5</td>\n",
              "    </tr>\n",
              "    <tr>\n",
              "      <th>13125</th>\n",
              "      <td>Q69</td>\n",
              "      <td>PL3</td>\n",
              "      <td>984244.72</td>\n",
              "      <td>5785685.0</td>\n",
              "      <td>19202.0</td>\n",
              "      <td>5.0</td>\n",
              "      <td>37.873383</td>\n",
              "      <td>58.415605</td>\n",
              "      <td>2212.396601</td>\n",
              "      <td>800000</td>\n",
              "      <td>50</td>\n",
              "      <td>5</td>\n",
              "    </tr>\n",
              "    <tr>\n",
              "      <th>13126</th>\n",
              "      <td>Q69</td>\n",
              "      <td>PL4</td>\n",
              "      <td>126576.30</td>\n",
              "      <td>582412.0</td>\n",
              "      <td>8746.0</td>\n",
              "      <td>5.0</td>\n",
              "      <td>36.019750</td>\n",
              "      <td>3.620635</td>\n",
              "      <td>130.414368</td>\n",
              "      <td>800000</td>\n",
              "      <td>50</td>\n",
              "      <td>5</td>\n",
              "    </tr>\n",
              "    <tr>\n",
              "      <th>13127</th>\n",
              "      <td>Q69</td>\n",
              "      <td>PL5</td>\n",
              "      <td>0.50</td>\n",
              "      <td>0.0</td>\n",
              "      <td>10.0</td>\n",
              "      <td>5.0</td>\n",
              "      <td>33.504500</td>\n",
              "      <td>0.000093</td>\n",
              "      <td>0.003116</td>\n",
              "      <td>800000</td>\n",
              "      <td>50</td>\n",
              "      <td>5</td>\n",
              "    </tr>\n",
              "  </tbody>\n",
              "</table>\n",
              "<p>13128 rows × 12 columns</p>\n",
              "</div>"
            ],
            "text/plain": [
              "         Q pipeline    cpu_cost     io_cost  mem_cost  dop_pl      power  \\\n",
              "0       Q1      PL1  6577804.30  13445055.0       0.0     1.0  45.823890   \n",
              "1       Q1      PL2  1124955.80   1671781.0       0.0     1.0  47.396818   \n",
              "2       Q1      PL1  6577804.30  13444895.0     160.0     1.0  42.640875   \n",
              "3       Q1      PL2  1124955.80   1671717.0      64.0     1.0  43.162714   \n",
              "4       Q1      PL1  6577804.30  13444735.0     320.0     1.0  40.652008   \n",
              "...    ...      ...         ...         ...       ...     ...        ...   \n",
              "13123  Q69      PL1        1.06   6728253.0   22299.0     1.0  36.695500   \n",
              "13124  Q69      PL2        0.06   2242751.0    7433.0     5.0  36.695500   \n",
              "13125  Q69      PL3   984244.72   5785685.0   19202.0     5.0  37.873383   \n",
              "13126  Q69      PL4   126576.30    582412.0    8746.0     5.0  36.019750   \n",
              "13127  Q69      PL5        0.50         0.0      10.0     5.0  33.504500   \n",
              "\n",
              "             time       energy  frequency  db_name  dop_q  \n",
              "0      108.183241  4957.376926    3400000       30      1  \n",
              "1       10.725339   508.346943    3400000       30      1  \n",
              "2      118.666060  5060.024631    3000000       30      1  \n",
              "3       13.880640   599.126098    3000000       30      1  \n",
              "4      129.509526  5264.822247    2700000       30      1  \n",
              "...           ...          ...        ...      ...    ...  \n",
              "13123    1.159333    42.542304     800000       50      5  \n",
              "13124    0.000124     0.004550     800000       50      5  \n",
              "13125   58.415605  2212.396601     800000       50      5  \n",
              "13126    3.620635   130.414368     800000       50      5  \n",
              "13127    0.000093     0.003116     800000       50      5  \n",
              "\n",
              "[13128 rows x 12 columns]"
            ]
          },
          "execution_count": 6,
          "metadata": {},
          "output_type": "execute_result"
        }
      ],
      "source": [
        "pl"
      ]
    },
    {
      "cell_type": "markdown",
      "metadata": {
        "id": "XTvyIVrf35KC"
      },
      "source": [
        "\n",
        "\n",
        "*   Turning the data into an operatot based Data\n",
        "\n"
      ]
    },
    {
      "cell_type": "code",
      "execution_count": 7,
      "metadata": {
        "id": "APWAtBkn4ooy"
      },
      "outputs": [],
      "source": [
        "obm = pl_data.groupby(['Q', 'frequency','db_name','dop_q']).agg({'cpu_cost':'sum','io_cost':'sum','mem_cost':'sum','power':'mean','time':'sum','energy':'sum'})   "
      ]
    },
    {
      "cell_type": "code",
      "execution_count": 8,
      "metadata": {
        "colab": {
          "base_uri": "https://localhost:8080/",
          "height": 0
        },
        "id": "2p92yPR35UFl",
        "outputId": "d95c0368-f75f-4245-e322-da2e1b4d0300"
      },
      "outputs": [
        {
          "data": {
            "text/html": [
              "<div>\n",
              "<style scoped>\n",
              "    .dataframe tbody tr th:only-of-type {\n",
              "        vertical-align: middle;\n",
              "    }\n",
              "\n",
              "    .dataframe tbody tr th {\n",
              "        vertical-align: top;\n",
              "    }\n",
              "\n",
              "    .dataframe thead th {\n",
              "        text-align: right;\n",
              "    }\n",
              "</style>\n",
              "<table border=\"1\" class=\"dataframe\">\n",
              "  <thead>\n",
              "    <tr style=\"text-align: right;\">\n",
              "      <th></th>\n",
              "      <th></th>\n",
              "      <th></th>\n",
              "      <th></th>\n",
              "      <th>cpu_cost</th>\n",
              "      <th>io_cost</th>\n",
              "      <th>mem_cost</th>\n",
              "      <th>power</th>\n",
              "      <th>time</th>\n",
              "      <th>energy</th>\n",
              "    </tr>\n",
              "    <tr>\n",
              "      <th>Q</th>\n",
              "      <th>frequency</th>\n",
              "      <th>db_name</th>\n",
              "      <th>dop_q</th>\n",
              "      <th></th>\n",
              "      <th></th>\n",
              "      <th></th>\n",
              "      <th></th>\n",
              "      <th></th>\n",
              "      <th></th>\n",
              "    </tr>\n",
              "  </thead>\n",
              "  <tbody>\n",
              "    <tr>\n",
              "      <th rowspan=\"5\" valign=\"top\">Q1</th>\n",
              "      <th rowspan=\"5\" valign=\"top\">800000</th>\n",
              "      <th rowspan=\"3\" valign=\"top\">tpch_sf10</th>\n",
              "      <th>0</th>\n",
              "      <td>4120605.58</td>\n",
              "      <td>5913014.0</td>\n",
              "      <td>1568.0</td>\n",
              "      <td>34.175525</td>\n",
              "      <td>222.955604</td>\n",
              "      <td>7615.165005</td>\n",
              "    </tr>\n",
              "    <tr>\n",
              "      <th>2</th>\n",
              "      <td>2275057.64</td>\n",
              "      <td>10169850.0</td>\n",
              "      <td>10864.0</td>\n",
              "      <td>34.973158</td>\n",
              "      <td>103.389149</td>\n",
              "      <td>3750.426459</td>\n",
              "    </tr>\n",
              "    <tr>\n",
              "      <th>4</th>\n",
              "      <td>1845717.27</td>\n",
              "      <td>10159482.0</td>\n",
              "      <td>24896.0</td>\n",
              "      <td>35.329217</td>\n",
              "      <td>84.357679</td>\n",
              "      <td>3127.275856</td>\n",
              "    </tr>\n",
              "    <tr>\n",
              "      <th rowspan=\"2\" valign=\"top\">tpch_sf30</th>\n",
              "      <th>0</th>\n",
              "      <td>7702760.10</td>\n",
              "      <td>15115268.0</td>\n",
              "      <td>1568.0</td>\n",
              "      <td>35.304098</td>\n",
              "      <td>283.583761</td>\n",
              "      <td>10000.472460</td>\n",
              "    </tr>\n",
              "    <tr>\n",
              "      <th>2</th>\n",
              "      <td>4992709.65</td>\n",
              "      <td>25219453.0</td>\n",
              "      <td>10864.0</td>\n",
              "      <td>35.284884</td>\n",
              "      <td>132.233541</td>\n",
              "      <td>4921.347300</td>\n",
              "    </tr>\n",
              "    <tr>\n",
              "      <th>...</th>\n",
              "      <th>...</th>\n",
              "      <th>...</th>\n",
              "      <th>...</th>\n",
              "      <td>...</td>\n",
              "      <td>...</td>\n",
              "      <td>...</td>\n",
              "      <td>...</td>\n",
              "      <td>...</td>\n",
              "      <td>...</td>\n",
              "    </tr>\n",
              "    <tr>\n",
              "      <th rowspan=\"5\" valign=\"top\">Q9</th>\n",
              "      <th rowspan=\"5\" valign=\"top\">3400000</th>\n",
              "      <th rowspan=\"2\" valign=\"top\">tpch_sf30</th>\n",
              "      <th>2</th>\n",
              "      <td>3921513.32</td>\n",
              "      <td>30997175.0</td>\n",
              "      <td>104936.0</td>\n",
              "      <td>44.784420</td>\n",
              "      <td>45.843774</td>\n",
              "      <td>2365.852650</td>\n",
              "    </tr>\n",
              "    <tr>\n",
              "      <th>4</th>\n",
              "      <td>3883152.03</td>\n",
              "      <td>31172873.0</td>\n",
              "      <td>105143.0</td>\n",
              "      <td>49.004159</td>\n",
              "      <td>46.246768</td>\n",
              "      <td>2499.240081</td>\n",
              "    </tr>\n",
              "    <tr>\n",
              "      <th rowspan=\"3\" valign=\"top\">tpch_sf50</th>\n",
              "      <th>0</th>\n",
              "      <td>6693778.36</td>\n",
              "      <td>32159661.0</td>\n",
              "      <td>73750.0</td>\n",
              "      <td>43.106363</td>\n",
              "      <td>81.159479</td>\n",
              "      <td>3982.120529</td>\n",
              "    </tr>\n",
              "    <tr>\n",
              "      <th>2</th>\n",
              "      <td>6473996.27</td>\n",
              "      <td>48209999.0</td>\n",
              "      <td>105319.0</td>\n",
              "      <td>46.524270</td>\n",
              "      <td>50.596098</td>\n",
              "      <td>2852.003210</td>\n",
              "    </tr>\n",
              "    <tr>\n",
              "      <th>4</th>\n",
              "      <td>6434676.93</td>\n",
              "      <td>48383652.0</td>\n",
              "      <td>105462.0</td>\n",
              "      <td>50.112061</td>\n",
              "      <td>53.495765</td>\n",
              "      <td>3013.414837</td>\n",
              "    </tr>\n",
              "  </tbody>\n",
              "</table>\n",
              "<p>4872 rows × 6 columns</p>\n",
              "</div>"
            ],
            "text/plain": [
              "                                cpu_cost     io_cost  mem_cost      power  \\\n",
              "Q  frequency db_name   dop_q                                                \n",
              "Q1 800000    tpch_sf10 0      4120605.58   5913014.0    1568.0  34.175525   \n",
              "                       2      2275057.64  10169850.0   10864.0  34.973158   \n",
              "                       4      1845717.27  10159482.0   24896.0  35.329217   \n",
              "             tpch_sf30 0      7702760.10  15115268.0    1568.0  35.304098   \n",
              "                       2      4992709.65  25219453.0   10864.0  35.284884   \n",
              "...                                  ...         ...       ...        ...   \n",
              "Q9 3400000   tpch_sf30 2      3921513.32  30997175.0  104936.0  44.784420   \n",
              "                       4      3883152.03  31172873.0  105143.0  49.004159   \n",
              "             tpch_sf50 0      6693778.36  32159661.0   73750.0  43.106363   \n",
              "                       2      6473996.27  48209999.0  105319.0  46.524270   \n",
              "                       4      6434676.93  48383652.0  105462.0  50.112061   \n",
              "\n",
              "                                    time        energy  \n",
              "Q  frequency db_name   dop_q                            \n",
              "Q1 800000    tpch_sf10 0      222.955604   7615.165005  \n",
              "                       2      103.389149   3750.426459  \n",
              "                       4       84.357679   3127.275856  \n",
              "             tpch_sf30 0      283.583761  10000.472460  \n",
              "                       2      132.233541   4921.347300  \n",
              "...                                  ...           ...  \n",
              "Q9 3400000   tpch_sf30 2       45.843774   2365.852650  \n",
              "                       4       46.246768   2499.240081  \n",
              "             tpch_sf50 0       81.159479   3982.120529  \n",
              "                       2       50.596098   2852.003210  \n",
              "                       4       53.495765   3013.414837  \n",
              "\n",
              "[4872 rows x 6 columns]"
            ]
          },
          "execution_count": 8,
          "metadata": {},
          "output_type": "execute_result"
        }
      ],
      "source": [
        "obm"
      ]
    },
    {
      "cell_type": "code",
      "execution_count": 9,
      "metadata": {
        "colab": {
          "base_uri": "https://localhost:8080/",
          "height": 0
        },
        "id": "FYG21Rezfj0M",
        "outputId": "8099ee1a-481a-4003-e3fb-929098b4e920"
      },
      "outputs": [
        {
          "data": {
            "text/html": [
              "<div>\n",
              "<style scoped>\n",
              "    .dataframe tbody tr th:only-of-type {\n",
              "        vertical-align: middle;\n",
              "    }\n",
              "\n",
              "    .dataframe tbody tr th {\n",
              "        vertical-align: top;\n",
              "    }\n",
              "\n",
              "    .dataframe thead th {\n",
              "        text-align: right;\n",
              "    }\n",
              "</style>\n",
              "<table border=\"1\" class=\"dataframe\">\n",
              "  <thead>\n",
              "    <tr style=\"text-align: right;\">\n",
              "      <th></th>\n",
              "      <th></th>\n",
              "      <th></th>\n",
              "      <th></th>\n",
              "      <th>cpu_cost</th>\n",
              "      <th>io_cost</th>\n",
              "      <th>mem_cost</th>\n",
              "      <th>power</th>\n",
              "      <th>time</th>\n",
              "      <th>energy</th>\n",
              "    </tr>\n",
              "    <tr>\n",
              "      <th>Q</th>\n",
              "      <th>frequency</th>\n",
              "      <th>db_name</th>\n",
              "      <th>dop_q</th>\n",
              "      <th></th>\n",
              "      <th></th>\n",
              "      <th></th>\n",
              "      <th></th>\n",
              "      <th></th>\n",
              "      <th></th>\n",
              "    </tr>\n",
              "  </thead>\n",
              "  <tbody>\n",
              "    <tr>\n",
              "      <th rowspan=\"5\" valign=\"top\">Q1</th>\n",
              "      <th rowspan=\"5\" valign=\"top\">800000</th>\n",
              "      <th rowspan=\"3\" valign=\"top\">tpch_sf10</th>\n",
              "      <th>0</th>\n",
              "      <td>4120605.58</td>\n",
              "      <td>5913014.0</td>\n",
              "      <td>1568.0</td>\n",
              "      <td>34.175525</td>\n",
              "      <td>222.955604</td>\n",
              "      <td>7615.165005</td>\n",
              "    </tr>\n",
              "    <tr>\n",
              "      <th>2</th>\n",
              "      <td>2275057.64</td>\n",
              "      <td>10169850.0</td>\n",
              "      <td>10864.0</td>\n",
              "      <td>34.973158</td>\n",
              "      <td>103.389149</td>\n",
              "      <td>3750.426459</td>\n",
              "    </tr>\n",
              "    <tr>\n",
              "      <th>4</th>\n",
              "      <td>1845717.27</td>\n",
              "      <td>10159482.0</td>\n",
              "      <td>24896.0</td>\n",
              "      <td>35.329217</td>\n",
              "      <td>84.357679</td>\n",
              "      <td>3127.275856</td>\n",
              "    </tr>\n",
              "    <tr>\n",
              "      <th rowspan=\"2\" valign=\"top\">tpch_sf30</th>\n",
              "      <th>0</th>\n",
              "      <td>7702760.10</td>\n",
              "      <td>15115268.0</td>\n",
              "      <td>1568.0</td>\n",
              "      <td>35.304098</td>\n",
              "      <td>283.583761</td>\n",
              "      <td>10000.472460</td>\n",
              "    </tr>\n",
              "    <tr>\n",
              "      <th>2</th>\n",
              "      <td>4992709.65</td>\n",
              "      <td>25219453.0</td>\n",
              "      <td>10864.0</td>\n",
              "      <td>35.284884</td>\n",
              "      <td>132.233541</td>\n",
              "      <td>4921.347300</td>\n",
              "    </tr>\n",
              "  </tbody>\n",
              "</table>\n",
              "</div>"
            ],
            "text/plain": [
              "                                cpu_cost     io_cost  mem_cost      power  \\\n",
              "Q  frequency db_name   dop_q                                                \n",
              "Q1 800000    tpch_sf10 0      4120605.58   5913014.0    1568.0  34.175525   \n",
              "                       2      2275057.64  10169850.0   10864.0  34.973158   \n",
              "                       4      1845717.27  10159482.0   24896.0  35.329217   \n",
              "             tpch_sf30 0      7702760.10  15115268.0    1568.0  35.304098   \n",
              "                       2      4992709.65  25219453.0   10864.0  35.284884   \n",
              "\n",
              "                                    time        energy  \n",
              "Q  frequency db_name   dop_q                            \n",
              "Q1 800000    tpch_sf10 0      222.955604   7615.165005  \n",
              "                       2      103.389149   3750.426459  \n",
              "                       4       84.357679   3127.275856  \n",
              "             tpch_sf30 0      283.583761  10000.472460  \n",
              "                       2      132.233541   4921.347300  "
            ]
          },
          "execution_count": 9,
          "metadata": {},
          "output_type": "execute_result"
        }
      ],
      "source": [
        "obm.head()"
      ]
    },
    {
      "cell_type": "markdown",
      "metadata": {
        "id": "uqp_4ajKAjTS"
      },
      "source": [
        "# Modeling : Testing the different features "
      ]
    },
    {
      "cell_type": "markdown",
      "metadata": {
        "id": "BDKvyMy8oJXi"
      },
      "source": [
        "## Polynomial regression for **PBM**"
      ]
    },
    {
      "cell_type": "code",
      "execution_count": 10,
      "metadata": {
        "colab": {
          "base_uri": "https://localhost:8080/"
        },
        "id": "kD4-xQIASUsA",
        "outputId": "62a5888d-2dba-4823-9ae4-f7ae8ea12e37"
      },
      "outputs": [
        {
          "data": {
            "text/plain": [
              "array([30, 10, 50], dtype=int64)"
            ]
          },
          "execution_count": 10,
          "metadata": {},
          "output_type": "execute_result"
        }
      ],
      "source": [
        "pl.db_name.unique()"
      ]
    },
    {
      "cell_type": "code",
      "execution_count": 11,
      "metadata": {
        "id": "4gJI5AlL9xYe"
      },
      "outputs": [],
      "source": [
        "train_x_values  = pl[['cpu_cost' , 'io_cost' , 'mem_cost', 'dop_pl','frequency','db_name']].values\n",
        "test_x_values = pl_test[['cpu_cost' , 'io_cost' , 'mem_cost', 'dop_pl','frequency','db_name']].values\n",
        "\n",
        "train_y = pl['power'].values\n",
        "test_y = pl_test['power'].values\n",
        "\n",
        "scaler = StandardScaler().fit(train_x_values)\n"
      ]
    },
    {
      "cell_type": "code",
      "execution_count": 12,
      "metadata": {
        "id": "dDjA-5QJCMmy"
      },
      "outputs": [],
      "source": [
        "train_x_scaled = scaler.transform(train_x_values)\n",
        "test_x_scaled = scaler.transform(test_x_values)"
      ]
    },
    {
      "cell_type": "code",
      "execution_count": 13,
      "metadata": {
        "id": "8ZcUsJaPGWqR"
      },
      "outputs": [],
      "source": [
        "poly_model = PolynomialFeatures(degree=2)\n",
        "poly_x_train = poly_model.fit_transform(train_x_scaled)\n",
        "poly_x_test = poly_model.fit_transform(test_x_scaled)\n",
        "\n"
      ]
    },
    {
      "cell_type": "code",
      "execution_count": 14,
      "metadata": {
        "colab": {
          "base_uri": "https://localhost:8080/"
        },
        "id": "cNo7q0qbLUdA",
        "outputId": "91102d09-48f6-4f69-8c83-3c0b4eb00934"
      },
      "outputs": [
        {
          "data": {
            "text/plain": [
              "LinearRegression()"
            ]
          },
          "execution_count": 14,
          "metadata": {},
          "output_type": "execute_result"
        }
      ],
      "source": [
        "regression_model = LinearRegression()\n",
        "regression_model.fit(poly_x_train,train_y)\n",
        "\n",
        "\n"
      ]
    },
    {
      "cell_type": "code",
      "execution_count": 15,
      "metadata": {
        "colab": {
          "base_uri": "https://localhost:8080/"
        },
        "id": "f1M8MKSqLiJ8",
        "outputId": "3ea3fec7-cc64-414a-f375-175191a9ed61"
      },
      "outputs": [
        {
          "data": {
            "text/plain": [
              "array([ 4.56728691e-16,  6.18177929e+00, -2.63119363e+00, -7.16563361e-01,\n",
              "        3.88577039e+00,  4.07627392e+00, -4.47408578e-01, -1.69794061e-01,\n",
              "       -4.00925074e-02, -5.05213933e-01,  1.50045520e+00,  8.54891283e-01,\n",
              "       -2.12698697e+00,  1.52118064e-01, -6.52720912e-03, -1.40198344e+00,\n",
              "       -7.37221201e-01,  7.40689185e-01,  1.95248872e-01,  1.08593384e-01,\n",
              "        1.83566447e-01, -5.58768355e-01, -1.13008970e+00,  1.41866729e+00,\n",
              "        1.29848086e-01,  9.80417621e-01,  3.88129002e-02,  1.62269869e-01])"
            ]
          },
          "execution_count": 15,
          "metadata": {},
          "output_type": "execute_result"
        }
      ],
      "source": [
        "\n",
        "pred_y = regression_model.predict(poly_x_train)\n",
        "regression_model.coef_"
      ]
    },
    {
      "cell_type": "markdown",
      "metadata": {
        "id": "27Uq4waKoejF"
      },
      "source": [
        "### PR Evaluation"
      ]
    },
    {
      "cell_type": "code",
      "execution_count": 16,
      "metadata": {
        "colab": {
          "base_uri": "https://localhost:8080/"
        },
        "id": "G0qvUUHiMqLH",
        "outputId": "e96d3540-46a6-4e93-d45a-bb6af8c24c5a"
      },
      "outputs": [
        {
          "data": {
            "text/plain": [
              "0.10221322880331973"
            ]
          },
          "execution_count": 16,
          "metadata": {},
          "output_type": "execute_result"
        }
      ],
      "source": [
        "mean_absolute_percentage_error(train_y,pred_y)"
      ]
    },
    {
      "attachments": {},
      "cell_type": "markdown",
      "metadata": {
        "id": "fsAzW7nZ7Yf-"
      },
      "source": [
        "MSE"
      ]
    },
    {
      "cell_type": "code",
      "execution_count": 17,
      "metadata": {
        "colab": {
          "base_uri": "https://localhost:8080/"
        },
        "id": "AdWTMnpFPDY_",
        "outputId": "14674ce2-d0a9-4c45-fd0f-37d78b98e299"
      },
      "outputs": [
        {
          "data": {
            "text/plain": [
              "2262.7791650065546"
            ]
          },
          "execution_count": 17,
          "metadata": {},
          "output_type": "execute_result"
        }
      ],
      "source": [
        "\n",
        "pred_y = regression_model.predict(poly_x_test)\n",
        "mean_squared_error(test_y,pred_y, squared=False)"
      ]
    },
    {
      "attachments": {},
      "cell_type": "markdown",
      "metadata": {
        "id": "QVcu2hOo7egr"
      },
      "source": [
        "RMSE"
      ]
    },
    {
      "cell_type": "code",
      "execution_count": 18,
      "metadata": {
        "colab": {
          "base_uri": "https://localhost:8080/"
        },
        "id": "hGJJTbcZaLGW",
        "outputId": "8a8bbf0b-62ad-40f6-dc1a-ab1639e47f62"
      },
      "outputs": [
        {
          "data": {
            "text/plain": [
              "47.5686784029844"
            ]
          },
          "execution_count": 18,
          "metadata": {},
          "output_type": "execute_result"
        }
      ],
      "source": [
        "math.sqrt(mean_squared_error(test_y,pred_y, squared=False))"
      ]
    },
    {
      "attachments": {},
      "cell_type": "markdown",
      "metadata": {
        "id": "wJ-7BT3T7kW2"
      },
      "source": [
        " MAE"
      ]
    },
    {
      "cell_type": "code",
      "execution_count": 19,
      "metadata": {
        "colab": {
          "base_uri": "https://localhost:8080/"
        },
        "id": "K1m6qK-8PfW7",
        "outputId": "4fcb2e3e-d51b-4d45-f85e-272cb12c5569"
      },
      "outputs": [
        {
          "data": {
            "text/plain": [
              "381.77275654765776"
            ]
          },
          "execution_count": 19,
          "metadata": {},
          "output_type": "execute_result"
        }
      ],
      "source": [
        "mean_absolute_error(test_y,pred_y)\n"
      ]
    },
    {
      "attachments": {},
      "cell_type": "markdown",
      "metadata": {
        "id": "mGntJ72v7oko"
      },
      "source": [
        "MAPE"
      ]
    },
    {
      "cell_type": "code",
      "execution_count": 20,
      "metadata": {
        "colab": {
          "base_uri": "https://localhost:8080/"
        },
        "id": "A4APPOqGTzNH",
        "outputId": "2ca4894b-d8bd-4834-8a71-860005f66c0a"
      },
      "outputs": [
        {
          "data": {
            "text/plain": [
              "7.371598874391049"
            ]
          },
          "execution_count": 20,
          "metadata": {},
          "output_type": "execute_result"
        }
      ],
      "source": [
        "mean_absolute_percentage_error(test_y,pred_y)"
      ]
    },
    {
      "cell_type": "markdown",
      "metadata": {
        "id": "GSbWLVKnfY6l"
      },
      "source": [
        "## Random forest regression for **PBM**"
      ]
    },
    {
      "cell_type": "code",
      "execution_count": 21,
      "metadata": {
        "id": "ykjdI6_27Jpf"
      },
      "outputs": [],
      "source": [
        "from sklearn.ensemble import RandomForestRegressor"
      ]
    },
    {
      "cell_type": "code",
      "execution_count": 22,
      "metadata": {
        "colab": {
          "base_uri": "https://localhost:8080/"
        },
        "id": "Lt_qsxv48LW8",
        "outputId": "2342e636-97ee-4db8-9eaf-34aba12b4d31"
      },
      "outputs": [
        {
          "data": {
            "text/plain": [
              "RandomForestRegressor(random_state=0)"
            ]
          },
          "execution_count": 22,
          "metadata": {},
          "output_type": "execute_result"
        }
      ],
      "source": [
        "rfr = RandomForestRegressor(n_estimators = 100, random_state = 0)\n",
        "\n",
        "rfr.fit(train_x_scaled,train_y)"
      ]
    },
    {
      "cell_type": "markdown",
      "metadata": {
        "id": "qH-4zGtipg1J"
      },
      "source": [
        "### evaluation"
      ]
    },
    {
      "cell_type": "code",
      "execution_count": 23,
      "metadata": {
        "colab": {
          "base_uri": "https://localhost:8080/"
        },
        "id": "VrHJVojh8k2Y",
        "outputId": "083c2195-f5bc-40d6-cbe0-fb9754f80097"
      },
      "outputs": [
        {
          "data": {
            "text/plain": [
              "0.022505329322795187"
            ]
          },
          "execution_count": 23,
          "metadata": {},
          "output_type": "execute_result"
        }
      ],
      "source": [
        "pred_y = rfr.predict(train_x_scaled)\n",
        "mean_absolute_percentage_error(train_y,pred_y)"
      ]
    },
    {
      "cell_type": "markdown",
      "metadata": {
        "id": "r5mbQWmm9ZSj"
      },
      "source": [
        "#### MAPE"
      ]
    },
    {
      "cell_type": "code",
      "execution_count": 24,
      "metadata": {
        "colab": {
          "base_uri": "https://localhost:8080/"
        },
        "id": "D_J5N6Hg87is",
        "outputId": "57ca7f83-39ef-4d4e-a0b4-a0379e6170e5"
      },
      "outputs": [
        {
          "data": {
            "text/plain": [
              "0.20706075778595592"
            ]
          },
          "execution_count": 24,
          "metadata": {},
          "output_type": "execute_result"
        }
      ],
      "source": [
        "pred_y = rfr.predict(test_x_values)\n",
        "mean_absolute_percentage_error(test_y,pred_y)"
      ]
    },
    {
      "cell_type": "code",
      "execution_count": 25,
      "metadata": {
        "colab": {
          "base_uri": "https://localhost:8080/"
        },
        "id": "ixcVOqQf9Wrr",
        "outputId": "9799a986-f1dd-40f0-8007-3492f9a0b0d5"
      },
      "outputs": [
        {
          "data": {
            "text/plain": [
              "11.818586063818493"
            ]
          },
          "execution_count": 25,
          "metadata": {},
          "output_type": "execute_result"
        }
      ],
      "source": [
        "mean_squared_error(test_y,pred_y, squared=False)"
      ]
    },
    {
      "cell_type": "code",
      "execution_count": 26,
      "metadata": {
        "colab": {
          "base_uri": "https://localhost:8080/"
        },
        "id": "gu0c-c4y-BGm",
        "outputId": "e463196e-93c8-4612-b86f-b61947510b8e"
      },
      "outputs": [
        {
          "data": {
            "text/plain": [
              "3.4378170492070246"
            ]
          },
          "execution_count": 26,
          "metadata": {},
          "output_type": "execute_result"
        }
      ],
      "source": [
        "math.sqrt(mean_squared_error(test_y,pred_y, squared=False))"
      ]
    },
    {
      "cell_type": "code",
      "execution_count": 27,
      "metadata": {
        "colab": {
          "base_uri": "https://localhost:8080/"
        },
        "id": "NYq6u8SJ-Jpn",
        "outputId": "8be8c25e-61b2-408c-abbc-0d65d4146c0f"
      },
      "outputs": [
        {
          "data": {
            "text/plain": [
              "9.849156889994637"
            ]
          },
          "execution_count": 27,
          "metadata": {},
          "output_type": "execute_result"
        }
      ],
      "source": [
        "mean_absolute_error(test_y,pred_y)\n"
      ]
    },
    {
      "cell_type": "markdown",
      "metadata": {
        "id": "fjsEIm_zR1zA"
      },
      "source": [
        "## SVM for **PBM**"
      ]
    },
    {
      "cell_type": "code",
      "execution_count": 28,
      "metadata": {
        "colab": {
          "base_uri": "https://localhost:8080/"
        },
        "id": "oflDxi7w-RXU",
        "outputId": "5a4cbe81-01a8-4f17-d120-f0c7c5f1cc4b"
      },
      "outputs": [
        {
          "data": {
            "text/plain": [
              "SVR(degree=1, kernel='linear')"
            ]
          },
          "execution_count": 28,
          "metadata": {},
          "output_type": "execute_result"
        }
      ],
      "source": [
        "from sklearn import svm\n",
        "from sklearn.metrics import accuracy_score\n",
        "\n",
        "svr = svm.SVR(kernel = 'linear',  degree=1)\n",
        "svr.fit(train_x_scaled,train_y)\n",
        "\n"
      ]
    },
    {
      "cell_type": "markdown",
      "metadata": {
        "id": "bQuGa4hFprud"
      },
      "source": [
        "### evaluation"
      ]
    },
    {
      "cell_type": "code",
      "execution_count": 29,
      "metadata": {
        "colab": {
          "base_uri": "https://localhost:8080/"
        },
        "id": "m6OIVmQd_e7S",
        "outputId": "ad813ded-19f0-4aab-ad49-93463cd3db32"
      },
      "outputs": [
        {
          "data": {
            "text/plain": [
              "0.11818319427564268"
            ]
          },
          "execution_count": 29,
          "metadata": {},
          "output_type": "execute_result"
        }
      ],
      "source": [
        "pred_y = svr.predict(train_x_scaled)\n",
        "mean_absolute_percentage_error(train_y,pred_y)\n"
      ]
    },
    {
      "cell_type": "code",
      "execution_count": 30,
      "metadata": {
        "colab": {
          "base_uri": "https://localhost:8080/"
        },
        "id": "P6A-GYHiFAAX",
        "outputId": "ce22755a-984a-4c5f-806d-1a1659096e87"
      },
      "outputs": [
        {
          "data": {
            "text/plain": [
              "0.19083330652914865"
            ]
          },
          "execution_count": 30,
          "metadata": {},
          "output_type": "execute_result"
        }
      ],
      "source": [
        "pred_y = svr.predict(test_x_scaled)\n",
        "mean_absolute_percentage_error(test_y,pred_y)"
      ]
    },
    {
      "cell_type": "code",
      "execution_count": 31,
      "metadata": {
        "colab": {
          "base_uri": "https://localhost:8080/"
        },
        "id": "jrBd5CV1FM21",
        "outputId": "8d5831ef-ebd4-49b9-875c-02cf0ce83f77"
      },
      "outputs": [
        {
          "data": {
            "text/plain": [
              "11.244372712564655"
            ]
          },
          "execution_count": 31,
          "metadata": {},
          "output_type": "execute_result"
        }
      ],
      "source": [
        "mean_squared_error(test_y,pred_y, squared=False)"
      ]
    },
    {
      "cell_type": "code",
      "execution_count": 32,
      "metadata": {
        "colab": {
          "base_uri": "https://localhost:8080/"
        },
        "id": "k5XxL0QxFUt1",
        "outputId": "988794dc-fb3a-4938-88ce-e19d39be4825"
      },
      "outputs": [
        {
          "data": {
            "text/plain": [
              "3.353262994840198"
            ]
          },
          "execution_count": 32,
          "metadata": {},
          "output_type": "execute_result"
        }
      ],
      "source": [
        "math.sqrt(mean_squared_error(test_y,pred_y, squared=False))"
      ]
    },
    {
      "cell_type": "code",
      "execution_count": 33,
      "metadata": {
        "colab": {
          "base_uri": "https://localhost:8080/"
        },
        "id": "fP_IdZR7FXI4",
        "outputId": "9409dfac-67ae-43c9-ac66-c8c659f76b15"
      },
      "outputs": [
        {
          "data": {
            "text/plain": [
              "9.848865571380223"
            ]
          },
          "execution_count": 33,
          "metadata": {},
          "output_type": "execute_result"
        }
      ],
      "source": [
        "mean_absolute_error(test_y,pred_y)\n"
      ]
    },
    {
      "cell_type": "code",
      "execution_count": null,
      "metadata": {
        "id": "42iQ4jJGFY5A"
      },
      "outputs": [],
      "source": []
    },
    {
      "attachments": {},
      "cell_type": "markdown",
      "metadata": {
        "id": "Ar1vPQ8FGhVZ"
      },
      "source": [
        "## Pipeline based model comparaison"
      ]
    },
    {
      "cell_type": "code",
      "execution_count": 34,
      "metadata": {
        "id": "HE6K6s9QGiqz"
      },
      "outputs": [],
      "source": [
        "train_pred = svr.predict(train_x_scaled)"
      ]
    },
    {
      "cell_type": "code",
      "execution_count": 35,
      "metadata": {
        "colab": {
          "base_uri": "https://localhost:8080/",
          "height": 0
        },
        "id": "3L5tttw6HQKh",
        "outputId": "8b40b2c5-ebbe-4516-9b41-9125ec9c1e22"
      },
      "outputs": [
        {
          "data": {
            "text/html": [
              "<div>\n",
              "<style scoped>\n",
              "    .dataframe tbody tr th:only-of-type {\n",
              "        vertical-align: middle;\n",
              "    }\n",
              "\n",
              "    .dataframe tbody tr th {\n",
              "        vertical-align: top;\n",
              "    }\n",
              "\n",
              "    .dataframe thead th {\n",
              "        text-align: right;\n",
              "    }\n",
              "</style>\n",
              "<table border=\"1\" class=\"dataframe\">\n",
              "  <thead>\n",
              "    <tr style=\"text-align: right;\">\n",
              "      <th></th>\n",
              "      <th>Q</th>\n",
              "      <th>pipeline</th>\n",
              "      <th>cpu_cost</th>\n",
              "      <th>io_cost</th>\n",
              "      <th>mem_cost</th>\n",
              "      <th>dop_pl</th>\n",
              "      <th>power</th>\n",
              "      <th>time</th>\n",
              "      <th>energy</th>\n",
              "      <th>governor</th>\n",
              "      <th>frequency</th>\n",
              "      <th>db_name</th>\n",
              "      <th>dop_q</th>\n",
              "      <th>HT: Disabled</th>\n",
              "      <th>C-states: Enabled</th>\n",
              "      <th>TurboBoost: Disabled</th>\n",
              "      <th>PC: i7</th>\n",
              "    </tr>\n",
              "  </thead>\n",
              "  <tbody>\n",
              "    <tr>\n",
              "      <th>0</th>\n",
              "      <td>Q1</td>\n",
              "      <td>PL1</td>\n",
              "      <td>6577804.3</td>\n",
              "      <td>13445055.0</td>\n",
              "      <td>0.0</td>\n",
              "      <td>0.0</td>\n",
              "      <td>45.823890</td>\n",
              "      <td>108.183241</td>\n",
              "      <td>4957.376926</td>\n",
              "      <td>userspace</td>\n",
              "      <td>3400000</td>\n",
              "      <td>tpch_sf30</td>\n",
              "      <td>0</td>\n",
              "      <td>HT: Disabled</td>\n",
              "      <td>C-states: Enabled</td>\n",
              "      <td>TurboBoost: Disabled</td>\n",
              "      <td>PC: i7</td>\n",
              "    </tr>\n",
              "    <tr>\n",
              "      <th>1</th>\n",
              "      <td>Q1</td>\n",
              "      <td>PL2</td>\n",
              "      <td>1124955.8</td>\n",
              "      <td>1671781.0</td>\n",
              "      <td>0.0</td>\n",
              "      <td>0.0</td>\n",
              "      <td>47.396818</td>\n",
              "      <td>10.725339</td>\n",
              "      <td>508.346943</td>\n",
              "      <td>userspace</td>\n",
              "      <td>3400000</td>\n",
              "      <td>tpch_sf30</td>\n",
              "      <td>0</td>\n",
              "      <td>HT: Disabled</td>\n",
              "      <td>C-states: Enabled</td>\n",
              "      <td>TurboBoost: Disabled</td>\n",
              "      <td>PC: i7</td>\n",
              "    </tr>\n",
              "    <tr>\n",
              "      <th>2</th>\n",
              "      <td>Q1</td>\n",
              "      <td>PL1</td>\n",
              "      <td>6577804.3</td>\n",
              "      <td>13444895.0</td>\n",
              "      <td>160.0</td>\n",
              "      <td>0.0</td>\n",
              "      <td>42.640875</td>\n",
              "      <td>118.666060</td>\n",
              "      <td>5060.024631</td>\n",
              "      <td>userspace</td>\n",
              "      <td>3000000</td>\n",
              "      <td>tpch_sf30</td>\n",
              "      <td>0</td>\n",
              "      <td>HT: Disabled</td>\n",
              "      <td>C-states: Enabled</td>\n",
              "      <td>TurboBoost: Disabled</td>\n",
              "      <td>PC: i7</td>\n",
              "    </tr>\n",
              "    <tr>\n",
              "      <th>3</th>\n",
              "      <td>Q1</td>\n",
              "      <td>PL2</td>\n",
              "      <td>1124955.8</td>\n",
              "      <td>1671717.0</td>\n",
              "      <td>64.0</td>\n",
              "      <td>0.0</td>\n",
              "      <td>43.162714</td>\n",
              "      <td>13.880640</td>\n",
              "      <td>599.126098</td>\n",
              "      <td>userspace</td>\n",
              "      <td>3000000</td>\n",
              "      <td>tpch_sf30</td>\n",
              "      <td>0</td>\n",
              "      <td>HT: Disabled</td>\n",
              "      <td>C-states: Enabled</td>\n",
              "      <td>TurboBoost: Disabled</td>\n",
              "      <td>PC: i7</td>\n",
              "    </tr>\n",
              "    <tr>\n",
              "      <th>4</th>\n",
              "      <td>Q1</td>\n",
              "      <td>PL1</td>\n",
              "      <td>6577804.3</td>\n",
              "      <td>13444735.0</td>\n",
              "      <td>320.0</td>\n",
              "      <td>0.0</td>\n",
              "      <td>40.652008</td>\n",
              "      <td>129.509526</td>\n",
              "      <td>5264.822247</td>\n",
              "      <td>userspace</td>\n",
              "      <td>2700000</td>\n",
              "      <td>tpch_sf30</td>\n",
              "      <td>0</td>\n",
              "      <td>HT: Disabled</td>\n",
              "      <td>C-states: Enabled</td>\n",
              "      <td>TurboBoost: Disabled</td>\n",
              "      <td>PC: i7</td>\n",
              "    </tr>\n",
              "  </tbody>\n",
              "</table>\n",
              "</div>"
            ],
            "text/plain": [
              "    Q pipeline   cpu_cost     io_cost  mem_cost  dop_pl      power  \\\n",
              "0  Q1      PL1  6577804.3  13445055.0       0.0     0.0  45.823890   \n",
              "1  Q1      PL2  1124955.8   1671781.0       0.0     0.0  47.396818   \n",
              "2  Q1      PL1  6577804.3  13444895.0     160.0     0.0  42.640875   \n",
              "3  Q1      PL2  1124955.8   1671717.0      64.0     0.0  43.162714   \n",
              "4  Q1      PL1  6577804.3  13444735.0     320.0     0.0  40.652008   \n",
              "\n",
              "         time       energy   governor  frequency    db_name  dop_q  \\\n",
              "0  108.183241  4957.376926  userspace    3400000  tpch_sf30      0   \n",
              "1   10.725339   508.346943  userspace    3400000  tpch_sf30      0   \n",
              "2  118.666060  5060.024631  userspace    3000000  tpch_sf30      0   \n",
              "3   13.880640   599.126098  userspace    3000000  tpch_sf30      0   \n",
              "4  129.509526  5264.822247  userspace    2700000  tpch_sf30      0   \n",
              "\n",
              "   HT: Disabled  C-states: Enabled  TurboBoost: Disabled  PC: i7  \n",
              "0  HT: Disabled  C-states: Enabled  TurboBoost: Disabled  PC: i7  \n",
              "1  HT: Disabled  C-states: Enabled  TurboBoost: Disabled  PC: i7  \n",
              "2  HT: Disabled  C-states: Enabled  TurboBoost: Disabled  PC: i7  \n",
              "3  HT: Disabled  C-states: Enabled  TurboBoost: Disabled  PC: i7  \n",
              "4  HT: Disabled  C-states: Enabled  TurboBoost: Disabled  PC: i7  "
            ]
          },
          "execution_count": 35,
          "metadata": {},
          "output_type": "execute_result"
        }
      ],
      "source": [
        "pl_data.head()"
      ]
    },
    {
      "cell_type": "code",
      "execution_count": 36,
      "metadata": {
        "colab": {
          "base_uri": "https://localhost:8080/",
          "height": 0
        },
        "id": "SZ_le8tLGrer",
        "outputId": "64d2271b-90f3-42b2-a367-8aeae408e1b9"
      },
      "outputs": [
        {
          "data": {
            "text/html": [
              "<div>\n",
              "<style scoped>\n",
              "    .dataframe tbody tr th:only-of-type {\n",
              "        vertical-align: middle;\n",
              "    }\n",
              "\n",
              "    .dataframe tbody tr th {\n",
              "        vertical-align: top;\n",
              "    }\n",
              "\n",
              "    .dataframe thead th {\n",
              "        text-align: right;\n",
              "    }\n",
              "</style>\n",
              "<table border=\"1\" class=\"dataframe\">\n",
              "  <thead>\n",
              "    <tr style=\"text-align: right;\">\n",
              "      <th></th>\n",
              "      <th>Q</th>\n",
              "      <th>pipeline</th>\n",
              "      <th>cpu_cost</th>\n",
              "      <th>io_cost</th>\n",
              "      <th>mem_cost</th>\n",
              "      <th>dop_pl</th>\n",
              "      <th>power</th>\n",
              "      <th>time</th>\n",
              "      <th>energy</th>\n",
              "      <th>frequency</th>\n",
              "      <th>db_name</th>\n",
              "      <th>dop_q</th>\n",
              "      <th>predict power</th>\n",
              "    </tr>\n",
              "  </thead>\n",
              "  <tbody>\n",
              "    <tr>\n",
              "      <th>0</th>\n",
              "      <td>Q1</td>\n",
              "      <td>PL1</td>\n",
              "      <td>6577804.3</td>\n",
              "      <td>13445055.0</td>\n",
              "      <td>0.0</td>\n",
              "      <td>1.0</td>\n",
              "      <td>45.823890</td>\n",
              "      <td>108.183241</td>\n",
              "      <td>4957.376926</td>\n",
              "      <td>3400000</td>\n",
              "      <td>30</td>\n",
              "      <td>1</td>\n",
              "      <td>47.758231</td>\n",
              "    </tr>\n",
              "    <tr>\n",
              "      <th>1</th>\n",
              "      <td>Q1</td>\n",
              "      <td>PL2</td>\n",
              "      <td>1124955.8</td>\n",
              "      <td>1671781.0</td>\n",
              "      <td>0.0</td>\n",
              "      <td>1.0</td>\n",
              "      <td>47.396818</td>\n",
              "      <td>10.725339</td>\n",
              "      <td>508.346943</td>\n",
              "      <td>3400000</td>\n",
              "      <td>30</td>\n",
              "      <td>1</td>\n",
              "      <td>44.895434</td>\n",
              "    </tr>\n",
              "    <tr>\n",
              "      <th>2</th>\n",
              "      <td>Q1</td>\n",
              "      <td>PL1</td>\n",
              "      <td>6577804.3</td>\n",
              "      <td>13444895.0</td>\n",
              "      <td>160.0</td>\n",
              "      <td>1.0</td>\n",
              "      <td>42.640875</td>\n",
              "      <td>118.666060</td>\n",
              "      <td>5060.024631</td>\n",
              "      <td>3000000</td>\n",
              "      <td>30</td>\n",
              "      <td>1</td>\n",
              "      <td>45.744111</td>\n",
              "    </tr>\n",
              "    <tr>\n",
              "      <th>3</th>\n",
              "      <td>Q1</td>\n",
              "      <td>PL2</td>\n",
              "      <td>1124955.8</td>\n",
              "      <td>1671717.0</td>\n",
              "      <td>64.0</td>\n",
              "      <td>1.0</td>\n",
              "      <td>43.162714</td>\n",
              "      <td>13.880640</td>\n",
              "      <td>599.126098</td>\n",
              "      <td>3000000</td>\n",
              "      <td>30</td>\n",
              "      <td>1</td>\n",
              "      <td>42.881226</td>\n",
              "    </tr>\n",
              "    <tr>\n",
              "      <th>4</th>\n",
              "      <td>Q1</td>\n",
              "      <td>PL1</td>\n",
              "      <td>6577804.3</td>\n",
              "      <td>13444735.0</td>\n",
              "      <td>320.0</td>\n",
              "      <td>1.0</td>\n",
              "      <td>40.652008</td>\n",
              "      <td>129.509526</td>\n",
              "      <td>5264.822247</td>\n",
              "      <td>2700000</td>\n",
              "      <td>30</td>\n",
              "      <td>1</td>\n",
              "      <td>44.233558</td>\n",
              "    </tr>\n",
              "  </tbody>\n",
              "</table>\n",
              "</div>"
            ],
            "text/plain": [
              "    Q pipeline   cpu_cost     io_cost  mem_cost  dop_pl      power  \\\n",
              "0  Q1      PL1  6577804.3  13445055.0       0.0     1.0  45.823890   \n",
              "1  Q1      PL2  1124955.8   1671781.0       0.0     1.0  47.396818   \n",
              "2  Q1      PL1  6577804.3  13444895.0     160.0     1.0  42.640875   \n",
              "3  Q1      PL2  1124955.8   1671717.0      64.0     1.0  43.162714   \n",
              "4  Q1      PL1  6577804.3  13444735.0     320.0     1.0  40.652008   \n",
              "\n",
              "         time       energy  frequency  db_name  dop_q  predict power  \n",
              "0  108.183241  4957.376926    3400000       30      1      47.758231  \n",
              "1   10.725339   508.346943    3400000       30      1      44.895434  \n",
              "2  118.666060  5060.024631    3000000       30      1      45.744111  \n",
              "3   13.880640   599.126098    3000000       30      1      42.881226  \n",
              "4  129.509526  5264.822247    2700000       30      1      44.233558  "
            ]
          },
          "execution_count": 36,
          "metadata": {},
          "output_type": "execute_result"
        }
      ],
      "source": [
        "pipeline = pl\n",
        "pipeline_test = pl_test\n",
        "\n",
        "pipeline['predict power'] = train_pred\n",
        "pipeline.head()"
      ]
    },
    {
      "cell_type": "code",
      "execution_count": 37,
      "metadata": {
        "id": "rgAGmy6pKRp1"
      },
      "outputs": [],
      "source": [
        "test_pred = svr.predict(test_x_scaled)\n",
        "pipeline_test['predict power'] = test_pred"
      ]
    },
    {
      "cell_type": "code",
      "execution_count": 38,
      "metadata": {
        "id": "0LTf-nYzH4uc"
      },
      "outputs": [],
      "source": [
        "query = pipeline.groupby(['Q', 'frequency','db_name','dop_q']).agg({'cpu_cost':'sum','io_cost':'sum','mem_cost':'sum','power':'mean','time':'sum','energy':'sum','predict power':'mean'})   \n",
        "\n",
        "\n",
        "query_test = pipeline_test.groupby(['Q', 'frequency','db_name','dop_q']).agg({'cpu_cost':'sum','io_cost':'sum','mem_cost':'sum','power':'mean','time':'sum','energy':'sum','predict power':'mean'})  "
      ]
    },
    {
      "cell_type": "code",
      "execution_count": 39,
      "metadata": {
        "colab": {
          "base_uri": "https://localhost:8080/",
          "height": 0
        },
        "id": "a3tsb40HIkcU",
        "outputId": "13062d76-e3ea-4878-bd6d-99ab5238d322"
      },
      "outputs": [
        {
          "data": {
            "text/html": [
              "<div>\n",
              "<style scoped>\n",
              "    .dataframe tbody tr th:only-of-type {\n",
              "        vertical-align: middle;\n",
              "    }\n",
              "\n",
              "    .dataframe tbody tr th {\n",
              "        vertical-align: top;\n",
              "    }\n",
              "\n",
              "    .dataframe thead th {\n",
              "        text-align: right;\n",
              "    }\n",
              "</style>\n",
              "<table border=\"1\" class=\"dataframe\">\n",
              "  <thead>\n",
              "    <tr style=\"text-align: right;\">\n",
              "      <th></th>\n",
              "      <th></th>\n",
              "      <th></th>\n",
              "      <th></th>\n",
              "      <th>cpu_cost</th>\n",
              "      <th>io_cost</th>\n",
              "      <th>mem_cost</th>\n",
              "      <th>power</th>\n",
              "      <th>time</th>\n",
              "      <th>energy</th>\n",
              "      <th>predict power</th>\n",
              "    </tr>\n",
              "    <tr>\n",
              "      <th>Q</th>\n",
              "      <th>frequency</th>\n",
              "      <th>db_name</th>\n",
              "      <th>dop_q</th>\n",
              "      <th></th>\n",
              "      <th></th>\n",
              "      <th></th>\n",
              "      <th></th>\n",
              "      <th></th>\n",
              "      <th></th>\n",
              "      <th></th>\n",
              "    </tr>\n",
              "  </thead>\n",
              "  <tbody>\n",
              "    <tr>\n",
              "      <th rowspan=\"5\" valign=\"top\">Q10</th>\n",
              "      <th rowspan=\"3\" valign=\"top\">800000</th>\n",
              "      <th rowspan=\"3\" valign=\"top\">50</th>\n",
              "      <th>1</th>\n",
              "      <td>22352.12</td>\n",
              "      <td>0.0</td>\n",
              "      <td>327119.0</td>\n",
              "      <td>42.069778</td>\n",
              "      <td>1.015118</td>\n",
              "      <td>42.746629</td>\n",
              "      <td>31.193292</td>\n",
              "    </tr>\n",
              "    <tr>\n",
              "      <th>3</th>\n",
              "      <td>21249.63</td>\n",
              "      <td>0.0</td>\n",
              "      <td>443191.0</td>\n",
              "      <td>41.947500</td>\n",
              "      <td>0.474873</td>\n",
              "      <td>19.919735</td>\n",
              "      <td>35.209371</td>\n",
              "    </tr>\n",
              "    <tr>\n",
              "      <th>5</th>\n",
              "      <td>20995.79</td>\n",
              "      <td>0.0</td>\n",
              "      <td>386078.0</td>\n",
              "      <td>43.745000</td>\n",
              "      <td>0.390372</td>\n",
              "      <td>17.076823</td>\n",
              "      <td>35.194733</td>\n",
              "    </tr>\n",
              "    <tr>\n",
              "      <th rowspan=\"2\" valign=\"top\">2100000</th>\n",
              "      <th rowspan=\"2\" valign=\"top\">50</th>\n",
              "      <th>1</th>\n",
              "      <td>22352.12</td>\n",
              "      <td>0.0</td>\n",
              "      <td>327119.0</td>\n",
              "      <td>42.085000</td>\n",
              "      <td>0.413096</td>\n",
              "      <td>17.385145</td>\n",
              "      <td>37.739658</td>\n",
              "    </tr>\n",
              "    <tr>\n",
              "      <th>3</th>\n",
              "      <td>21249.63</td>\n",
              "      <td>0.0</td>\n",
              "      <td>443191.0</td>\n",
              "      <td>41.820000</td>\n",
              "      <td>0.195814</td>\n",
              "      <td>8.188941</td>\n",
              "      <td>41.755736</td>\n",
              "    </tr>\n",
              "    <tr>\n",
              "      <th>...</th>\n",
              "      <th>...</th>\n",
              "      <th>...</th>\n",
              "      <th>...</th>\n",
              "      <td>...</td>\n",
              "      <td>...</td>\n",
              "      <td>...</td>\n",
              "      <td>...</td>\n",
              "      <td>...</td>\n",
              "      <td>...</td>\n",
              "      <td>...</td>\n",
              "    </tr>\n",
              "    <tr>\n",
              "      <th rowspan=\"5\" valign=\"top\">Q84</th>\n",
              "      <th rowspan=\"2\" valign=\"top\">2100000</th>\n",
              "      <th rowspan=\"2\" valign=\"top\">50</th>\n",
              "      <th>3</th>\n",
              "      <td>160077.34</td>\n",
              "      <td>6105429.0</td>\n",
              "      <td>10295218.0</td>\n",
              "      <td>50.771583</td>\n",
              "      <td>36.645826</td>\n",
              "      <td>1942.315237</td>\n",
              "      <td>42.410115</td>\n",
              "    </tr>\n",
              "    <tr>\n",
              "      <th>5</th>\n",
              "      <td>153619.34</td>\n",
              "      <td>6091391.0</td>\n",
              "      <td>10309570.0</td>\n",
              "      <td>48.469491</td>\n",
              "      <td>27.086951</td>\n",
              "      <td>1467.318888</td>\n",
              "      <td>45.402110</td>\n",
              "    </tr>\n",
              "    <tr>\n",
              "      <th rowspan=\"3\" valign=\"top\">3400000</th>\n",
              "      <th rowspan=\"3\" valign=\"top\">50</th>\n",
              "      <th>1</th>\n",
              "      <td>182678.62</td>\n",
              "      <td>4637755.0</td>\n",
              "      <td>7721228.0</td>\n",
              "      <td>51.114939</td>\n",
              "      <td>80.223375</td>\n",
              "      <td>4348.754140</td>\n",
              "      <td>45.534954</td>\n",
              "    </tr>\n",
              "    <tr>\n",
              "      <th>3</th>\n",
              "      <td>160077.34</td>\n",
              "      <td>6733157.0</td>\n",
              "      <td>9667490.0</td>\n",
              "      <td>58.042317</td>\n",
              "      <td>38.626416</td>\n",
              "      <td>2359.098527</td>\n",
              "      <td>48.812438</td>\n",
              "    </tr>\n",
              "    <tr>\n",
              "      <th>5</th>\n",
              "      <td>153619.34</td>\n",
              "      <td>6703293.0</td>\n",
              "      <td>9697632.0</td>\n",
              "      <td>56.404586</td>\n",
              "      <td>28.362208</td>\n",
              "      <td>1843.836847</td>\n",
              "      <td>51.808057</td>\n",
              "    </tr>\n",
              "  </tbody>\n",
              "</table>\n",
              "<p>140 rows × 7 columns</p>\n",
              "</div>"
            ],
            "text/plain": [
              "                              cpu_cost    io_cost    mem_cost      power  \\\n",
              "Q   frequency db_name dop_q                                                \n",
              "Q10 800000    50      1       22352.12        0.0    327119.0  42.069778   \n",
              "                      3       21249.63        0.0    443191.0  41.947500   \n",
              "                      5       20995.79        0.0    386078.0  43.745000   \n",
              "    2100000   50      1       22352.12        0.0    327119.0  42.085000   \n",
              "                      3       21249.63        0.0    443191.0  41.820000   \n",
              "...                                ...        ...         ...        ...   \n",
              "Q84 2100000   50      3      160077.34  6105429.0  10295218.0  50.771583   \n",
              "                      5      153619.34  6091391.0  10309570.0  48.469491   \n",
              "    3400000   50      1      182678.62  4637755.0   7721228.0  51.114939   \n",
              "                      3      160077.34  6733157.0   9667490.0  58.042317   \n",
              "                      5      153619.34  6703293.0   9697632.0  56.404586   \n",
              "\n",
              "                                  time       energy  predict power  \n",
              "Q   frequency db_name dop_q                                         \n",
              "Q10 800000    50      1       1.015118    42.746629      31.193292  \n",
              "                      3       0.474873    19.919735      35.209371  \n",
              "                      5       0.390372    17.076823      35.194733  \n",
              "    2100000   50      1       0.413096    17.385145      37.739658  \n",
              "                      3       0.195814     8.188941      41.755736  \n",
              "...                                ...          ...            ...  \n",
              "Q84 2100000   50      3      36.645826  1942.315237      42.410115  \n",
              "                      5      27.086951  1467.318888      45.402110  \n",
              "    3400000   50      1      80.223375  4348.754140      45.534954  \n",
              "                      3      38.626416  2359.098527      48.812438  \n",
              "                      5      28.362208  1843.836847      51.808057  \n",
              "\n",
              "[140 rows x 7 columns]"
            ]
          },
          "execution_count": 39,
          "metadata": {},
          "output_type": "execute_result"
        }
      ],
      "source": [
        "query_test"
      ]
    },
    {
      "cell_type": "markdown",
      "metadata": {
        "id": "2X5vwfOjJG0o"
      },
      "source": [
        "PBM acuracy for query"
      ]
    },
    {
      "cell_type": "code",
      "execution_count": 40,
      "metadata": {
        "colab": {
          "base_uri": "https://localhost:8080/"
        },
        "id": "pMVjE18cIlxQ",
        "outputId": "cf2a365a-23a2-4fc6-eb63-8abab4514945"
      },
      "outputs": [
        {
          "data": {
            "text/plain": [
              "0.07117046689696033"
            ]
          },
          "execution_count": 40,
          "metadata": {},
          "output_type": "execute_result"
        }
      ],
      "source": [
        "mean_absolute_percentage_error(query['power'],query['predict power'])"
      ]
    },
    {
      "cell_type": "code",
      "execution_count": 41,
      "metadata": {
        "colab": {
          "base_uri": "https://localhost:8080/"
        },
        "id": "kFso9YgVLQ9V",
        "outputId": "6ef33db7-56fa-40ed-962e-5d56e7033091"
      },
      "outputs": [
        {
          "data": {
            "text/plain": [
              "0.18274214503288283"
            ]
          },
          "execution_count": 41,
          "metadata": {},
          "output_type": "execute_result"
        }
      ],
      "source": [
        "mean_absolute_percentage_error(query_test['power'],query_test['predict power'])"
      ]
    },
    {
      "attachments": {},
      "cell_type": "markdown",
      "metadata": {
        "id": "DdJl2gU5JNbg"
      },
      "source": [
        "## Operation based model "
      ]
    },
    {
      "cell_type": "code",
      "execution_count": 42,
      "metadata": {
        "id": "8KKcI7_yLiGG"
      },
      "outputs": [],
      "source": [
        "query = pipeline.groupby(['Q', 'frequency','db_name','dop_q']).agg({'cpu_cost':'sum','io_cost':'sum','mem_cost':'sum','power':'mean','time':'sum','energy':'sum','predict power':'mean'})  \n",
        "query_test = pipeline_test.groupby(['Q', 'frequency','db_name','dop_q']).agg({'cpu_cost':'sum','io_cost':'sum','mem_cost':'sum','power':'mean','time':'sum','energy':'sum','predict power':'mean'})  "
      ]
    },
    {
      "cell_type": "code",
      "execution_count": 43,
      "metadata": {
        "colab": {
          "base_uri": "https://localhost:8080/"
        },
        "id": "ReV9WVgtL6BT",
        "outputId": "d6c1d064-71dc-4c7e-d3b8-164998dd6661"
      },
      "outputs": [
        {
          "data": {
            "text/plain": [
              "Int64Index([ 800000,  800000,  800000,  800000,  800000,  800000,  800000,\n",
              "             800000,  800000, 1200000,\n",
              "            ...\n",
              "            3000000, 3400000, 3400000, 3400000, 3400000, 3400000, 3400000,\n",
              "            3400000, 3400000, 3400000],\n",
              "           dtype='int64', name='frequency', length=4872)"
            ]
          },
          "execution_count": 43,
          "metadata": {},
          "output_type": "execute_result"
        }
      ],
      "source": [
        "arra = query.index.get_level_values(1)\n",
        "arra"
      ]
    },
    {
      "cell_type": "code",
      "execution_count": 44,
      "metadata": {
        "colab": {
          "base_uri": "https://localhost:8080/"
        },
        "id": "TrMifO9JQvnT",
        "outputId": "cf6f5060-85b2-424e-82de-d643cbcf53d7"
      },
      "outputs": [
        {
          "name": "stderr",
          "output_type": "stream",
          "text": [
            "C:\\Users\\ASUS\\AppData\\Local\\Temp/ipykernel_12976/4057887691.py:2: SettingWithCopyWarning: \n",
            "A value is trying to be set on a copy of a slice from a DataFrame.\n",
            "Try using .loc[row_indexer,col_indexer] = value instead\n",
            "\n",
            "See the caveats in the documentation: https://pandas.pydata.org/pandas-docs/stable/user_guide/indexing.html#returning-a-view-versus-a-copy\n",
            "  df['dop_q'] = query.index.get_level_values('dop_q').values\n",
            "C:\\Users\\ASUS\\AppData\\Local\\Temp/ipykernel_12976/4057887691.py:3: SettingWithCopyWarning: \n",
            "A value is trying to be set on a copy of a slice from a DataFrame.\n",
            "Try using .loc[row_indexer,col_indexer] = value instead\n",
            "\n",
            "See the caveats in the documentation: https://pandas.pydata.org/pandas-docs/stable/user_guide/indexing.html#returning-a-view-versus-a-copy\n",
            "  df['frequency'] = query.index.get_level_values('frequency').values\n",
            "C:\\Users\\ASUS\\AppData\\Local\\Temp/ipykernel_12976/4057887691.py:4: SettingWithCopyWarning: \n",
            "A value is trying to be set on a copy of a slice from a DataFrame.\n",
            "Try using .loc[row_indexer,col_indexer] = value instead\n",
            "\n",
            "See the caveats in the documentation: https://pandas.pydata.org/pandas-docs/stable/user_guide/indexing.html#returning-a-view-versus-a-copy\n",
            "  df['db_name'] = query.index.get_level_values('db_name').values\n",
            "C:\\Users\\ASUS\\AppData\\Local\\Temp/ipykernel_12976/4057887691.py:8: SettingWithCopyWarning: \n",
            "A value is trying to be set on a copy of a slice from a DataFrame.\n",
            "Try using .loc[row_indexer,col_indexer] = value instead\n",
            "\n",
            "See the caveats in the documentation: https://pandas.pydata.org/pandas-docs/stable/user_guide/indexing.html#returning-a-view-versus-a-copy\n",
            "  df_test['dop_q'] = query_test.index.get_level_values('dop_q').values\n",
            "C:\\Users\\ASUS\\AppData\\Local\\Temp/ipykernel_12976/4057887691.py:9: SettingWithCopyWarning: \n",
            "A value is trying to be set on a copy of a slice from a DataFrame.\n",
            "Try using .loc[row_indexer,col_indexer] = value instead\n",
            "\n",
            "See the caveats in the documentation: https://pandas.pydata.org/pandas-docs/stable/user_guide/indexing.html#returning-a-view-versus-a-copy\n",
            "  df_test['frequency'] = query_test.index.get_level_values('frequency').values\n",
            "C:\\Users\\ASUS\\AppData\\Local\\Temp/ipykernel_12976/4057887691.py:10: SettingWithCopyWarning: \n",
            "A value is trying to be set on a copy of a slice from a DataFrame.\n",
            "Try using .loc[row_indexer,col_indexer] = value instead\n",
            "\n",
            "See the caveats in the documentation: https://pandas.pydata.org/pandas-docs/stable/user_guide/indexing.html#returning-a-view-versus-a-copy\n",
            "  df_test['db_name'] = query_test.index.get_level_values('db_name').values\n"
          ]
        }
      ],
      "source": [
        "df = query[['cpu_cost' , 'io_cost' , 'mem_cost']]\n",
        "df['dop_q'] = query.index.get_level_values('dop_q').values\n",
        "df['frequency'] = query.index.get_level_values('frequency').values\n",
        "df['db_name'] = query.index.get_level_values('db_name').values\n",
        "\n",
        "\n",
        "df_test = query_test[['cpu_cost' , 'io_cost' , 'mem_cost']]\n",
        "df_test['dop_q'] = query_test.index.get_level_values('dop_q').values\n",
        "df_test['frequency'] = query_test.index.get_level_values('frequency').values\n",
        "df_test['db_name'] = query_test.index.get_level_values('db_name').values"
      ]
    },
    {
      "cell_type": "code",
      "execution_count": 45,
      "metadata": {
        "colab": {
          "base_uri": "https://localhost:8080/",
          "height": 0
        },
        "id": "DX2umLLnkBCT",
        "outputId": "c452baad-7de1-403c-fb21-7725b88d79f7"
      },
      "outputs": [
        {
          "data": {
            "text/html": [
              "<div>\n",
              "<style scoped>\n",
              "    .dataframe tbody tr th:only-of-type {\n",
              "        vertical-align: middle;\n",
              "    }\n",
              "\n",
              "    .dataframe tbody tr th {\n",
              "        vertical-align: top;\n",
              "    }\n",
              "\n",
              "    .dataframe thead th {\n",
              "        text-align: right;\n",
              "    }\n",
              "</style>\n",
              "<table border=\"1\" class=\"dataframe\">\n",
              "  <thead>\n",
              "    <tr style=\"text-align: right;\">\n",
              "      <th></th>\n",
              "      <th></th>\n",
              "      <th></th>\n",
              "      <th></th>\n",
              "      <th>cpu_cost</th>\n",
              "      <th>io_cost</th>\n",
              "      <th>mem_cost</th>\n",
              "      <th>dop_q</th>\n",
              "      <th>frequency</th>\n",
              "      <th>db_name</th>\n",
              "    </tr>\n",
              "    <tr>\n",
              "      <th>Q</th>\n",
              "      <th>frequency</th>\n",
              "      <th>db_name</th>\n",
              "      <th>dop_q</th>\n",
              "      <th></th>\n",
              "      <th></th>\n",
              "      <th></th>\n",
              "      <th></th>\n",
              "      <th></th>\n",
              "      <th></th>\n",
              "    </tr>\n",
              "  </thead>\n",
              "  <tbody>\n",
              "    <tr>\n",
              "      <th rowspan=\"5\" valign=\"top\">Q10</th>\n",
              "      <th rowspan=\"3\" valign=\"top\">800000</th>\n",
              "      <th rowspan=\"3\" valign=\"top\">50</th>\n",
              "      <th>1</th>\n",
              "      <td>22352.12</td>\n",
              "      <td>0.0</td>\n",
              "      <td>327119.0</td>\n",
              "      <td>1</td>\n",
              "      <td>800000</td>\n",
              "      <td>50</td>\n",
              "    </tr>\n",
              "    <tr>\n",
              "      <th>3</th>\n",
              "      <td>21249.63</td>\n",
              "      <td>0.0</td>\n",
              "      <td>443191.0</td>\n",
              "      <td>3</td>\n",
              "      <td>800000</td>\n",
              "      <td>50</td>\n",
              "    </tr>\n",
              "    <tr>\n",
              "      <th>5</th>\n",
              "      <td>20995.79</td>\n",
              "      <td>0.0</td>\n",
              "      <td>386078.0</td>\n",
              "      <td>5</td>\n",
              "      <td>800000</td>\n",
              "      <td>50</td>\n",
              "    </tr>\n",
              "    <tr>\n",
              "      <th rowspan=\"2\" valign=\"top\">2100000</th>\n",
              "      <th rowspan=\"2\" valign=\"top\">50</th>\n",
              "      <th>1</th>\n",
              "      <td>22352.12</td>\n",
              "      <td>0.0</td>\n",
              "      <td>327119.0</td>\n",
              "      <td>1</td>\n",
              "      <td>2100000</td>\n",
              "      <td>50</td>\n",
              "    </tr>\n",
              "    <tr>\n",
              "      <th>3</th>\n",
              "      <td>21249.63</td>\n",
              "      <td>0.0</td>\n",
              "      <td>443191.0</td>\n",
              "      <td>3</td>\n",
              "      <td>2100000</td>\n",
              "      <td>50</td>\n",
              "    </tr>\n",
              "    <tr>\n",
              "      <th>...</th>\n",
              "      <th>...</th>\n",
              "      <th>...</th>\n",
              "      <th>...</th>\n",
              "      <td>...</td>\n",
              "      <td>...</td>\n",
              "      <td>...</td>\n",
              "      <td>...</td>\n",
              "      <td>...</td>\n",
              "      <td>...</td>\n",
              "    </tr>\n",
              "    <tr>\n",
              "      <th rowspan=\"5\" valign=\"top\">Q84</th>\n",
              "      <th rowspan=\"2\" valign=\"top\">2100000</th>\n",
              "      <th rowspan=\"2\" valign=\"top\">50</th>\n",
              "      <th>3</th>\n",
              "      <td>160077.34</td>\n",
              "      <td>6105429.0</td>\n",
              "      <td>10295218.0</td>\n",
              "      <td>3</td>\n",
              "      <td>2100000</td>\n",
              "      <td>50</td>\n",
              "    </tr>\n",
              "    <tr>\n",
              "      <th>5</th>\n",
              "      <td>153619.34</td>\n",
              "      <td>6091391.0</td>\n",
              "      <td>10309570.0</td>\n",
              "      <td>5</td>\n",
              "      <td>2100000</td>\n",
              "      <td>50</td>\n",
              "    </tr>\n",
              "    <tr>\n",
              "      <th rowspan=\"3\" valign=\"top\">3400000</th>\n",
              "      <th rowspan=\"3\" valign=\"top\">50</th>\n",
              "      <th>1</th>\n",
              "      <td>182678.62</td>\n",
              "      <td>4637755.0</td>\n",
              "      <td>7721228.0</td>\n",
              "      <td>1</td>\n",
              "      <td>3400000</td>\n",
              "      <td>50</td>\n",
              "    </tr>\n",
              "    <tr>\n",
              "      <th>3</th>\n",
              "      <td>160077.34</td>\n",
              "      <td>6733157.0</td>\n",
              "      <td>9667490.0</td>\n",
              "      <td>3</td>\n",
              "      <td>3400000</td>\n",
              "      <td>50</td>\n",
              "    </tr>\n",
              "    <tr>\n",
              "      <th>5</th>\n",
              "      <td>153619.34</td>\n",
              "      <td>6703293.0</td>\n",
              "      <td>9697632.0</td>\n",
              "      <td>5</td>\n",
              "      <td>3400000</td>\n",
              "      <td>50</td>\n",
              "    </tr>\n",
              "  </tbody>\n",
              "</table>\n",
              "<p>140 rows × 6 columns</p>\n",
              "</div>"
            ],
            "text/plain": [
              "                              cpu_cost    io_cost    mem_cost  dop_q  \\\n",
              "Q   frequency db_name dop_q                                            \n",
              "Q10 800000    50      1       22352.12        0.0    327119.0      1   \n",
              "                      3       21249.63        0.0    443191.0      3   \n",
              "                      5       20995.79        0.0    386078.0      5   \n",
              "    2100000   50      1       22352.12        0.0    327119.0      1   \n",
              "                      3       21249.63        0.0    443191.0      3   \n",
              "...                                ...        ...         ...    ...   \n",
              "Q84 2100000   50      3      160077.34  6105429.0  10295218.0      3   \n",
              "                      5      153619.34  6091391.0  10309570.0      5   \n",
              "    3400000   50      1      182678.62  4637755.0   7721228.0      1   \n",
              "                      3      160077.34  6733157.0   9667490.0      3   \n",
              "                      5      153619.34  6703293.0   9697632.0      5   \n",
              "\n",
              "                             frequency  db_name  \n",
              "Q   frequency db_name dop_q                      \n",
              "Q10 800000    50      1         800000       50  \n",
              "                      3         800000       50  \n",
              "                      5         800000       50  \n",
              "    2100000   50      1        2100000       50  \n",
              "                      3        2100000       50  \n",
              "...                                ...      ...  \n",
              "Q84 2100000   50      3        2100000       50  \n",
              "                      5        2100000       50  \n",
              "    3400000   50      1        3400000       50  \n",
              "                      3        3400000       50  \n",
              "                      5        3400000       50  \n",
              "\n",
              "[140 rows x 6 columns]"
            ]
          },
          "execution_count": 45,
          "metadata": {},
          "output_type": "execute_result"
        }
      ],
      "source": [
        "df_test"
      ]
    },
    {
      "cell_type": "code",
      "execution_count": 46,
      "metadata": {
        "id": "L7ytc6R9I4cs"
      },
      "outputs": [],
      "source": [
        "train_x_values  = df.values\n",
        "test_x_values = df_test.values\n",
        "\n",
        "train_y = query['power'].values\n",
        "test_y = query_test['power'].values\n",
        "\n",
        "scaler_ = StandardScaler().fit(train_x_values)\n",
        "train_x_scaled = scaler_.transform(train_x_values)\n",
        "test_x_scaled = scaler_.transform(test_x_values)"
      ]
    },
    {
      "cell_type": "code",
      "execution_count": 47,
      "metadata": {
        "colab": {
          "base_uri": "https://localhost:8080/"
        },
        "id": "58x3xMfJL0vI",
        "outputId": "12c90e75-b793-483c-d177-62baa821cca6"
      },
      "outputs": [
        {
          "data": {
            "text/plain": [
              "SVR(degree=1, kernel='linear')"
            ]
          },
          "execution_count": 47,
          "metadata": {},
          "output_type": "execute_result"
        }
      ],
      "source": [
        "svr = svm.SVR(kernel = 'linear',  degree=1)\n",
        "svr.fit(train_x_scaled,train_y)\n"
      ]
    },
    {
      "cell_type": "code",
      "execution_count": 48,
      "metadata": {
        "colab": {
          "base_uri": "https://localhost:8080/"
        },
        "id": "pjctIWAISH1A",
        "outputId": "2572da85-87ca-45ee-e38d-928292afe123"
      },
      "outputs": [
        {
          "data": {
            "text/plain": [
              "0.06369801243028848"
            ]
          },
          "execution_count": 48,
          "metadata": {},
          "output_type": "execute_result"
        }
      ],
      "source": [
        "pred_y = svr.predict(train_x_scaled)\n",
        "mean_absolute_percentage_error(train_y,pred_y)\n"
      ]
    },
    {
      "cell_type": "markdown",
      "metadata": {
        "id": "Udnh62z8SWdG"
      },
      "source": [
        "OBM accuracy"
      ]
    },
    {
      "cell_type": "code",
      "execution_count": 49,
      "metadata": {
        "colab": {
          "base_uri": "https://localhost:8080/"
        },
        "id": "NG9s23nzSLBF",
        "outputId": "403706a3-c47f-4e93-ef84-a26308492f41"
      },
      "outputs": [
        {
          "data": {
            "text/plain": [
              "0.26041942693002695"
            ]
          },
          "execution_count": 49,
          "metadata": {},
          "output_type": "execute_result"
        }
      ],
      "source": [
        "pred_y = svr.predict(test_x_scaled)\n",
        "mean_absolute_percentage_error(test_y,pred_y)"
      ]
    },
    {
      "cell_type": "markdown",
      "metadata": {
        "id": "sPWms8DYgjsM"
      },
      "source": [
        "## PBM after combinning the train and test datasets and ading DB scale factor and tpc type (tpc-h , tpc-ds )"
      ]
    },
    {
      "cell_type": "markdown",
      "metadata": {
        "id": "ZOpWXwRxsFBq"
      },
      "source": [
        "distinger tpch and tpcds"
      ]
    },
    {
      "cell_type": "code",
      "execution_count": 50,
      "metadata": {
        "id": "Vl2n2B_qSPbm"
      },
      "outputs": [],
      "source": [
        "pl_q = pl\n",
        "pl_q_1 = pl_test\n",
        "\n",
        "pl_q['tpc'] = 1\n",
        "pl_q_1['tpc'] = 2"
      ]
    },
    {
      "cell_type": "code",
      "execution_count": 51,
      "metadata": {
        "colab": {
          "base_uri": "https://localhost:8080/",
          "height": 424
        },
        "id": "NTpVZlPw3lao",
        "outputId": "59c67c86-4c1c-4533-826c-e64d92f22f35"
      },
      "outputs": [
        {
          "data": {
            "text/html": [
              "<div>\n",
              "<style scoped>\n",
              "    .dataframe tbody tr th:only-of-type {\n",
              "        vertical-align: middle;\n",
              "    }\n",
              "\n",
              "    .dataframe tbody tr th {\n",
              "        vertical-align: top;\n",
              "    }\n",
              "\n",
              "    .dataframe thead th {\n",
              "        text-align: right;\n",
              "    }\n",
              "</style>\n",
              "<table border=\"1\" class=\"dataframe\">\n",
              "  <thead>\n",
              "    <tr style=\"text-align: right;\">\n",
              "      <th></th>\n",
              "      <th>Q</th>\n",
              "      <th>pipeline</th>\n",
              "      <th>cpu_cost</th>\n",
              "      <th>io_cost</th>\n",
              "      <th>mem_cost</th>\n",
              "      <th>dop_pl</th>\n",
              "      <th>power</th>\n",
              "      <th>time</th>\n",
              "      <th>energy</th>\n",
              "      <th>frequency</th>\n",
              "      <th>db_name</th>\n",
              "      <th>dop_q</th>\n",
              "      <th>predict power</th>\n",
              "      <th>tpc</th>\n",
              "    </tr>\n",
              "  </thead>\n",
              "  <tbody>\n",
              "    <tr>\n",
              "      <th>0</th>\n",
              "      <td>Q3</td>\n",
              "      <td>PL1</td>\n",
              "      <td>253.02</td>\n",
              "      <td>848975.0</td>\n",
              "      <td>31761.0</td>\n",
              "      <td>3.0</td>\n",
              "      <td>50.550000</td>\n",
              "      <td>0.167271</td>\n",
              "      <td>8.455549</td>\n",
              "      <td>3400000</td>\n",
              "      <td>50</td>\n",
              "      <td>5</td>\n",
              "      <td>48.077822</td>\n",
              "      <td>2</td>\n",
              "    </tr>\n",
              "    <tr>\n",
              "      <th>1</th>\n",
              "      <td>Q3</td>\n",
              "      <td>PL2</td>\n",
              "      <td>1557.04</td>\n",
              "      <td>676370.0</td>\n",
              "      <td>25276.0</td>\n",
              "      <td>3.0</td>\n",
              "      <td>68.028222</td>\n",
              "      <td>8.526989</td>\n",
              "      <td>580.075903</td>\n",
              "      <td>3400000</td>\n",
              "      <td>50</td>\n",
              "      <td>5</td>\n",
              "      <td>48.100348</td>\n",
              "      <td>2</td>\n",
              "    </tr>\n",
              "    <tr>\n",
              "      <th>2</th>\n",
              "      <td>Q3</td>\n",
              "      <td>PL3</td>\n",
              "      <td>1826.22</td>\n",
              "      <td>2810.0</td>\n",
              "      <td>0.0</td>\n",
              "      <td>3.0</td>\n",
              "      <td>64.917000</td>\n",
              "      <td>0.022512</td>\n",
              "      <td>1.461412</td>\n",
              "      <td>3400000</td>\n",
              "      <td>50</td>\n",
              "      <td>5</td>\n",
              "      <td>48.184154</td>\n",
              "      <td>2</td>\n",
              "    </tr>\n",
              "    <tr>\n",
              "      <th>3</th>\n",
              "      <td>Q3</td>\n",
              "      <td>PL1</td>\n",
              "      <td>253.02</td>\n",
              "      <td>0.0</td>\n",
              "      <td>880730.0</td>\n",
              "      <td>3.0</td>\n",
              "      <td>43.861000</td>\n",
              "      <td>0.058057</td>\n",
              "      <td>2.546438</td>\n",
              "      <td>2100000</td>\n",
              "      <td>50</td>\n",
              "      <td>5</td>\n",
              "      <td>42.310698</td>\n",
              "      <td>2</td>\n",
              "    </tr>\n",
              "    <tr>\n",
              "      <th>4</th>\n",
              "      <td>Q3</td>\n",
              "      <td>PL2</td>\n",
              "      <td>1557.04</td>\n",
              "      <td>0.0</td>\n",
              "      <td>701646.0</td>\n",
              "      <td>3.0</td>\n",
              "      <td>43.861000</td>\n",
              "      <td>0.213585</td>\n",
              "      <td>9.368052</td>\n",
              "      <td>2100000</td>\n",
              "      <td>50</td>\n",
              "      <td>5</td>\n",
              "      <td>42.174800</td>\n",
              "      <td>2</td>\n",
              "    </tr>\n",
              "    <tr>\n",
              "      <th>...</th>\n",
              "      <td>...</td>\n",
              "      <td>...</td>\n",
              "      <td>...</td>\n",
              "      <td>...</td>\n",
              "      <td>...</td>\n",
              "      <td>...</td>\n",
              "      <td>...</td>\n",
              "      <td>...</td>\n",
              "      <td>...</td>\n",
              "      <td>...</td>\n",
              "      <td>...</td>\n",
              "      <td>...</td>\n",
              "      <td>...</td>\n",
              "      <td>...</td>\n",
              "    </tr>\n",
              "    <tr>\n",
              "      <th>491</th>\n",
              "      <td>Q84</td>\n",
              "      <td>PL4</td>\n",
              "      <td>4.00</td>\n",
              "      <td>0.0</td>\n",
              "      <td>2.0</td>\n",
              "      <td>1.0</td>\n",
              "      <td>48.986000</td>\n",
              "      <td>0.000020</td>\n",
              "      <td>0.000980</td>\n",
              "      <td>2100000</td>\n",
              "      <td>50</td>\n",
              "      <td>1</td>\n",
              "      <td>37.649869</td>\n",
              "      <td>2</td>\n",
              "    </tr>\n",
              "    <tr>\n",
              "      <th>492</th>\n",
              "      <td>Q84</td>\n",
              "      <td>PL1</td>\n",
              "      <td>0.00</td>\n",
              "      <td>733828.0</td>\n",
              "      <td>1286862.0</td>\n",
              "      <td>1.0</td>\n",
              "      <td>45.164500</td>\n",
              "      <td>0.000026</td>\n",
              "      <td>0.001174</td>\n",
              "      <td>800000</td>\n",
              "      <td>50</td>\n",
              "      <td>1</td>\n",
              "      <td>31.975925</td>\n",
              "      <td>2</td>\n",
              "    </tr>\n",
              "    <tr>\n",
              "      <th>493</th>\n",
              "      <td>Q84</td>\n",
              "      <td>PL2</td>\n",
              "      <td>2.22</td>\n",
              "      <td>1467656.0</td>\n",
              "      <td>2573724.0</td>\n",
              "      <td>1.0</td>\n",
              "      <td>45.574000</td>\n",
              "      <td>0.994299</td>\n",
              "      <td>45.314183</td>\n",
              "      <td>800000</td>\n",
              "      <td>50</td>\n",
              "      <td>1</td>\n",
              "      <td>32.848352</td>\n",
              "      <td>2</td>\n",
              "    </tr>\n",
              "    <tr>\n",
              "      <th>494</th>\n",
              "      <td>Q84</td>\n",
              "      <td>PL3</td>\n",
              "      <td>182672.40</td>\n",
              "      <td>2436325.0</td>\n",
              "      <td>3860586.0</td>\n",
              "      <td>1.0</td>\n",
              "      <td>46.399838</td>\n",
              "      <td>129.198325</td>\n",
              "      <td>5994.781410</td>\n",
              "      <td>800000</td>\n",
              "      <td>50</td>\n",
              "      <td>1</td>\n",
              "      <td>33.841062</td>\n",
              "      <td>2</td>\n",
              "    </tr>\n",
              "    <tr>\n",
              "      <th>495</th>\n",
              "      <td>Q84</td>\n",
              "      <td>PL4</td>\n",
              "      <td>4.00</td>\n",
              "      <td>0.0</td>\n",
              "      <td>2.0</td>\n",
              "      <td>1.0</td>\n",
              "      <td>44.801500</td>\n",
              "      <td>0.000048</td>\n",
              "      <td>0.002150</td>\n",
              "      <td>800000</td>\n",
              "      <td>50</td>\n",
              "      <td>1</td>\n",
              "      <td>31.103504</td>\n",
              "      <td>2</td>\n",
              "    </tr>\n",
              "  </tbody>\n",
              "</table>\n",
              "<p>496 rows × 14 columns</p>\n",
              "</div>"
            ],
            "text/plain": [
              "       Q pipeline   cpu_cost    io_cost   mem_cost  dop_pl      power  \\\n",
              "0     Q3      PL1     253.02   848975.0    31761.0     3.0  50.550000   \n",
              "1     Q3      PL2    1557.04   676370.0    25276.0     3.0  68.028222   \n",
              "2     Q3      PL3    1826.22     2810.0        0.0     3.0  64.917000   \n",
              "3     Q3      PL1     253.02        0.0   880730.0     3.0  43.861000   \n",
              "4     Q3      PL2    1557.04        0.0   701646.0     3.0  43.861000   \n",
              "..   ...      ...        ...        ...        ...     ...        ...   \n",
              "491  Q84      PL4       4.00        0.0        2.0     1.0  48.986000   \n",
              "492  Q84      PL1       0.00   733828.0  1286862.0     1.0  45.164500   \n",
              "493  Q84      PL2       2.22  1467656.0  2573724.0     1.0  45.574000   \n",
              "494  Q84      PL3  182672.40  2436325.0  3860586.0     1.0  46.399838   \n",
              "495  Q84      PL4       4.00        0.0        2.0     1.0  44.801500   \n",
              "\n",
              "           time       energy  frequency  db_name  dop_q  predict power  tpc  \n",
              "0      0.167271     8.455549    3400000       50      5      48.077822    2  \n",
              "1      8.526989   580.075903    3400000       50      5      48.100348    2  \n",
              "2      0.022512     1.461412    3400000       50      5      48.184154    2  \n",
              "3      0.058057     2.546438    2100000       50      5      42.310698    2  \n",
              "4      0.213585     9.368052    2100000       50      5      42.174800    2  \n",
              "..          ...          ...        ...      ...    ...            ...  ...  \n",
              "491    0.000020     0.000980    2100000       50      1      37.649869    2  \n",
              "492    0.000026     0.001174     800000       50      1      31.975925    2  \n",
              "493    0.994299    45.314183     800000       50      1      32.848352    2  \n",
              "494  129.198325  5994.781410     800000       50      1      33.841062    2  \n",
              "495    0.000048     0.002150     800000       50      1      31.103504    2  \n",
              "\n",
              "[496 rows x 14 columns]"
            ]
          },
          "execution_count": 51,
          "metadata": {},
          "output_type": "execute_result"
        }
      ],
      "source": [
        "pl_q_1"
      ]
    },
    {
      "cell_type": "code",
      "execution_count": 52,
      "metadata": {
        "id": "xPxs5d1938ig"
      },
      "outputs": [],
      "source": [
        "pl_q = pd.concat([pl_q, pl_q_1], axis=0)\n"
      ]
    },
    {
      "cell_type": "code",
      "execution_count": 53,
      "metadata": {
        "colab": {
          "base_uri": "https://localhost:8080/",
          "height": 424
        },
        "id": "njClTLwn3__4",
        "outputId": "aa5c1ac2-3f56-49cd-f030-a9d323fe2e1b"
      },
      "outputs": [
        {
          "data": {
            "text/html": [
              "<div>\n",
              "<style scoped>\n",
              "    .dataframe tbody tr th:only-of-type {\n",
              "        vertical-align: middle;\n",
              "    }\n",
              "\n",
              "    .dataframe tbody tr th {\n",
              "        vertical-align: top;\n",
              "    }\n",
              "\n",
              "    .dataframe thead th {\n",
              "        text-align: right;\n",
              "    }\n",
              "</style>\n",
              "<table border=\"1\" class=\"dataframe\">\n",
              "  <thead>\n",
              "    <tr style=\"text-align: right;\">\n",
              "      <th></th>\n",
              "      <th>Q</th>\n",
              "      <th>pipeline</th>\n",
              "      <th>cpu_cost</th>\n",
              "      <th>io_cost</th>\n",
              "      <th>mem_cost</th>\n",
              "      <th>dop_pl</th>\n",
              "      <th>power</th>\n",
              "      <th>time</th>\n",
              "      <th>energy</th>\n",
              "      <th>frequency</th>\n",
              "      <th>db_name</th>\n",
              "      <th>dop_q</th>\n",
              "      <th>predict power</th>\n",
              "      <th>tpc</th>\n",
              "    </tr>\n",
              "  </thead>\n",
              "  <tbody>\n",
              "    <tr>\n",
              "      <th>0</th>\n",
              "      <td>Q1</td>\n",
              "      <td>PL1</td>\n",
              "      <td>6577804.30</td>\n",
              "      <td>13445055.0</td>\n",
              "      <td>0.0</td>\n",
              "      <td>1.0</td>\n",
              "      <td>45.823890</td>\n",
              "      <td>108.183241</td>\n",
              "      <td>4957.376926</td>\n",
              "      <td>3400000</td>\n",
              "      <td>30</td>\n",
              "      <td>1</td>\n",
              "      <td>47.758231</td>\n",
              "      <td>1</td>\n",
              "    </tr>\n",
              "    <tr>\n",
              "      <th>1</th>\n",
              "      <td>Q1</td>\n",
              "      <td>PL2</td>\n",
              "      <td>1124955.80</td>\n",
              "      <td>1671781.0</td>\n",
              "      <td>0.0</td>\n",
              "      <td>1.0</td>\n",
              "      <td>47.396818</td>\n",
              "      <td>10.725339</td>\n",
              "      <td>508.346943</td>\n",
              "      <td>3400000</td>\n",
              "      <td>30</td>\n",
              "      <td>1</td>\n",
              "      <td>44.895434</td>\n",
              "      <td>1</td>\n",
              "    </tr>\n",
              "    <tr>\n",
              "      <th>2</th>\n",
              "      <td>Q1</td>\n",
              "      <td>PL1</td>\n",
              "      <td>6577804.30</td>\n",
              "      <td>13444895.0</td>\n",
              "      <td>160.0</td>\n",
              "      <td>1.0</td>\n",
              "      <td>42.640875</td>\n",
              "      <td>118.666060</td>\n",
              "      <td>5060.024631</td>\n",
              "      <td>3000000</td>\n",
              "      <td>30</td>\n",
              "      <td>1</td>\n",
              "      <td>45.744111</td>\n",
              "      <td>1</td>\n",
              "    </tr>\n",
              "    <tr>\n",
              "      <th>3</th>\n",
              "      <td>Q1</td>\n",
              "      <td>PL2</td>\n",
              "      <td>1124955.80</td>\n",
              "      <td>1671717.0</td>\n",
              "      <td>64.0</td>\n",
              "      <td>1.0</td>\n",
              "      <td>43.162714</td>\n",
              "      <td>13.880640</td>\n",
              "      <td>599.126098</td>\n",
              "      <td>3000000</td>\n",
              "      <td>30</td>\n",
              "      <td>1</td>\n",
              "      <td>42.881226</td>\n",
              "      <td>1</td>\n",
              "    </tr>\n",
              "    <tr>\n",
              "      <th>4</th>\n",
              "      <td>Q1</td>\n",
              "      <td>PL1</td>\n",
              "      <td>6577804.30</td>\n",
              "      <td>13444735.0</td>\n",
              "      <td>320.0</td>\n",
              "      <td>1.0</td>\n",
              "      <td>40.652008</td>\n",
              "      <td>129.509526</td>\n",
              "      <td>5264.822247</td>\n",
              "      <td>2700000</td>\n",
              "      <td>30</td>\n",
              "      <td>1</td>\n",
              "      <td>44.233558</td>\n",
              "      <td>1</td>\n",
              "    </tr>\n",
              "    <tr>\n",
              "      <th>...</th>\n",
              "      <td>...</td>\n",
              "      <td>...</td>\n",
              "      <td>...</td>\n",
              "      <td>...</td>\n",
              "      <td>...</td>\n",
              "      <td>...</td>\n",
              "      <td>...</td>\n",
              "      <td>...</td>\n",
              "      <td>...</td>\n",
              "      <td>...</td>\n",
              "      <td>...</td>\n",
              "      <td>...</td>\n",
              "      <td>...</td>\n",
              "      <td>...</td>\n",
              "    </tr>\n",
              "    <tr>\n",
              "      <th>491</th>\n",
              "      <td>Q84</td>\n",
              "      <td>PL4</td>\n",
              "      <td>4.00</td>\n",
              "      <td>0.0</td>\n",
              "      <td>2.0</td>\n",
              "      <td>1.0</td>\n",
              "      <td>48.986000</td>\n",
              "      <td>0.000020</td>\n",
              "      <td>0.000980</td>\n",
              "      <td>2100000</td>\n",
              "      <td>50</td>\n",
              "      <td>1</td>\n",
              "      <td>37.649869</td>\n",
              "      <td>2</td>\n",
              "    </tr>\n",
              "    <tr>\n",
              "      <th>492</th>\n",
              "      <td>Q84</td>\n",
              "      <td>PL1</td>\n",
              "      <td>0.00</td>\n",
              "      <td>733828.0</td>\n",
              "      <td>1286862.0</td>\n",
              "      <td>1.0</td>\n",
              "      <td>45.164500</td>\n",
              "      <td>0.000026</td>\n",
              "      <td>0.001174</td>\n",
              "      <td>800000</td>\n",
              "      <td>50</td>\n",
              "      <td>1</td>\n",
              "      <td>31.975925</td>\n",
              "      <td>2</td>\n",
              "    </tr>\n",
              "    <tr>\n",
              "      <th>493</th>\n",
              "      <td>Q84</td>\n",
              "      <td>PL2</td>\n",
              "      <td>2.22</td>\n",
              "      <td>1467656.0</td>\n",
              "      <td>2573724.0</td>\n",
              "      <td>1.0</td>\n",
              "      <td>45.574000</td>\n",
              "      <td>0.994299</td>\n",
              "      <td>45.314183</td>\n",
              "      <td>800000</td>\n",
              "      <td>50</td>\n",
              "      <td>1</td>\n",
              "      <td>32.848352</td>\n",
              "      <td>2</td>\n",
              "    </tr>\n",
              "    <tr>\n",
              "      <th>494</th>\n",
              "      <td>Q84</td>\n",
              "      <td>PL3</td>\n",
              "      <td>182672.40</td>\n",
              "      <td>2436325.0</td>\n",
              "      <td>3860586.0</td>\n",
              "      <td>1.0</td>\n",
              "      <td>46.399838</td>\n",
              "      <td>129.198325</td>\n",
              "      <td>5994.781410</td>\n",
              "      <td>800000</td>\n",
              "      <td>50</td>\n",
              "      <td>1</td>\n",
              "      <td>33.841062</td>\n",
              "      <td>2</td>\n",
              "    </tr>\n",
              "    <tr>\n",
              "      <th>495</th>\n",
              "      <td>Q84</td>\n",
              "      <td>PL4</td>\n",
              "      <td>4.00</td>\n",
              "      <td>0.0</td>\n",
              "      <td>2.0</td>\n",
              "      <td>1.0</td>\n",
              "      <td>44.801500</td>\n",
              "      <td>0.000048</td>\n",
              "      <td>0.002150</td>\n",
              "      <td>800000</td>\n",
              "      <td>50</td>\n",
              "      <td>1</td>\n",
              "      <td>31.103504</td>\n",
              "      <td>2</td>\n",
              "    </tr>\n",
              "  </tbody>\n",
              "</table>\n",
              "<p>13624 rows × 14 columns</p>\n",
              "</div>"
            ],
            "text/plain": [
              "       Q pipeline    cpu_cost     io_cost   mem_cost  dop_pl      power  \\\n",
              "0     Q1      PL1  6577804.30  13445055.0        0.0     1.0  45.823890   \n",
              "1     Q1      PL2  1124955.80   1671781.0        0.0     1.0  47.396818   \n",
              "2     Q1      PL1  6577804.30  13444895.0      160.0     1.0  42.640875   \n",
              "3     Q1      PL2  1124955.80   1671717.0       64.0     1.0  43.162714   \n",
              "4     Q1      PL1  6577804.30  13444735.0      320.0     1.0  40.652008   \n",
              "..   ...      ...         ...         ...        ...     ...        ...   \n",
              "491  Q84      PL4        4.00         0.0        2.0     1.0  48.986000   \n",
              "492  Q84      PL1        0.00    733828.0  1286862.0     1.0  45.164500   \n",
              "493  Q84      PL2        2.22   1467656.0  2573724.0     1.0  45.574000   \n",
              "494  Q84      PL3   182672.40   2436325.0  3860586.0     1.0  46.399838   \n",
              "495  Q84      PL4        4.00         0.0        2.0     1.0  44.801500   \n",
              "\n",
              "           time       energy  frequency  db_name  dop_q  predict power  tpc  \n",
              "0    108.183241  4957.376926    3400000       30      1      47.758231    1  \n",
              "1     10.725339   508.346943    3400000       30      1      44.895434    1  \n",
              "2    118.666060  5060.024631    3000000       30      1      45.744111    1  \n",
              "3     13.880640   599.126098    3000000       30      1      42.881226    1  \n",
              "4    129.509526  5264.822247    2700000       30      1      44.233558    1  \n",
              "..          ...          ...        ...      ...    ...            ...  ...  \n",
              "491    0.000020     0.000980    2100000       50      1      37.649869    2  \n",
              "492    0.000026     0.001174     800000       50      1      31.975925    2  \n",
              "493    0.994299    45.314183     800000       50      1      32.848352    2  \n",
              "494  129.198325  5994.781410     800000       50      1      33.841062    2  \n",
              "495    0.000048     0.002150     800000       50      1      31.103504    2  \n",
              "\n",
              "[13624 rows x 14 columns]"
            ]
          },
          "execution_count": 53,
          "metadata": {},
          "output_type": "execute_result"
        }
      ],
      "source": [
        "pl_q"
      ]
    },
    {
      "cell_type": "code",
      "execution_count": 54,
      "metadata": {
        "id": "QW9kiMHF4btJ"
      },
      "outputs": [],
      "source": [
        "from sklearn.model_selection import train_test_split\n",
        "\n",
        "x = pl_q[['cpu_cost', 'io_cost' , 'mem_cost' , 'dop_pl' , 'frequency' , 'db_name' , 'tpc']].values\n",
        "y = pl_q['power'].values\n",
        "\n",
        "\n",
        "x_train, x_test, y_train, y_test = train_test_split(x, y, test_size=0.1)"
      ]
    },
    {
      "cell_type": "code",
      "execution_count": 55,
      "metadata": {
        "colab": {
          "base_uri": "https://localhost:8080/"
        },
        "id": "y5ZMDCaS6YGP",
        "outputId": "9daab3d8-3088-42c4-dc0a-184799239b6a"
      },
      "outputs": [
        {
          "data": {
            "text/plain": [
              "1363"
            ]
          },
          "execution_count": 55,
          "metadata": {},
          "output_type": "execute_result"
        }
      ],
      "source": [
        "len(x_test)"
      ]
    },
    {
      "cell_type": "markdown",
      "metadata": {
        "id": "eDH5CJDjUaCt"
      },
      "source": [
        "### SVR with scale factor and frequence features for PBM"
      ]
    },
    {
      "cell_type": "code",
      "execution_count": 56,
      "metadata": {
        "id": "e-TGr_xe6Zya"
      },
      "outputs": [],
      "source": [
        "sca = StandardScaler().fit(x_train)\n",
        "x_train_scaled = sca.transform(x_train)\n",
        "x_test_scaled = sca.transform(x_test)"
      ]
    },
    {
      "cell_type": "code",
      "execution_count": 57,
      "metadata": {
        "colab": {
          "base_uri": "https://localhost:8080/"
        },
        "id": "HcGMHlxn6l7C",
        "outputId": "037e1410-206c-465d-b1a6-d58f915b4487"
      },
      "outputs": [
        {
          "data": {
            "text/plain": [
              "SVR(degree=1, kernel='linear')"
            ]
          },
          "execution_count": 57,
          "metadata": {},
          "output_type": "execute_result"
        }
      ],
      "source": [
        "svr_q = svm.SVR(kernel = 'linear',  degree=1)\n",
        "svr_q.fit(x_train_scaled,y_train)"
      ]
    },
    {
      "cell_type": "code",
      "execution_count": 58,
      "metadata": {
        "colab": {
          "base_uri": "https://localhost:8080/"
        },
        "id": "kFKRTBM97s62",
        "outputId": "c44268a5-b909-45a9-f9b4-cda3d7d7fbae"
      },
      "outputs": [
        {
          "data": {
            "text/plain": [
              "0.11693850909281082"
            ]
          },
          "execution_count": 58,
          "metadata": {},
          "output_type": "execute_result"
        }
      ],
      "source": [
        "pred_y = svr_q.predict(x_train_scaled)\n",
        "mean_absolute_percentage_error(y_train,pred_y)"
      ]
    },
    {
      "cell_type": "markdown",
      "metadata": {
        "id": "_btVGszFsvgZ"
      },
      "source": [
        "#### evaluation"
      ]
    },
    {
      "cell_type": "code",
      "execution_count": 59,
      "metadata": {
        "colab": {
          "base_uri": "https://localhost:8080/"
        },
        "id": "YbfpDVOR79Ut",
        "outputId": "aeb62e74-d295-4e5c-af44-dc602c02b91a"
      },
      "outputs": [
        {
          "data": {
            "text/plain": [
              "0.1218264920413465"
            ]
          },
          "execution_count": 59,
          "metadata": {},
          "output_type": "execute_result"
        }
      ],
      "source": [
        "pred_y = svr_q.predict(x_test_scaled)\n",
        "mean_absolute_percentage_error(y_test,pred_y)"
      ]
    },
    {
      "cell_type": "markdown",
      "metadata": {
        "id": "9KIQIyyEULVf"
      },
      "source": [
        "### RANDOM FOREST REGRESSION WITH tpc type , scale factor and frequency for PBM"
      ]
    },
    {
      "cell_type": "code",
      "execution_count": 60,
      "metadata": {
        "colab": {
          "base_uri": "https://localhost:8080/"
        },
        "id": "DVH5PmS28bqe",
        "outputId": "f82bafe3-2750-4d97-9e50-41ecc747408c"
      },
      "outputs": [
        {
          "data": {
            "text/plain": [
              "RandomForestRegressor(random_state=0)"
            ]
          },
          "execution_count": 60,
          "metadata": {},
          "output_type": "execute_result"
        }
      ],
      "source": [
        "rf = RandomForestRegressor(n_estimators = 100, random_state = 0)\n",
        "rf.fit(x_train_scaled,y_train)"
      ]
    },
    {
      "cell_type": "code",
      "execution_count": 61,
      "metadata": {
        "colab": {
          "base_uri": "https://localhost:8080/"
        },
        "id": "WYB79Mac-RG8",
        "outputId": "f18a3fae-c712-442a-a10b-7fe76cc0c875"
      },
      "outputs": [
        {
          "data": {
            "text/plain": [
              "0.022958093666024738"
            ]
          },
          "execution_count": 61,
          "metadata": {},
          "output_type": "execute_result"
        }
      ],
      "source": [
        "pred_y = rf.predict(x_train_scaled)\n",
        "mean_absolute_percentage_error(y_train,pred_y)"
      ]
    },
    {
      "cell_type": "markdown",
      "metadata": {
        "id": "UeLgtnVHtDlB"
      },
      "source": [
        "#### evaluation"
      ]
    },
    {
      "cell_type": "code",
      "execution_count": 62,
      "metadata": {
        "colab": {
          "base_uri": "https://localhost:8080/"
        },
        "id": "EewdtgSuDZBy",
        "outputId": "91d3d60d-7fe4-4bf5-ba98-0130183c6d74"
      },
      "outputs": [
        {
          "data": {
            "text/plain": [
              "0.0619594468298694"
            ]
          },
          "execution_count": 62,
          "metadata": {},
          "output_type": "execute_result"
        }
      ],
      "source": [
        "pred_y = rf.predict(x_test_scaled)\n",
        "mean_absolute_percentage_error(y_test,pred_y)"
      ]
    },
    {
      "cell_type": "code",
      "execution_count": 63,
      "metadata": {
        "colab": {
          "base_uri": "https://localhost:8080/",
          "height": 0
        },
        "id": "YW6ZFs-VcWMy",
        "outputId": "172390b3-fdee-4772-bd33-a147a812da6d"
      },
      "outputs": [
        {
          "data": {
            "text/html": [
              "<div>\n",
              "<style scoped>\n",
              "    .dataframe tbody tr th:only-of-type {\n",
              "        vertical-align: middle;\n",
              "    }\n",
              "\n",
              "    .dataframe tbody tr th {\n",
              "        vertical-align: top;\n",
              "    }\n",
              "\n",
              "    .dataframe thead th {\n",
              "        text-align: right;\n",
              "    }\n",
              "</style>\n",
              "<table border=\"1\" class=\"dataframe\">\n",
              "  <thead>\n",
              "    <tr style=\"text-align: right;\">\n",
              "      <th></th>\n",
              "      <th>feature_importances</th>\n",
              "    </tr>\n",
              "  </thead>\n",
              "  <tbody>\n",
              "    <tr>\n",
              "      <th>cpu_cost</th>\n",
              "      <td>0.330064</td>\n",
              "    </tr>\n",
              "    <tr>\n",
              "      <th>io_cost</th>\n",
              "      <td>0.109967</td>\n",
              "    </tr>\n",
              "    <tr>\n",
              "      <th>mem_cost</th>\n",
              "      <td>0.081766</td>\n",
              "    </tr>\n",
              "    <tr>\n",
              "      <th>dop_pl</th>\n",
              "      <td>0.131975</td>\n",
              "    </tr>\n",
              "    <tr>\n",
              "      <th>frequency</th>\n",
              "      <td>0.291202</td>\n",
              "    </tr>\n",
              "    <tr>\n",
              "      <th>db_name</th>\n",
              "      <td>0.010279</td>\n",
              "    </tr>\n",
              "    <tr>\n",
              "      <th>tpc</th>\n",
              "      <td>0.044747</td>\n",
              "    </tr>\n",
              "  </tbody>\n",
              "</table>\n",
              "</div>"
            ],
            "text/plain": [
              "           feature_importances\n",
              "cpu_cost              0.330064\n",
              "io_cost               0.109967\n",
              "mem_cost              0.081766\n",
              "dop_pl                0.131975\n",
              "frequency             0.291202\n",
              "db_name               0.010279\n",
              "tpc                   0.044747"
            ]
          },
          "execution_count": 63,
          "metadata": {},
          "output_type": "execute_result"
        }
      ],
      "source": [
        "cdf = pd.DataFrame(rf.feature_importances_,['cpu_cost', 'io_cost' , 'mem_cost' , 'dop_pl' , 'frequency' , 'db_name' , 'tpc'],columns=['feature_importances'])\n",
        "cdf"
      ]
    },
    {
      "cell_type": "markdown",
      "metadata": {
        "id": "m_GOMo7nJM0_"
      },
      "source": [
        "### PBM OBM COMPARAISON WITH tpc type ,scale factor and frequency "
      ]
    },
    {
      "cell_type": "code",
      "execution_count": 64,
      "metadata": {
        "id": "g3myy8w0JONx"
      },
      "outputs": [],
      "source": [
        "x_scaled = sca.transform(x)\n",
        "pred_y = rf.predict(x_scaled)"
      ]
    },
    {
      "cell_type": "code",
      "execution_count": 65,
      "metadata": {
        "colab": {
          "base_uri": "https://localhost:8080/",
          "height": 424
        },
        "id": "mmGnNlxvMEYk",
        "outputId": "6638c337-aa9a-40d1-d6b7-f0daabdb91ee"
      },
      "outputs": [
        {
          "data": {
            "text/html": [
              "<div>\n",
              "<style scoped>\n",
              "    .dataframe tbody tr th:only-of-type {\n",
              "        vertical-align: middle;\n",
              "    }\n",
              "\n",
              "    .dataframe tbody tr th {\n",
              "        vertical-align: top;\n",
              "    }\n",
              "\n",
              "    .dataframe thead th {\n",
              "        text-align: right;\n",
              "    }\n",
              "</style>\n",
              "<table border=\"1\" class=\"dataframe\">\n",
              "  <thead>\n",
              "    <tr style=\"text-align: right;\">\n",
              "      <th></th>\n",
              "      <th>Q</th>\n",
              "      <th>pipeline</th>\n",
              "      <th>cpu_cost</th>\n",
              "      <th>io_cost</th>\n",
              "      <th>mem_cost</th>\n",
              "      <th>dop_pl</th>\n",
              "      <th>power</th>\n",
              "      <th>time</th>\n",
              "      <th>energy</th>\n",
              "      <th>frequency</th>\n",
              "      <th>db_name</th>\n",
              "      <th>dop_q</th>\n",
              "      <th>predict power</th>\n",
              "      <th>tpc</th>\n",
              "      <th>power_predict</th>\n",
              "    </tr>\n",
              "  </thead>\n",
              "  <tbody>\n",
              "    <tr>\n",
              "      <th>0</th>\n",
              "      <td>Q1</td>\n",
              "      <td>PL1</td>\n",
              "      <td>6577804.30</td>\n",
              "      <td>13445055.0</td>\n",
              "      <td>0.0</td>\n",
              "      <td>1.0</td>\n",
              "      <td>45.823890</td>\n",
              "      <td>108.183241</td>\n",
              "      <td>4957.376926</td>\n",
              "      <td>3400000</td>\n",
              "      <td>30</td>\n",
              "      <td>1</td>\n",
              "      <td>47.758231</td>\n",
              "      <td>1</td>\n",
              "      <td>46.094348</td>\n",
              "    </tr>\n",
              "    <tr>\n",
              "      <th>1</th>\n",
              "      <td>Q1</td>\n",
              "      <td>PL2</td>\n",
              "      <td>1124955.80</td>\n",
              "      <td>1671781.0</td>\n",
              "      <td>0.0</td>\n",
              "      <td>1.0</td>\n",
              "      <td>47.396818</td>\n",
              "      <td>10.725339</td>\n",
              "      <td>508.346943</td>\n",
              "      <td>3400000</td>\n",
              "      <td>30</td>\n",
              "      <td>1</td>\n",
              "      <td>44.895434</td>\n",
              "      <td>1</td>\n",
              "      <td>47.874094</td>\n",
              "    </tr>\n",
              "    <tr>\n",
              "      <th>2</th>\n",
              "      <td>Q1</td>\n",
              "      <td>PL1</td>\n",
              "      <td>6577804.30</td>\n",
              "      <td>13444895.0</td>\n",
              "      <td>160.0</td>\n",
              "      <td>1.0</td>\n",
              "      <td>42.640875</td>\n",
              "      <td>118.666060</td>\n",
              "      <td>5060.024631</td>\n",
              "      <td>3000000</td>\n",
              "      <td>30</td>\n",
              "      <td>1</td>\n",
              "      <td>45.744111</td>\n",
              "      <td>1</td>\n",
              "      <td>42.855383</td>\n",
              "    </tr>\n",
              "    <tr>\n",
              "      <th>3</th>\n",
              "      <td>Q1</td>\n",
              "      <td>PL2</td>\n",
              "      <td>1124955.80</td>\n",
              "      <td>1671717.0</td>\n",
              "      <td>64.0</td>\n",
              "      <td>1.0</td>\n",
              "      <td>43.162714</td>\n",
              "      <td>13.880640</td>\n",
              "      <td>599.126098</td>\n",
              "      <td>3000000</td>\n",
              "      <td>30</td>\n",
              "      <td>1</td>\n",
              "      <td>42.881226</td>\n",
              "      <td>1</td>\n",
              "      <td>43.943876</td>\n",
              "    </tr>\n",
              "    <tr>\n",
              "      <th>4</th>\n",
              "      <td>Q1</td>\n",
              "      <td>PL1</td>\n",
              "      <td>6577804.30</td>\n",
              "      <td>13444735.0</td>\n",
              "      <td>320.0</td>\n",
              "      <td>1.0</td>\n",
              "      <td>40.652008</td>\n",
              "      <td>129.509526</td>\n",
              "      <td>5264.822247</td>\n",
              "      <td>2700000</td>\n",
              "      <td>30</td>\n",
              "      <td>1</td>\n",
              "      <td>44.233558</td>\n",
              "      <td>1</td>\n",
              "      <td>40.736587</td>\n",
              "    </tr>\n",
              "    <tr>\n",
              "      <th>...</th>\n",
              "      <td>...</td>\n",
              "      <td>...</td>\n",
              "      <td>...</td>\n",
              "      <td>...</td>\n",
              "      <td>...</td>\n",
              "      <td>...</td>\n",
              "      <td>...</td>\n",
              "      <td>...</td>\n",
              "      <td>...</td>\n",
              "      <td>...</td>\n",
              "      <td>...</td>\n",
              "      <td>...</td>\n",
              "      <td>...</td>\n",
              "      <td>...</td>\n",
              "      <td>...</td>\n",
              "    </tr>\n",
              "    <tr>\n",
              "      <th>491</th>\n",
              "      <td>Q84</td>\n",
              "      <td>PL4</td>\n",
              "      <td>4.00</td>\n",
              "      <td>0.0</td>\n",
              "      <td>2.0</td>\n",
              "      <td>1.0</td>\n",
              "      <td>48.986000</td>\n",
              "      <td>0.000020</td>\n",
              "      <td>0.000980</td>\n",
              "      <td>2100000</td>\n",
              "      <td>50</td>\n",
              "      <td>1</td>\n",
              "      <td>37.649869</td>\n",
              "      <td>2</td>\n",
              "      <td>47.943370</td>\n",
              "    </tr>\n",
              "    <tr>\n",
              "      <th>492</th>\n",
              "      <td>Q84</td>\n",
              "      <td>PL1</td>\n",
              "      <td>0.00</td>\n",
              "      <td>733828.0</td>\n",
              "      <td>1286862.0</td>\n",
              "      <td>1.0</td>\n",
              "      <td>45.164500</td>\n",
              "      <td>0.000026</td>\n",
              "      <td>0.001174</td>\n",
              "      <td>800000</td>\n",
              "      <td>50</td>\n",
              "      <td>1</td>\n",
              "      <td>31.975925</td>\n",
              "      <td>2</td>\n",
              "      <td>43.788995</td>\n",
              "    </tr>\n",
              "    <tr>\n",
              "      <th>493</th>\n",
              "      <td>Q84</td>\n",
              "      <td>PL2</td>\n",
              "      <td>2.22</td>\n",
              "      <td>1467656.0</td>\n",
              "      <td>2573724.0</td>\n",
              "      <td>1.0</td>\n",
              "      <td>45.574000</td>\n",
              "      <td>0.994299</td>\n",
              "      <td>45.314183</td>\n",
              "      <td>800000</td>\n",
              "      <td>50</td>\n",
              "      <td>1</td>\n",
              "      <td>32.848352</td>\n",
              "      <td>2</td>\n",
              "      <td>44.816440</td>\n",
              "    </tr>\n",
              "    <tr>\n",
              "      <th>494</th>\n",
              "      <td>Q84</td>\n",
              "      <td>PL3</td>\n",
              "      <td>182672.40</td>\n",
              "      <td>2436325.0</td>\n",
              "      <td>3860586.0</td>\n",
              "      <td>1.0</td>\n",
              "      <td>46.399838</td>\n",
              "      <td>129.198325</td>\n",
              "      <td>5994.781410</td>\n",
              "      <td>800000</td>\n",
              "      <td>50</td>\n",
              "      <td>1</td>\n",
              "      <td>33.841062</td>\n",
              "      <td>2</td>\n",
              "      <td>46.174296</td>\n",
              "    </tr>\n",
              "    <tr>\n",
              "      <th>495</th>\n",
              "      <td>Q84</td>\n",
              "      <td>PL4</td>\n",
              "      <td>4.00</td>\n",
              "      <td>0.0</td>\n",
              "      <td>2.0</td>\n",
              "      <td>1.0</td>\n",
              "      <td>44.801500</td>\n",
              "      <td>0.000048</td>\n",
              "      <td>0.002150</td>\n",
              "      <td>800000</td>\n",
              "      <td>50</td>\n",
              "      <td>1</td>\n",
              "      <td>31.103504</td>\n",
              "      <td>2</td>\n",
              "      <td>45.480165</td>\n",
              "    </tr>\n",
              "  </tbody>\n",
              "</table>\n",
              "<p>13624 rows × 15 columns</p>\n",
              "</div>"
            ],
            "text/plain": [
              "       Q pipeline    cpu_cost     io_cost   mem_cost  dop_pl      power  \\\n",
              "0     Q1      PL1  6577804.30  13445055.0        0.0     1.0  45.823890   \n",
              "1     Q1      PL2  1124955.80   1671781.0        0.0     1.0  47.396818   \n",
              "2     Q1      PL1  6577804.30  13444895.0      160.0     1.0  42.640875   \n",
              "3     Q1      PL2  1124955.80   1671717.0       64.0     1.0  43.162714   \n",
              "4     Q1      PL1  6577804.30  13444735.0      320.0     1.0  40.652008   \n",
              "..   ...      ...         ...         ...        ...     ...        ...   \n",
              "491  Q84      PL4        4.00         0.0        2.0     1.0  48.986000   \n",
              "492  Q84      PL1        0.00    733828.0  1286862.0     1.0  45.164500   \n",
              "493  Q84      PL2        2.22   1467656.0  2573724.0     1.0  45.574000   \n",
              "494  Q84      PL3   182672.40   2436325.0  3860586.0     1.0  46.399838   \n",
              "495  Q84      PL4        4.00         0.0        2.0     1.0  44.801500   \n",
              "\n",
              "           time       energy  frequency  db_name  dop_q  predict power  tpc  \\\n",
              "0    108.183241  4957.376926    3400000       30      1      47.758231    1   \n",
              "1     10.725339   508.346943    3400000       30      1      44.895434    1   \n",
              "2    118.666060  5060.024631    3000000       30      1      45.744111    1   \n",
              "3     13.880640   599.126098    3000000       30      1      42.881226    1   \n",
              "4    129.509526  5264.822247    2700000       30      1      44.233558    1   \n",
              "..          ...          ...        ...      ...    ...            ...  ...   \n",
              "491    0.000020     0.000980    2100000       50      1      37.649869    2   \n",
              "492    0.000026     0.001174     800000       50      1      31.975925    2   \n",
              "493    0.994299    45.314183     800000       50      1      32.848352    2   \n",
              "494  129.198325  5994.781410     800000       50      1      33.841062    2   \n",
              "495    0.000048     0.002150     800000       50      1      31.103504    2   \n",
              "\n",
              "     power_predict  \n",
              "0        46.094348  \n",
              "1        47.874094  \n",
              "2        42.855383  \n",
              "3        43.943876  \n",
              "4        40.736587  \n",
              "..             ...  \n",
              "491      47.943370  \n",
              "492      43.788995  \n",
              "493      44.816440  \n",
              "494      46.174296  \n",
              "495      45.480165  \n",
              "\n",
              "[13624 rows x 15 columns]"
            ]
          },
          "execution_count": 65,
          "metadata": {},
          "output_type": "execute_result"
        }
      ],
      "source": [
        "obm_pl = pl_q\n",
        "\n",
        "obm_pl['power_predict'] = pred_y\n",
        "obm_pl"
      ]
    },
    {
      "cell_type": "code",
      "execution_count": 66,
      "metadata": {
        "colab": {
          "base_uri": "https://localhost:8080/",
          "height": 455
        },
        "id": "PeWtEqGBMcuE",
        "outputId": "f5ddd893-e9ac-463d-a8c0-96d06793a57f"
      },
      "outputs": [
        {
          "data": {
            "text/html": [
              "<div>\n",
              "<style scoped>\n",
              "    .dataframe tbody tr th:only-of-type {\n",
              "        vertical-align: middle;\n",
              "    }\n",
              "\n",
              "    .dataframe tbody tr th {\n",
              "        vertical-align: top;\n",
              "    }\n",
              "\n",
              "    .dataframe thead th {\n",
              "        text-align: right;\n",
              "    }\n",
              "</style>\n",
              "<table border=\"1\" class=\"dataframe\">\n",
              "  <thead>\n",
              "    <tr style=\"text-align: right;\">\n",
              "      <th></th>\n",
              "      <th></th>\n",
              "      <th></th>\n",
              "      <th></th>\n",
              "      <th></th>\n",
              "      <th>cpu_cost</th>\n",
              "      <th>io_cost</th>\n",
              "      <th>mem_cost</th>\n",
              "      <th>power</th>\n",
              "      <th>time</th>\n",
              "      <th>energy</th>\n",
              "      <th>power_predict</th>\n",
              "    </tr>\n",
              "    <tr>\n",
              "      <th>Q</th>\n",
              "      <th>tpc</th>\n",
              "      <th>dop_q</th>\n",
              "      <th>frequency</th>\n",
              "      <th>db_name</th>\n",
              "      <th></th>\n",
              "      <th></th>\n",
              "      <th></th>\n",
              "      <th></th>\n",
              "      <th></th>\n",
              "      <th></th>\n",
              "      <th></th>\n",
              "    </tr>\n",
              "  </thead>\n",
              "  <tbody>\n",
              "    <tr>\n",
              "      <th rowspan=\"5\" valign=\"top\">Q1</th>\n",
              "      <th rowspan=\"5\" valign=\"top\">1</th>\n",
              "      <th rowspan=\"5\" valign=\"top\">1</th>\n",
              "      <th rowspan=\"3\" valign=\"top\">800000</th>\n",
              "      <th>10</th>\n",
              "      <td>4120605.58</td>\n",
              "      <td>5913014.0</td>\n",
              "      <td>1568.0</td>\n",
              "      <td>34.175525</td>\n",
              "      <td>222.955604</td>\n",
              "      <td>7615.165005</td>\n",
              "      <td>34.386434</td>\n",
              "    </tr>\n",
              "    <tr>\n",
              "      <th>30</th>\n",
              "      <td>7702760.10</td>\n",
              "      <td>15115268.0</td>\n",
              "      <td>1568.0</td>\n",
              "      <td>35.304098</td>\n",
              "      <td>283.583761</td>\n",
              "      <td>10000.472460</td>\n",
              "      <td>35.297173</td>\n",
              "    </tr>\n",
              "    <tr>\n",
              "      <th>50</th>\n",
              "      <td>11348678.01</td>\n",
              "      <td>24311169.0</td>\n",
              "      <td>1568.0</td>\n",
              "      <td>35.385298</td>\n",
              "      <td>330.694938</td>\n",
              "      <td>11690.790649</td>\n",
              "      <td>35.417876</td>\n",
              "    </tr>\n",
              "    <tr>\n",
              "      <th rowspan=\"2\" valign=\"top\">1200000</th>\n",
              "      <th>10</th>\n",
              "      <td>4120605.58</td>\n",
              "      <td>5913238.0</td>\n",
              "      <td>1344.0</td>\n",
              "      <td>34.702811</td>\n",
              "      <td>219.069251</td>\n",
              "      <td>7512.859206</td>\n",
              "      <td>34.427392</td>\n",
              "    </tr>\n",
              "    <tr>\n",
              "      <th>30</th>\n",
              "      <td>7702760.10</td>\n",
              "      <td>15115492.0</td>\n",
              "      <td>1344.0</td>\n",
              "      <td>35.295566</td>\n",
              "      <td>280.014926</td>\n",
              "      <td>9850.988011</td>\n",
              "      <td>35.302065</td>\n",
              "    </tr>\n",
              "    <tr>\n",
              "      <th>...</th>\n",
              "      <th>...</th>\n",
              "      <th>...</th>\n",
              "      <th>...</th>\n",
              "      <th>...</th>\n",
              "      <td>...</td>\n",
              "      <td>...</td>\n",
              "      <td>...</td>\n",
              "      <td>...</td>\n",
              "      <td>...</td>\n",
              "      <td>...</td>\n",
              "      <td>...</td>\n",
              "    </tr>\n",
              "    <tr>\n",
              "      <th rowspan=\"5\" valign=\"top\">Q9</th>\n",
              "      <th rowspan=\"5\" valign=\"top\">1</th>\n",
              "      <th rowspan=\"5\" valign=\"top\">5</th>\n",
              "      <th rowspan=\"2\" valign=\"top\">3000000</th>\n",
              "      <th>30</th>\n",
              "      <td>3883152.03</td>\n",
              "      <td>31177294.0</td>\n",
              "      <td>105143.0</td>\n",
              "      <td>48.899857</td>\n",
              "      <td>46.367977</td>\n",
              "      <td>2366.672351</td>\n",
              "      <td>50.233955</td>\n",
              "    </tr>\n",
              "    <tr>\n",
              "      <th>50</th>\n",
              "      <td>6434676.93</td>\n",
              "      <td>48392570.0</td>\n",
              "      <td>105462.0</td>\n",
              "      <td>47.353617</td>\n",
              "      <td>55.344475</td>\n",
              "      <td>2891.672686</td>\n",
              "      <td>49.011102</td>\n",
              "    </tr>\n",
              "    <tr>\n",
              "      <th rowspan=\"3\" valign=\"top\">3400000</th>\n",
              "      <th>10</th>\n",
              "      <td>1332646.87</td>\n",
              "      <td>13785006.0</td>\n",
              "      <td>104071.0</td>\n",
              "      <td>49.376319</td>\n",
              "      <td>27.711002</td>\n",
              "      <td>1450.690523</td>\n",
              "      <td>49.499998</td>\n",
              "    </tr>\n",
              "    <tr>\n",
              "      <th>30</th>\n",
              "      <td>3883152.03</td>\n",
              "      <td>31172873.0</td>\n",
              "      <td>105143.0</td>\n",
              "      <td>49.004159</td>\n",
              "      <td>46.246768</td>\n",
              "      <td>2499.240081</td>\n",
              "      <td>52.766294</td>\n",
              "    </tr>\n",
              "    <tr>\n",
              "      <th>50</th>\n",
              "      <td>6434676.93</td>\n",
              "      <td>48383652.0</td>\n",
              "      <td>105462.0</td>\n",
              "      <td>50.112061</td>\n",
              "      <td>53.495765</td>\n",
              "      <td>3013.414837</td>\n",
              "      <td>52.346671</td>\n",
              "    </tr>\n",
              "  </tbody>\n",
              "</table>\n",
              "<p>5012 rows × 7 columns</p>\n",
              "</div>"
            ],
            "text/plain": [
              "                                   cpu_cost     io_cost  mem_cost      power  \\\n",
              "Q  tpc dop_q frequency db_name                                                 \n",
              "Q1 1   1     800000    10        4120605.58   5913014.0    1568.0  34.175525   \n",
              "                       30        7702760.10  15115268.0    1568.0  35.304098   \n",
              "                       50       11348678.01  24311169.0    1568.0  35.385298   \n",
              "             1200000   10        4120605.58   5913238.0    1344.0  34.702811   \n",
              "                       30        7702760.10  15115492.0    1344.0  35.295566   \n",
              "...                                     ...         ...       ...        ...   \n",
              "Q9 1   5     3000000   30        3883152.03  31177294.0  105143.0  48.899857   \n",
              "                       50        6434676.93  48392570.0  105462.0  47.353617   \n",
              "             3400000   10        1332646.87  13785006.0  104071.0  49.376319   \n",
              "                       30        3883152.03  31172873.0  105143.0  49.004159   \n",
              "                       50        6434676.93  48383652.0  105462.0  50.112061   \n",
              "\n",
              "                                      time        energy  power_predict  \n",
              "Q  tpc dop_q frequency db_name                                           \n",
              "Q1 1   1     800000    10       222.955604   7615.165005      34.386434  \n",
              "                       30       283.583761  10000.472460      35.297173  \n",
              "                       50       330.694938  11690.790649      35.417876  \n",
              "             1200000   10       219.069251   7512.859206      34.427392  \n",
              "                       30       280.014926   9850.988011      35.302065  \n",
              "...                                    ...           ...            ...  \n",
              "Q9 1   5     3000000   30        46.367977   2366.672351      50.233955  \n",
              "                       50        55.344475   2891.672686      49.011102  \n",
              "             3400000   10        27.711002   1450.690523      49.499998  \n",
              "                       30        46.246768   2499.240081      52.766294  \n",
              "                       50        53.495765   3013.414837      52.346671  \n",
              "\n",
              "[5012 rows x 7 columns]"
            ]
          },
          "execution_count": 66,
          "metadata": {},
          "output_type": "execute_result"
        }
      ],
      "source": [
        "obm = obm_pl.groupby(['Q','tpc','dop_q', 'frequency','db_name']).agg({'cpu_cost':'sum','io_cost':'sum','mem_cost':'sum','power':'mean','time':'sum','energy':'sum','power_predict':'mean'})   \n",
        "obm"
      ]
    },
    {
      "cell_type": "markdown",
      "metadata": {
        "id": "fIAnOeJotio6"
      },
      "source": [
        "PBM result for random forest regression"
      ]
    },
    {
      "cell_type": "code",
      "execution_count": 67,
      "metadata": {
        "colab": {
          "base_uri": "https://localhost:8080/"
        },
        "id": "n_QoO-kFMyLQ",
        "outputId": "d4c5c54b-2320-4249-c835-a6cfb424fb7a"
      },
      "outputs": [
        {
          "data": {
            "text/plain": [
              "0.017240670442481103"
            ]
          },
          "execution_count": 67,
          "metadata": {},
          "output_type": "execute_result"
        }
      ],
      "source": [
        "mean_absolute_percentage_error(obm['power'],obm['power_predict'])"
      ]
    },
    {
      "cell_type": "code",
      "execution_count": 68,
      "metadata": {
        "colab": {
          "base_uri": "https://localhost:8080/",
          "height": 424
        },
        "id": "jYayiU3vM7el",
        "outputId": "371f87d5-b276-4cc4-e4dc-b78240acb740"
      },
      "outputs": [
        {
          "data": {
            "text/html": [
              "<div>\n",
              "<style scoped>\n",
              "    .dataframe tbody tr th:only-of-type {\n",
              "        vertical-align: middle;\n",
              "    }\n",
              "\n",
              "    .dataframe tbody tr th {\n",
              "        vertical-align: top;\n",
              "    }\n",
              "\n",
              "    .dataframe thead th {\n",
              "        text-align: right;\n",
              "    }\n",
              "</style>\n",
              "<table border=\"1\" class=\"dataframe\">\n",
              "  <thead>\n",
              "    <tr style=\"text-align: right;\">\n",
              "      <th></th>\n",
              "      <th>Q</th>\n",
              "      <th>pipeline</th>\n",
              "      <th>cpu_cost</th>\n",
              "      <th>io_cost</th>\n",
              "      <th>mem_cost</th>\n",
              "      <th>dop_pl</th>\n",
              "      <th>power</th>\n",
              "      <th>time</th>\n",
              "      <th>energy</th>\n",
              "      <th>frequency</th>\n",
              "      <th>db_name</th>\n",
              "      <th>dop_q</th>\n",
              "      <th>predict power</th>\n",
              "      <th>tpc</th>\n",
              "      <th>power_predict</th>\n",
              "    </tr>\n",
              "  </thead>\n",
              "  <tbody>\n",
              "    <tr>\n",
              "      <th>0</th>\n",
              "      <td>Q1</td>\n",
              "      <td>PL1</td>\n",
              "      <td>6577804.30</td>\n",
              "      <td>13445055.0</td>\n",
              "      <td>0.0</td>\n",
              "      <td>1.0</td>\n",
              "      <td>45.823890</td>\n",
              "      <td>108.183241</td>\n",
              "      <td>4957.376926</td>\n",
              "      <td>3400000</td>\n",
              "      <td>30</td>\n",
              "      <td>1</td>\n",
              "      <td>47.758231</td>\n",
              "      <td>1</td>\n",
              "      <td>46.094348</td>\n",
              "    </tr>\n",
              "    <tr>\n",
              "      <th>1</th>\n",
              "      <td>Q1</td>\n",
              "      <td>PL2</td>\n",
              "      <td>1124955.80</td>\n",
              "      <td>1671781.0</td>\n",
              "      <td>0.0</td>\n",
              "      <td>1.0</td>\n",
              "      <td>47.396818</td>\n",
              "      <td>10.725339</td>\n",
              "      <td>508.346943</td>\n",
              "      <td>3400000</td>\n",
              "      <td>30</td>\n",
              "      <td>1</td>\n",
              "      <td>44.895434</td>\n",
              "      <td>1</td>\n",
              "      <td>47.874094</td>\n",
              "    </tr>\n",
              "    <tr>\n",
              "      <th>2</th>\n",
              "      <td>Q1</td>\n",
              "      <td>PL1</td>\n",
              "      <td>6577804.30</td>\n",
              "      <td>13444895.0</td>\n",
              "      <td>160.0</td>\n",
              "      <td>1.0</td>\n",
              "      <td>42.640875</td>\n",
              "      <td>118.666060</td>\n",
              "      <td>5060.024631</td>\n",
              "      <td>3000000</td>\n",
              "      <td>30</td>\n",
              "      <td>1</td>\n",
              "      <td>45.744111</td>\n",
              "      <td>1</td>\n",
              "      <td>42.855383</td>\n",
              "    </tr>\n",
              "    <tr>\n",
              "      <th>3</th>\n",
              "      <td>Q1</td>\n",
              "      <td>PL2</td>\n",
              "      <td>1124955.80</td>\n",
              "      <td>1671717.0</td>\n",
              "      <td>64.0</td>\n",
              "      <td>1.0</td>\n",
              "      <td>43.162714</td>\n",
              "      <td>13.880640</td>\n",
              "      <td>599.126098</td>\n",
              "      <td>3000000</td>\n",
              "      <td>30</td>\n",
              "      <td>1</td>\n",
              "      <td>42.881226</td>\n",
              "      <td>1</td>\n",
              "      <td>43.943876</td>\n",
              "    </tr>\n",
              "    <tr>\n",
              "      <th>4</th>\n",
              "      <td>Q1</td>\n",
              "      <td>PL1</td>\n",
              "      <td>6577804.30</td>\n",
              "      <td>13444735.0</td>\n",
              "      <td>320.0</td>\n",
              "      <td>1.0</td>\n",
              "      <td>40.652008</td>\n",
              "      <td>129.509526</td>\n",
              "      <td>5264.822247</td>\n",
              "      <td>2700000</td>\n",
              "      <td>30</td>\n",
              "      <td>1</td>\n",
              "      <td>44.233558</td>\n",
              "      <td>1</td>\n",
              "      <td>40.736587</td>\n",
              "    </tr>\n",
              "    <tr>\n",
              "      <th>...</th>\n",
              "      <td>...</td>\n",
              "      <td>...</td>\n",
              "      <td>...</td>\n",
              "      <td>...</td>\n",
              "      <td>...</td>\n",
              "      <td>...</td>\n",
              "      <td>...</td>\n",
              "      <td>...</td>\n",
              "      <td>...</td>\n",
              "      <td>...</td>\n",
              "      <td>...</td>\n",
              "      <td>...</td>\n",
              "      <td>...</td>\n",
              "      <td>...</td>\n",
              "      <td>...</td>\n",
              "    </tr>\n",
              "    <tr>\n",
              "      <th>491</th>\n",
              "      <td>Q84</td>\n",
              "      <td>PL4</td>\n",
              "      <td>4.00</td>\n",
              "      <td>0.0</td>\n",
              "      <td>2.0</td>\n",
              "      <td>1.0</td>\n",
              "      <td>48.986000</td>\n",
              "      <td>0.000020</td>\n",
              "      <td>0.000980</td>\n",
              "      <td>2100000</td>\n",
              "      <td>50</td>\n",
              "      <td>1</td>\n",
              "      <td>37.649869</td>\n",
              "      <td>2</td>\n",
              "      <td>47.943370</td>\n",
              "    </tr>\n",
              "    <tr>\n",
              "      <th>492</th>\n",
              "      <td>Q84</td>\n",
              "      <td>PL1</td>\n",
              "      <td>0.00</td>\n",
              "      <td>733828.0</td>\n",
              "      <td>1286862.0</td>\n",
              "      <td>1.0</td>\n",
              "      <td>45.164500</td>\n",
              "      <td>0.000026</td>\n",
              "      <td>0.001174</td>\n",
              "      <td>800000</td>\n",
              "      <td>50</td>\n",
              "      <td>1</td>\n",
              "      <td>31.975925</td>\n",
              "      <td>2</td>\n",
              "      <td>43.788995</td>\n",
              "    </tr>\n",
              "    <tr>\n",
              "      <th>493</th>\n",
              "      <td>Q84</td>\n",
              "      <td>PL2</td>\n",
              "      <td>2.22</td>\n",
              "      <td>1467656.0</td>\n",
              "      <td>2573724.0</td>\n",
              "      <td>1.0</td>\n",
              "      <td>45.574000</td>\n",
              "      <td>0.994299</td>\n",
              "      <td>45.314183</td>\n",
              "      <td>800000</td>\n",
              "      <td>50</td>\n",
              "      <td>1</td>\n",
              "      <td>32.848352</td>\n",
              "      <td>2</td>\n",
              "      <td>44.816440</td>\n",
              "    </tr>\n",
              "    <tr>\n",
              "      <th>494</th>\n",
              "      <td>Q84</td>\n",
              "      <td>PL3</td>\n",
              "      <td>182672.40</td>\n",
              "      <td>2436325.0</td>\n",
              "      <td>3860586.0</td>\n",
              "      <td>1.0</td>\n",
              "      <td>46.399838</td>\n",
              "      <td>129.198325</td>\n",
              "      <td>5994.781410</td>\n",
              "      <td>800000</td>\n",
              "      <td>50</td>\n",
              "      <td>1</td>\n",
              "      <td>33.841062</td>\n",
              "      <td>2</td>\n",
              "      <td>46.174296</td>\n",
              "    </tr>\n",
              "    <tr>\n",
              "      <th>495</th>\n",
              "      <td>Q84</td>\n",
              "      <td>PL4</td>\n",
              "      <td>4.00</td>\n",
              "      <td>0.0</td>\n",
              "      <td>2.0</td>\n",
              "      <td>1.0</td>\n",
              "      <td>44.801500</td>\n",
              "      <td>0.000048</td>\n",
              "      <td>0.002150</td>\n",
              "      <td>800000</td>\n",
              "      <td>50</td>\n",
              "      <td>1</td>\n",
              "      <td>31.103504</td>\n",
              "      <td>2</td>\n",
              "      <td>45.480165</td>\n",
              "    </tr>\n",
              "  </tbody>\n",
              "</table>\n",
              "<p>13624 rows × 15 columns</p>\n",
              "</div>"
            ],
            "text/plain": [
              "       Q pipeline    cpu_cost     io_cost   mem_cost  dop_pl      power  \\\n",
              "0     Q1      PL1  6577804.30  13445055.0        0.0     1.0  45.823890   \n",
              "1     Q1      PL2  1124955.80   1671781.0        0.0     1.0  47.396818   \n",
              "2     Q1      PL1  6577804.30  13444895.0      160.0     1.0  42.640875   \n",
              "3     Q1      PL2  1124955.80   1671717.0       64.0     1.0  43.162714   \n",
              "4     Q1      PL1  6577804.30  13444735.0      320.0     1.0  40.652008   \n",
              "..   ...      ...         ...         ...        ...     ...        ...   \n",
              "491  Q84      PL4        4.00         0.0        2.0     1.0  48.986000   \n",
              "492  Q84      PL1        0.00    733828.0  1286862.0     1.0  45.164500   \n",
              "493  Q84      PL2        2.22   1467656.0  2573724.0     1.0  45.574000   \n",
              "494  Q84      PL3   182672.40   2436325.0  3860586.0     1.0  46.399838   \n",
              "495  Q84      PL4        4.00         0.0        2.0     1.0  44.801500   \n",
              "\n",
              "           time       energy  frequency  db_name  dop_q  predict power  tpc  \\\n",
              "0    108.183241  4957.376926    3400000       30      1      47.758231    1   \n",
              "1     10.725339   508.346943    3400000       30      1      44.895434    1   \n",
              "2    118.666060  5060.024631    3000000       30      1      45.744111    1   \n",
              "3     13.880640   599.126098    3000000       30      1      42.881226    1   \n",
              "4    129.509526  5264.822247    2700000       30      1      44.233558    1   \n",
              "..          ...          ...        ...      ...    ...            ...  ...   \n",
              "491    0.000020     0.000980    2100000       50      1      37.649869    2   \n",
              "492    0.000026     0.001174     800000       50      1      31.975925    2   \n",
              "493    0.994299    45.314183     800000       50      1      32.848352    2   \n",
              "494  129.198325  5994.781410     800000       50      1      33.841062    2   \n",
              "495    0.000048     0.002150     800000       50      1      31.103504    2   \n",
              "\n",
              "     power_predict  \n",
              "0        46.094348  \n",
              "1        47.874094  \n",
              "2        42.855383  \n",
              "3        43.943876  \n",
              "4        40.736587  \n",
              "..             ...  \n",
              "491      47.943370  \n",
              "492      43.788995  \n",
              "493      44.816440  \n",
              "494      46.174296  \n",
              "495      45.480165  \n",
              "\n",
              "[13624 rows x 15 columns]"
            ]
          },
          "execution_count": 68,
          "metadata": {},
          "output_type": "execute_result"
        }
      ],
      "source": [
        "pl_q"
      ]
    },
    {
      "cell_type": "markdown",
      "metadata": {
        "id": "kmTQ-WauN8fK"
      },
      "source": [
        "## OBM after combinning the train and test datasets and ading DB scale factor and tpc type (tpc_h , tpcds)"
      ]
    },
    {
      "cell_type": "code",
      "execution_count": 69,
      "metadata": {
        "colab": {
          "base_uri": "https://localhost:8080/",
          "height": 455
        },
        "id": "QkgYf8neN-vn",
        "outputId": "c9639b1e-5c39-4d1f-cc1d-4d40660026ae"
      },
      "outputs": [
        {
          "data": {
            "text/html": [
              "<div>\n",
              "<style scoped>\n",
              "    .dataframe tbody tr th:only-of-type {\n",
              "        vertical-align: middle;\n",
              "    }\n",
              "\n",
              "    .dataframe tbody tr th {\n",
              "        vertical-align: top;\n",
              "    }\n",
              "\n",
              "    .dataframe thead th {\n",
              "        text-align: right;\n",
              "    }\n",
              "</style>\n",
              "<table border=\"1\" class=\"dataframe\">\n",
              "  <thead>\n",
              "    <tr style=\"text-align: right;\">\n",
              "      <th></th>\n",
              "      <th></th>\n",
              "      <th></th>\n",
              "      <th></th>\n",
              "      <th></th>\n",
              "      <th>cpu_cost</th>\n",
              "      <th>io_cost</th>\n",
              "      <th>mem_cost</th>\n",
              "      <th>power</th>\n",
              "      <th>time</th>\n",
              "      <th>energy</th>\n",
              "      <th>dop_pl</th>\n",
              "    </tr>\n",
              "    <tr>\n",
              "      <th>Q</th>\n",
              "      <th>tpc</th>\n",
              "      <th>dop_q</th>\n",
              "      <th>frequency</th>\n",
              "      <th>db_name</th>\n",
              "      <th></th>\n",
              "      <th></th>\n",
              "      <th></th>\n",
              "      <th></th>\n",
              "      <th></th>\n",
              "      <th></th>\n",
              "      <th></th>\n",
              "    </tr>\n",
              "  </thead>\n",
              "  <tbody>\n",
              "    <tr>\n",
              "      <th rowspan=\"5\" valign=\"top\">Q1</th>\n",
              "      <th rowspan=\"5\" valign=\"top\">1</th>\n",
              "      <th rowspan=\"5\" valign=\"top\">1</th>\n",
              "      <th rowspan=\"3\" valign=\"top\">800000</th>\n",
              "      <th>10</th>\n",
              "      <td>4120605.58</td>\n",
              "      <td>5913014.0</td>\n",
              "      <td>1568.0</td>\n",
              "      <td>34.175525</td>\n",
              "      <td>222.955604</td>\n",
              "      <td>7615.165005</td>\n",
              "      <td>2.0</td>\n",
              "    </tr>\n",
              "    <tr>\n",
              "      <th>30</th>\n",
              "      <td>7702760.10</td>\n",
              "      <td>15115268.0</td>\n",
              "      <td>1568.0</td>\n",
              "      <td>35.304098</td>\n",
              "      <td>283.583761</td>\n",
              "      <td>10000.472460</td>\n",
              "      <td>2.0</td>\n",
              "    </tr>\n",
              "    <tr>\n",
              "      <th>50</th>\n",
              "      <td>11348678.01</td>\n",
              "      <td>24311169.0</td>\n",
              "      <td>1568.0</td>\n",
              "      <td>35.385298</td>\n",
              "      <td>330.694938</td>\n",
              "      <td>11690.790649</td>\n",
              "      <td>2.0</td>\n",
              "    </tr>\n",
              "    <tr>\n",
              "      <th rowspan=\"2\" valign=\"top\">1200000</th>\n",
              "      <th>10</th>\n",
              "      <td>4120605.58</td>\n",
              "      <td>5913238.0</td>\n",
              "      <td>1344.0</td>\n",
              "      <td>34.702811</td>\n",
              "      <td>219.069251</td>\n",
              "      <td>7512.859206</td>\n",
              "      <td>2.0</td>\n",
              "    </tr>\n",
              "    <tr>\n",
              "      <th>30</th>\n",
              "      <td>7702760.10</td>\n",
              "      <td>15115492.0</td>\n",
              "      <td>1344.0</td>\n",
              "      <td>35.295566</td>\n",
              "      <td>280.014926</td>\n",
              "      <td>9850.988011</td>\n",
              "      <td>2.0</td>\n",
              "    </tr>\n",
              "    <tr>\n",
              "      <th>...</th>\n",
              "      <th>...</th>\n",
              "      <th>...</th>\n",
              "      <th>...</th>\n",
              "      <th>...</th>\n",
              "      <td>...</td>\n",
              "      <td>...</td>\n",
              "      <td>...</td>\n",
              "      <td>...</td>\n",
              "      <td>...</td>\n",
              "      <td>...</td>\n",
              "      <td>...</td>\n",
              "    </tr>\n",
              "    <tr>\n",
              "      <th rowspan=\"5\" valign=\"top\">Q9</th>\n",
              "      <th rowspan=\"5\" valign=\"top\">1</th>\n",
              "      <th rowspan=\"5\" valign=\"top\">5</th>\n",
              "      <th rowspan=\"2\" valign=\"top\">3000000</th>\n",
              "      <th>30</th>\n",
              "      <td>3883152.03</td>\n",
              "      <td>31177294.0</td>\n",
              "      <td>105143.0</td>\n",
              "      <td>48.899857</td>\n",
              "      <td>46.367977</td>\n",
              "      <td>2366.672351</td>\n",
              "      <td>15.0</td>\n",
              "    </tr>\n",
              "    <tr>\n",
              "      <th>50</th>\n",
              "      <td>6434676.93</td>\n",
              "      <td>48392570.0</td>\n",
              "      <td>105462.0</td>\n",
              "      <td>47.353617</td>\n",
              "      <td>55.344475</td>\n",
              "      <td>2891.672686</td>\n",
              "      <td>15.0</td>\n",
              "    </tr>\n",
              "    <tr>\n",
              "      <th rowspan=\"3\" valign=\"top\">3400000</th>\n",
              "      <th>10</th>\n",
              "      <td>1332646.87</td>\n",
              "      <td>13785006.0</td>\n",
              "      <td>104071.0</td>\n",
              "      <td>49.376319</td>\n",
              "      <td>27.711002</td>\n",
              "      <td>1450.690523</td>\n",
              "      <td>16.0</td>\n",
              "    </tr>\n",
              "    <tr>\n",
              "      <th>30</th>\n",
              "      <td>3883152.03</td>\n",
              "      <td>31172873.0</td>\n",
              "      <td>105143.0</td>\n",
              "      <td>49.004159</td>\n",
              "      <td>46.246768</td>\n",
              "      <td>2499.240081</td>\n",
              "      <td>15.0</td>\n",
              "    </tr>\n",
              "    <tr>\n",
              "      <th>50</th>\n",
              "      <td>6434676.93</td>\n",
              "      <td>48383652.0</td>\n",
              "      <td>105462.0</td>\n",
              "      <td>50.112061</td>\n",
              "      <td>53.495765</td>\n",
              "      <td>3013.414837</td>\n",
              "      <td>15.0</td>\n",
              "    </tr>\n",
              "  </tbody>\n",
              "</table>\n",
              "<p>5012 rows × 7 columns</p>\n",
              "</div>"
            ],
            "text/plain": [
              "                                   cpu_cost     io_cost  mem_cost      power  \\\n",
              "Q  tpc dop_q frequency db_name                                                 \n",
              "Q1 1   1     800000    10        4120605.58   5913014.0    1568.0  34.175525   \n",
              "                       30        7702760.10  15115268.0    1568.0  35.304098   \n",
              "                       50       11348678.01  24311169.0    1568.0  35.385298   \n",
              "             1200000   10        4120605.58   5913238.0    1344.0  34.702811   \n",
              "                       30        7702760.10  15115492.0    1344.0  35.295566   \n",
              "...                                     ...         ...       ...        ...   \n",
              "Q9 1   5     3000000   30        3883152.03  31177294.0  105143.0  48.899857   \n",
              "                       50        6434676.93  48392570.0  105462.0  47.353617   \n",
              "             3400000   10        1332646.87  13785006.0  104071.0  49.376319   \n",
              "                       30        3883152.03  31172873.0  105143.0  49.004159   \n",
              "                       50        6434676.93  48383652.0  105462.0  50.112061   \n",
              "\n",
              "                                      time        energy  dop_pl  \n",
              "Q  tpc dop_q frequency db_name                                    \n",
              "Q1 1   1     800000    10       222.955604   7615.165005     2.0  \n",
              "                       30       283.583761  10000.472460     2.0  \n",
              "                       50       330.694938  11690.790649     2.0  \n",
              "             1200000   10       219.069251   7512.859206     2.0  \n",
              "                       30       280.014926   9850.988011     2.0  \n",
              "...                                    ...           ...     ...  \n",
              "Q9 1   5     3000000   30        46.367977   2366.672351    15.0  \n",
              "                       50        55.344475   2891.672686    15.0  \n",
              "             3400000   10        27.711002   1450.690523    16.0  \n",
              "                       30        46.246768   2499.240081    15.0  \n",
              "                       50        53.495765   3013.414837    15.0  \n",
              "\n",
              "[5012 rows x 7 columns]"
            ]
          },
          "execution_count": 69,
          "metadata": {},
          "output_type": "execute_result"
        }
      ],
      "source": [
        "\n",
        "obm_q = pl_q.groupby(['Q','tpc','dop_q', 'frequency','db_name']).agg({'cpu_cost':'sum','io_cost':'sum','mem_cost':'sum','power':'mean','time':'sum','energy':'sum','dop_pl':'sum'})   \n",
        "obm_q\n"
      ]
    },
    {
      "cell_type": "code",
      "execution_count": 70,
      "metadata": {
        "colab": {
          "base_uri": "https://localhost:8080/"
        },
        "id": "Gh4O6lstPgsB",
        "outputId": "8195cd1b-b6da-4209-d1c6-3ac2ab6f8c2d"
      },
      "outputs": [
        {
          "name": "stderr",
          "output_type": "stream",
          "text": [
            "C:\\Users\\ASUS\\AppData\\Local\\Temp/ipykernel_12976/2059396971.py:2: SettingWithCopyWarning: \n",
            "A value is trying to be set on a copy of a slice from a DataFrame.\n",
            "Try using .loc[row_indexer,col_indexer] = value instead\n",
            "\n",
            "See the caveats in the documentation: https://pandas.pydata.org/pandas-docs/stable/user_guide/indexing.html#returning-a-view-versus-a-copy\n",
            "  df_q['dop_q'] = obm_q.index.get_level_values('dop_q').values\n",
            "C:\\Users\\ASUS\\AppData\\Local\\Temp/ipykernel_12976/2059396971.py:3: SettingWithCopyWarning: \n",
            "A value is trying to be set on a copy of a slice from a DataFrame.\n",
            "Try using .loc[row_indexer,col_indexer] = value instead\n",
            "\n",
            "See the caveats in the documentation: https://pandas.pydata.org/pandas-docs/stable/user_guide/indexing.html#returning-a-view-versus-a-copy\n",
            "  df_q['frequency'] = obm_q.index.get_level_values('frequency').values\n",
            "C:\\Users\\ASUS\\AppData\\Local\\Temp/ipykernel_12976/2059396971.py:4: SettingWithCopyWarning: \n",
            "A value is trying to be set on a copy of a slice from a DataFrame.\n",
            "Try using .loc[row_indexer,col_indexer] = value instead\n",
            "\n",
            "See the caveats in the documentation: https://pandas.pydata.org/pandas-docs/stable/user_guide/indexing.html#returning-a-view-versus-a-copy\n",
            "  df_q['db_name'] = obm_q.index.get_level_values('db_name').values\n"
          ]
        }
      ],
      "source": [
        "df_q = obm_q[['cpu_cost' , 'io_cost' , 'mem_cost']]\n",
        "df_q['dop_q'] = obm_q.index.get_level_values('dop_q').values\n",
        "df_q['frequency'] = obm_q.index.get_level_values('frequency').values\n",
        "df_q['db_name'] = obm_q.index.get_level_values('db_name').values\n",
        "df_q['tpc'] = obm_q.index.get_level_values('tpc').values\n",
        "\n",
        "x_q = df_q.values\n",
        "y_q = obm_q['power'].values\n",
        "\n",
        "\n",
        "scaler_q = StandardScaler().fit(x_q)\n",
        "x_scaled = scaler_q.transform(x_q)\n",
        "\n",
        "x_train_q, x_test_q, y_train_q, y_test_q = train_test_split(x_scaled, y_q, test_size=0.33)\n"
      ]
    },
    {
      "cell_type": "code",
      "execution_count": 71,
      "metadata": {
        "colab": {
          "base_uri": "https://localhost:8080/",
          "height": 455
        },
        "id": "bDjZ10pVStk9",
        "outputId": "9c89341d-d499-4e95-d6a2-443d59f744fb"
      },
      "outputs": [
        {
          "data": {
            "text/html": [
              "<div>\n",
              "<style scoped>\n",
              "    .dataframe tbody tr th:only-of-type {\n",
              "        vertical-align: middle;\n",
              "    }\n",
              "\n",
              "    .dataframe tbody tr th {\n",
              "        vertical-align: top;\n",
              "    }\n",
              "\n",
              "    .dataframe thead th {\n",
              "        text-align: right;\n",
              "    }\n",
              "</style>\n",
              "<table border=\"1\" class=\"dataframe\">\n",
              "  <thead>\n",
              "    <tr style=\"text-align: right;\">\n",
              "      <th></th>\n",
              "      <th></th>\n",
              "      <th></th>\n",
              "      <th></th>\n",
              "      <th></th>\n",
              "      <th>cpu_cost</th>\n",
              "      <th>io_cost</th>\n",
              "      <th>mem_cost</th>\n",
              "      <th>dop_q</th>\n",
              "      <th>frequency</th>\n",
              "      <th>db_name</th>\n",
              "      <th>tpc</th>\n",
              "    </tr>\n",
              "    <tr>\n",
              "      <th>Q</th>\n",
              "      <th>tpc</th>\n",
              "      <th>dop_q</th>\n",
              "      <th>frequency</th>\n",
              "      <th>db_name</th>\n",
              "      <th></th>\n",
              "      <th></th>\n",
              "      <th></th>\n",
              "      <th></th>\n",
              "      <th></th>\n",
              "      <th></th>\n",
              "      <th></th>\n",
              "    </tr>\n",
              "  </thead>\n",
              "  <tbody>\n",
              "    <tr>\n",
              "      <th rowspan=\"5\" valign=\"top\">Q1</th>\n",
              "      <th rowspan=\"5\" valign=\"top\">1</th>\n",
              "      <th rowspan=\"5\" valign=\"top\">1</th>\n",
              "      <th rowspan=\"3\" valign=\"top\">800000</th>\n",
              "      <th>10</th>\n",
              "      <td>4120605.58</td>\n",
              "      <td>5913014.0</td>\n",
              "      <td>1568.0</td>\n",
              "      <td>1</td>\n",
              "      <td>800000</td>\n",
              "      <td>10</td>\n",
              "      <td>1</td>\n",
              "    </tr>\n",
              "    <tr>\n",
              "      <th>30</th>\n",
              "      <td>7702760.10</td>\n",
              "      <td>15115268.0</td>\n",
              "      <td>1568.0</td>\n",
              "      <td>1</td>\n",
              "      <td>800000</td>\n",
              "      <td>30</td>\n",
              "      <td>1</td>\n",
              "    </tr>\n",
              "    <tr>\n",
              "      <th>50</th>\n",
              "      <td>11348678.01</td>\n",
              "      <td>24311169.0</td>\n",
              "      <td>1568.0</td>\n",
              "      <td>1</td>\n",
              "      <td>800000</td>\n",
              "      <td>50</td>\n",
              "      <td>1</td>\n",
              "    </tr>\n",
              "    <tr>\n",
              "      <th rowspan=\"2\" valign=\"top\">1200000</th>\n",
              "      <th>10</th>\n",
              "      <td>4120605.58</td>\n",
              "      <td>5913238.0</td>\n",
              "      <td>1344.0</td>\n",
              "      <td>1</td>\n",
              "      <td>1200000</td>\n",
              "      <td>10</td>\n",
              "      <td>1</td>\n",
              "    </tr>\n",
              "    <tr>\n",
              "      <th>30</th>\n",
              "      <td>7702760.10</td>\n",
              "      <td>15115492.0</td>\n",
              "      <td>1344.0</td>\n",
              "      <td>1</td>\n",
              "      <td>1200000</td>\n",
              "      <td>30</td>\n",
              "      <td>1</td>\n",
              "    </tr>\n",
              "    <tr>\n",
              "      <th>...</th>\n",
              "      <th>...</th>\n",
              "      <th>...</th>\n",
              "      <th>...</th>\n",
              "      <th>...</th>\n",
              "      <td>...</td>\n",
              "      <td>...</td>\n",
              "      <td>...</td>\n",
              "      <td>...</td>\n",
              "      <td>...</td>\n",
              "      <td>...</td>\n",
              "      <td>...</td>\n",
              "    </tr>\n",
              "    <tr>\n",
              "      <th rowspan=\"5\" valign=\"top\">Q9</th>\n",
              "      <th rowspan=\"5\" valign=\"top\">1</th>\n",
              "      <th rowspan=\"5\" valign=\"top\">5</th>\n",
              "      <th rowspan=\"2\" valign=\"top\">3000000</th>\n",
              "      <th>30</th>\n",
              "      <td>3883152.03</td>\n",
              "      <td>31177294.0</td>\n",
              "      <td>105143.0</td>\n",
              "      <td>5</td>\n",
              "      <td>3000000</td>\n",
              "      <td>30</td>\n",
              "      <td>1</td>\n",
              "    </tr>\n",
              "    <tr>\n",
              "      <th>50</th>\n",
              "      <td>6434676.93</td>\n",
              "      <td>48392570.0</td>\n",
              "      <td>105462.0</td>\n",
              "      <td>5</td>\n",
              "      <td>3000000</td>\n",
              "      <td>50</td>\n",
              "      <td>1</td>\n",
              "    </tr>\n",
              "    <tr>\n",
              "      <th rowspan=\"3\" valign=\"top\">3400000</th>\n",
              "      <th>10</th>\n",
              "      <td>1332646.87</td>\n",
              "      <td>13785006.0</td>\n",
              "      <td>104071.0</td>\n",
              "      <td>5</td>\n",
              "      <td>3400000</td>\n",
              "      <td>10</td>\n",
              "      <td>1</td>\n",
              "    </tr>\n",
              "    <tr>\n",
              "      <th>30</th>\n",
              "      <td>3883152.03</td>\n",
              "      <td>31172873.0</td>\n",
              "      <td>105143.0</td>\n",
              "      <td>5</td>\n",
              "      <td>3400000</td>\n",
              "      <td>30</td>\n",
              "      <td>1</td>\n",
              "    </tr>\n",
              "    <tr>\n",
              "      <th>50</th>\n",
              "      <td>6434676.93</td>\n",
              "      <td>48383652.0</td>\n",
              "      <td>105462.0</td>\n",
              "      <td>5</td>\n",
              "      <td>3400000</td>\n",
              "      <td>50</td>\n",
              "      <td>1</td>\n",
              "    </tr>\n",
              "  </tbody>\n",
              "</table>\n",
              "<p>5012 rows × 7 columns</p>\n",
              "</div>"
            ],
            "text/plain": [
              "                                   cpu_cost     io_cost  mem_cost  dop_q  \\\n",
              "Q  tpc dop_q frequency db_name                                             \n",
              "Q1 1   1     800000    10        4120605.58   5913014.0    1568.0      1   \n",
              "                       30        7702760.10  15115268.0    1568.0      1   \n",
              "                       50       11348678.01  24311169.0    1568.0      1   \n",
              "             1200000   10        4120605.58   5913238.0    1344.0      1   \n",
              "                       30        7702760.10  15115492.0    1344.0      1   \n",
              "...                                     ...         ...       ...    ...   \n",
              "Q9 1   5     3000000   30        3883152.03  31177294.0  105143.0      5   \n",
              "                       50        6434676.93  48392570.0  105462.0      5   \n",
              "             3400000   10        1332646.87  13785006.0  104071.0      5   \n",
              "                       30        3883152.03  31172873.0  105143.0      5   \n",
              "                       50        6434676.93  48383652.0  105462.0      5   \n",
              "\n",
              "                                frequency  db_name  tpc  \n",
              "Q  tpc dop_q frequency db_name                           \n",
              "Q1 1   1     800000    10          800000       10    1  \n",
              "                       30          800000       30    1  \n",
              "                       50          800000       50    1  \n",
              "             1200000   10         1200000       10    1  \n",
              "                       30         1200000       30    1  \n",
              "...                                   ...      ...  ...  \n",
              "Q9 1   5     3000000   30         3000000       30    1  \n",
              "                       50         3000000       50    1  \n",
              "             3400000   10         3400000       10    1  \n",
              "                       30         3400000       30    1  \n",
              "                       50         3400000       50    1  \n",
              "\n",
              "[5012 rows x 7 columns]"
            ]
          },
          "execution_count": 71,
          "metadata": {},
          "output_type": "execute_result"
        }
      ],
      "source": [
        "df_q"
      ]
    },
    {
      "cell_type": "markdown",
      "metadata": {
        "id": "89ohiRxNTbIB"
      },
      "source": [
        "without tpc feature"
      ]
    },
    {
      "cell_type": "code",
      "execution_count": 72,
      "metadata": {
        "colab": {
          "base_uri": "https://localhost:8080/"
        },
        "id": "07UBYuRJRSj8",
        "outputId": "784844c7-0cd6-4747-99d0-82ecf93adb75"
      },
      "outputs": [
        {
          "data": {
            "text/plain": [
              "RandomForestRegressor(random_state=0)"
            ]
          },
          "execution_count": 72,
          "metadata": {},
          "output_type": "execute_result"
        }
      ],
      "source": [
        "rf = RandomForestRegressor(n_estimators = 100, random_state = 0)\n",
        "rf.fit(x_train_q,y_train_q)"
      ]
    },
    {
      "cell_type": "code",
      "execution_count": 73,
      "metadata": {
        "colab": {
          "base_uri": "https://localhost:8080/"
        },
        "id": "6UE5HJWbSEC2",
        "outputId": "8b2c23bd-ee71-404d-cee8-9921e57fe744"
      },
      "outputs": [
        {
          "data": {
            "text/plain": [
              "0.016168253508100663"
            ]
          },
          "execution_count": 73,
          "metadata": {},
          "output_type": "execute_result"
        }
      ],
      "source": [
        "pred_y = rf.predict(x_train_q)\n",
        "mean_absolute_percentage_error(y_train_q,pred_y)"
      ]
    },
    {
      "cell_type": "markdown",
      "metadata": {
        "id": "krtL6eNjvyPQ"
      },
      "source": [
        "evaluation"
      ]
    },
    {
      "cell_type": "code",
      "execution_count": 74,
      "metadata": {
        "colab": {
          "base_uri": "https://localhost:8080/"
        },
        "id": "_jDbpDVdSFMC",
        "outputId": "d4130df0-3e78-48ae-f585-aa6f8f675973"
      },
      "outputs": [
        {
          "data": {
            "text/plain": [
              "0.04535108163720097"
            ]
          },
          "execution_count": 74,
          "metadata": {},
          "output_type": "execute_result"
        }
      ],
      "source": [
        "pred_y = rf.predict(x_test_q)\n",
        "mean_absolute_percentage_error(y_test_q,pred_y)"
      ]
    },
    {
      "cell_type": "markdown",
      "metadata": {
        "id": "Vsy1YInmTXz7"
      },
      "source": [
        "random forst regression With tpc feature"
      ]
    },
    {
      "cell_type": "code",
      "execution_count": 75,
      "metadata": {
        "colab": {
          "base_uri": "https://localhost:8080/"
        },
        "id": "KYqxiYrBSgy3",
        "outputId": "4ef1c381-2fbe-4540-a0f6-9cb32bab7cd7"
      },
      "outputs": [
        {
          "data": {
            "text/plain": [
              "RandomForestRegressor(random_state=0)"
            ]
          },
          "execution_count": 75,
          "metadata": {},
          "output_type": "execute_result"
        }
      ],
      "source": [
        "rf = RandomForestRegressor(n_estimators = 100, random_state = 0)\n",
        "rf.fit(x_train_q,y_train_q)"
      ]
    },
    {
      "cell_type": "code",
      "execution_count": 76,
      "metadata": {
        "colab": {
          "base_uri": "https://localhost:8080/"
        },
        "id": "TxPaeukZTJ9t",
        "outputId": "25eab902-2299-4f94-da56-426bf21a5c53"
      },
      "outputs": [
        {
          "data": {
            "text/plain": [
              "0.016168253508100663"
            ]
          },
          "execution_count": 76,
          "metadata": {},
          "output_type": "execute_result"
        }
      ],
      "source": [
        "pred_y = rf.predict(x_train_q)\n",
        "mean_absolute_percentage_error(y_train_q,pred_y)"
      ]
    },
    {
      "cell_type": "markdown",
      "metadata": {
        "id": "yn1SZcpKvzxR"
      },
      "source": [
        "evaluation"
      ]
    },
    {
      "cell_type": "code",
      "execution_count": 77,
      "metadata": {
        "colab": {
          "base_uri": "https://localhost:8080/"
        },
        "id": "PQqf3-S3TO_y",
        "outputId": "77bec352-8f34-44fb-92a2-24635de36a01"
      },
      "outputs": [
        {
          "data": {
            "text/plain": [
              "0.04535108163720097"
            ]
          },
          "execution_count": 77,
          "metadata": {},
          "output_type": "execute_result"
        }
      ],
      "source": [
        "pred_y = rf.predict(x_test_q)\n",
        "#MAPE\n",
        "mean_absolute_percentage_error(y_test_q,pred_y)"
      ]
    },
    {
      "cell_type": "code",
      "execution_count": 78,
      "metadata": {
        "colab": {
          "base_uri": "https://localhost:8080/"
        },
        "id": "170-ti4uXg2F",
        "outputId": "20fa2b42-9786-4f29-ddb9-37365fc4f286"
      },
      "outputs": [
        {
          "data": {
            "text/plain": [
              "1.8633339502969677"
            ]
          },
          "execution_count": 78,
          "metadata": {},
          "output_type": "execute_result"
        }
      ],
      "source": [
        "#MAE\n",
        "mean_absolute_error(y_test_q,pred_y)\n"
      ]
    },
    {
      "cell_type": "code",
      "execution_count": 79,
      "metadata": {
        "colab": {
          "base_uri": "https://localhost:8080/"
        },
        "id": "EbuS38ykXv6I",
        "outputId": "84133509-224e-4cc6-e2d6-a5172dcf2f18"
      },
      "outputs": [
        {
          "data": {
            "text/plain": [
              "2.7205675353992733"
            ]
          },
          "execution_count": 79,
          "metadata": {},
          "output_type": "execute_result"
        }
      ],
      "source": [
        "#MSE\n",
        "mean_squared_error(y_test_q,pred_y, squared=False)"
      ]
    },
    {
      "cell_type": "code",
      "execution_count": 80,
      "metadata": {
        "colab": {
          "base_uri": "https://localhost:8080/"
        },
        "id": "zrQ9D80qX2K9",
        "outputId": "4b383a0f-4677-4851-c059-248ed2d70ca0"
      },
      "outputs": [
        {
          "data": {
            "text/plain": [
              "1.649414300713824"
            ]
          },
          "execution_count": 80,
          "metadata": {},
          "output_type": "execute_result"
        }
      ],
      "source": [
        "#RMSE\n",
        "math.sqrt(mean_squared_error(y_test_q,pred_y, squared=False))"
      ]
    },
    {
      "cell_type": "code",
      "execution_count": 81,
      "metadata": {
        "colab": {
          "base_uri": "https://localhost:8080/",
          "height": 269
        },
        "id": "eLE_2YaEeAxm",
        "outputId": "7b70ca5f-15d7-4dcd-bafc-59b9e96e494b"
      },
      "outputs": [
        {
          "data": {
            "text/html": [
              "<div>\n",
              "<style scoped>\n",
              "    .dataframe tbody tr th:only-of-type {\n",
              "        vertical-align: middle;\n",
              "    }\n",
              "\n",
              "    .dataframe tbody tr th {\n",
              "        vertical-align: top;\n",
              "    }\n",
              "\n",
              "    .dataframe thead th {\n",
              "        text-align: right;\n",
              "    }\n",
              "</style>\n",
              "<table border=\"1\" class=\"dataframe\">\n",
              "  <thead>\n",
              "    <tr style=\"text-align: right;\">\n",
              "      <th></th>\n",
              "      <th>feature_importances</th>\n",
              "    </tr>\n",
              "  </thead>\n",
              "  <tbody>\n",
              "    <tr>\n",
              "      <th>cpu_cost</th>\n",
              "      <td>0.094079</td>\n",
              "    </tr>\n",
              "    <tr>\n",
              "      <th>io_cost</th>\n",
              "      <td>0.153542</td>\n",
              "    </tr>\n",
              "    <tr>\n",
              "      <th>mem_cost</th>\n",
              "      <td>0.104671</td>\n",
              "    </tr>\n",
              "    <tr>\n",
              "      <th>dop_q</th>\n",
              "      <td>0.071203</td>\n",
              "    </tr>\n",
              "    <tr>\n",
              "      <th>frequency</th>\n",
              "      <td>0.525433</td>\n",
              "    </tr>\n",
              "    <tr>\n",
              "      <th>scale_factore</th>\n",
              "      <td>0.012003</td>\n",
              "    </tr>\n",
              "    <tr>\n",
              "      <th>db_name</th>\n",
              "      <td>0.039068</td>\n",
              "    </tr>\n",
              "  </tbody>\n",
              "</table>\n",
              "</div>"
            ],
            "text/plain": [
              "               feature_importances\n",
              "cpu_cost                  0.094079\n",
              "io_cost                   0.153542\n",
              "mem_cost                  0.104671\n",
              "dop_q                     0.071203\n",
              "frequency                 0.525433\n",
              "scale_factore             0.012003\n",
              "db_name                   0.039068"
            ]
          },
          "execution_count": 81,
          "metadata": {},
          "output_type": "execute_result"
        }
      ],
      "source": [
        "cdf = pd.DataFrame(rf.feature_importances_,['cpu_cost', 'io_cost' , 'mem_cost' , 'dop_q' , 'frequency' , 'scale_factore' , 'db_name'],columns=['feature_importances'])\n",
        "cdf"
      ]
    },
    {
      "cell_type": "markdown",
      "metadata": {
        "id": "EOmhYS_BXfbV"
      },
      "source": [
        "* SVR"
      ]
    },
    {
      "cell_type": "code",
      "execution_count": 82,
      "metadata": {
        "colab": {
          "base_uri": "https://localhost:8080/"
        },
        "id": "9K9-bZfwTS5M",
        "outputId": "a4798d43-68fc-4874-bd0a-4236cc4a13b1"
      },
      "outputs": [
        {
          "data": {
            "text/plain": [
              "SVR(degree=1, kernel='linear')"
            ]
          },
          "execution_count": 82,
          "metadata": {},
          "output_type": "execute_result"
        }
      ],
      "source": [
        "svr_qq = svm.SVR(kernel = 'linear',  degree=1)\n",
        "svr_qq.fit(x_train_q,y_train_q)"
      ]
    },
    {
      "cell_type": "code",
      "execution_count": 83,
      "metadata": {
        "colab": {
          "base_uri": "https://localhost:8080/"
        },
        "id": "7HJ3WgqRUrRD",
        "outputId": "0efa2f2a-567e-4186-ac95-7d2adc3acc06"
      },
      "outputs": [
        {
          "data": {
            "text/plain": [
              "0.13922984764527202"
            ]
          },
          "execution_count": 83,
          "metadata": {},
          "output_type": "execute_result"
        }
      ],
      "source": [
        "pred_y = svr_qq.predict(x_train_scaled)\n",
        "mean_absolute_percentage_error(y_train,pred_y)"
      ]
    },
    {
      "cell_type": "code",
      "execution_count": 84,
      "metadata": {
        "colab": {
          "base_uri": "https://localhost:8080/"
        },
        "id": "JCtVboEZUzRr",
        "outputId": "602b8f30-6f10-4210-d4a0-1eb41efdc6f7"
      },
      "outputs": [
        {
          "data": {
            "text/plain": [
              "0.14210052497965547"
            ]
          },
          "execution_count": 84,
          "metadata": {},
          "output_type": "execute_result"
        }
      ],
      "source": [
        "pred_y = svr_qq.predict(x_test_scaled)\n",
        "mean_absolute_percentage_error(y_test,pred_y)"
      ]
    },
    {
      "cell_type": "markdown",
      "metadata": {
        "id": "XPUxArqBLNwL"
      },
      "source": [
        "# Modeling : using the best features combination"
      ]
    },
    {
      "cell_type": "markdown",
      "metadata": {
        "id": "KpZoRVkMM9sG"
      },
      "source": [
        "## OBM with this features \n",
        " ( cpu_cost , io_cost , mem_cost , frequnecy , dop_pl , scale factore )"
      ]
    },
    {
      "cell_type": "code",
      "execution_count": 85,
      "metadata": {
        "colab": {
          "base_uri": "https://localhost:8080/",
          "height": 455
        },
        "id": "u0io2vMqPQXF",
        "outputId": "f4045f5d-cf00-40f7-edcd-84f8828fe274"
      },
      "outputs": [
        {
          "data": {
            "text/html": [
              "<div>\n",
              "<style scoped>\n",
              "    .dataframe tbody tr th:only-of-type {\n",
              "        vertical-align: middle;\n",
              "    }\n",
              "\n",
              "    .dataframe tbody tr th {\n",
              "        vertical-align: top;\n",
              "    }\n",
              "\n",
              "    .dataframe thead th {\n",
              "        text-align: right;\n",
              "    }\n",
              "</style>\n",
              "<table border=\"1\" class=\"dataframe\">\n",
              "  <thead>\n",
              "    <tr style=\"text-align: right;\">\n",
              "      <th></th>\n",
              "      <th></th>\n",
              "      <th></th>\n",
              "      <th></th>\n",
              "      <th></th>\n",
              "      <th>cpu_cost</th>\n",
              "      <th>io_cost</th>\n",
              "      <th>mem_cost</th>\n",
              "      <th>power</th>\n",
              "      <th>time</th>\n",
              "      <th>energy</th>\n",
              "      <th>dop_pl</th>\n",
              "    </tr>\n",
              "    <tr>\n",
              "      <th>Q</th>\n",
              "      <th>tpc</th>\n",
              "      <th>dop_q</th>\n",
              "      <th>frequency</th>\n",
              "      <th>db_name</th>\n",
              "      <th></th>\n",
              "      <th></th>\n",
              "      <th></th>\n",
              "      <th></th>\n",
              "      <th></th>\n",
              "      <th></th>\n",
              "      <th></th>\n",
              "    </tr>\n",
              "  </thead>\n",
              "  <tbody>\n",
              "    <tr>\n",
              "      <th rowspan=\"5\" valign=\"top\">Q1</th>\n",
              "      <th rowspan=\"5\" valign=\"top\">1</th>\n",
              "      <th rowspan=\"5\" valign=\"top\">1</th>\n",
              "      <th rowspan=\"3\" valign=\"top\">800000</th>\n",
              "      <th>10</th>\n",
              "      <td>4120605.58</td>\n",
              "      <td>5913014.0</td>\n",
              "      <td>1568.0</td>\n",
              "      <td>34.175525</td>\n",
              "      <td>222.955604</td>\n",
              "      <td>7615.165005</td>\n",
              "      <td>2.0</td>\n",
              "    </tr>\n",
              "    <tr>\n",
              "      <th>30</th>\n",
              "      <td>7702760.10</td>\n",
              "      <td>15115268.0</td>\n",
              "      <td>1568.0</td>\n",
              "      <td>35.304098</td>\n",
              "      <td>283.583761</td>\n",
              "      <td>10000.472460</td>\n",
              "      <td>2.0</td>\n",
              "    </tr>\n",
              "    <tr>\n",
              "      <th>50</th>\n",
              "      <td>11348678.01</td>\n",
              "      <td>24311169.0</td>\n",
              "      <td>1568.0</td>\n",
              "      <td>35.385298</td>\n",
              "      <td>330.694938</td>\n",
              "      <td>11690.790649</td>\n",
              "      <td>2.0</td>\n",
              "    </tr>\n",
              "    <tr>\n",
              "      <th rowspan=\"2\" valign=\"top\">1200000</th>\n",
              "      <th>10</th>\n",
              "      <td>4120605.58</td>\n",
              "      <td>5913238.0</td>\n",
              "      <td>1344.0</td>\n",
              "      <td>34.702811</td>\n",
              "      <td>219.069251</td>\n",
              "      <td>7512.859206</td>\n",
              "      <td>2.0</td>\n",
              "    </tr>\n",
              "    <tr>\n",
              "      <th>30</th>\n",
              "      <td>7702760.10</td>\n",
              "      <td>15115492.0</td>\n",
              "      <td>1344.0</td>\n",
              "      <td>35.295566</td>\n",
              "      <td>280.014926</td>\n",
              "      <td>9850.988011</td>\n",
              "      <td>2.0</td>\n",
              "    </tr>\n",
              "    <tr>\n",
              "      <th>...</th>\n",
              "      <th>...</th>\n",
              "      <th>...</th>\n",
              "      <th>...</th>\n",
              "      <th>...</th>\n",
              "      <td>...</td>\n",
              "      <td>...</td>\n",
              "      <td>...</td>\n",
              "      <td>...</td>\n",
              "      <td>...</td>\n",
              "      <td>...</td>\n",
              "      <td>...</td>\n",
              "    </tr>\n",
              "    <tr>\n",
              "      <th rowspan=\"5\" valign=\"top\">Q9</th>\n",
              "      <th rowspan=\"5\" valign=\"top\">1</th>\n",
              "      <th rowspan=\"5\" valign=\"top\">5</th>\n",
              "      <th rowspan=\"2\" valign=\"top\">3000000</th>\n",
              "      <th>30</th>\n",
              "      <td>3883152.03</td>\n",
              "      <td>31177294.0</td>\n",
              "      <td>105143.0</td>\n",
              "      <td>48.899857</td>\n",
              "      <td>46.367977</td>\n",
              "      <td>2366.672351</td>\n",
              "      <td>15.0</td>\n",
              "    </tr>\n",
              "    <tr>\n",
              "      <th>50</th>\n",
              "      <td>6434676.93</td>\n",
              "      <td>48392570.0</td>\n",
              "      <td>105462.0</td>\n",
              "      <td>47.353617</td>\n",
              "      <td>55.344475</td>\n",
              "      <td>2891.672686</td>\n",
              "      <td>15.0</td>\n",
              "    </tr>\n",
              "    <tr>\n",
              "      <th rowspan=\"3\" valign=\"top\">3400000</th>\n",
              "      <th>10</th>\n",
              "      <td>1332646.87</td>\n",
              "      <td>13785006.0</td>\n",
              "      <td>104071.0</td>\n",
              "      <td>49.376319</td>\n",
              "      <td>27.711002</td>\n",
              "      <td>1450.690523</td>\n",
              "      <td>16.0</td>\n",
              "    </tr>\n",
              "    <tr>\n",
              "      <th>30</th>\n",
              "      <td>3883152.03</td>\n",
              "      <td>31172873.0</td>\n",
              "      <td>105143.0</td>\n",
              "      <td>49.004159</td>\n",
              "      <td>46.246768</td>\n",
              "      <td>2499.240081</td>\n",
              "      <td>15.0</td>\n",
              "    </tr>\n",
              "    <tr>\n",
              "      <th>50</th>\n",
              "      <td>6434676.93</td>\n",
              "      <td>48383652.0</td>\n",
              "      <td>105462.0</td>\n",
              "      <td>50.112061</td>\n",
              "      <td>53.495765</td>\n",
              "      <td>3013.414837</td>\n",
              "      <td>15.0</td>\n",
              "    </tr>\n",
              "  </tbody>\n",
              "</table>\n",
              "<p>5012 rows × 7 columns</p>\n",
              "</div>"
            ],
            "text/plain": [
              "                                   cpu_cost     io_cost  mem_cost      power  \\\n",
              "Q  tpc dop_q frequency db_name                                                 \n",
              "Q1 1   1     800000    10        4120605.58   5913014.0    1568.0  34.175525   \n",
              "                       30        7702760.10  15115268.0    1568.0  35.304098   \n",
              "                       50       11348678.01  24311169.0    1568.0  35.385298   \n",
              "             1200000   10        4120605.58   5913238.0    1344.0  34.702811   \n",
              "                       30        7702760.10  15115492.0    1344.0  35.295566   \n",
              "...                                     ...         ...       ...        ...   \n",
              "Q9 1   5     3000000   30        3883152.03  31177294.0  105143.0  48.899857   \n",
              "                       50        6434676.93  48392570.0  105462.0  47.353617   \n",
              "             3400000   10        1332646.87  13785006.0  104071.0  49.376319   \n",
              "                       30        3883152.03  31172873.0  105143.0  49.004159   \n",
              "                       50        6434676.93  48383652.0  105462.0  50.112061   \n",
              "\n",
              "                                      time        energy  dop_pl  \n",
              "Q  tpc dop_q frequency db_name                                    \n",
              "Q1 1   1     800000    10       222.955604   7615.165005     2.0  \n",
              "                       30       283.583761  10000.472460     2.0  \n",
              "                       50       330.694938  11690.790649     2.0  \n",
              "             1200000   10       219.069251   7512.859206     2.0  \n",
              "                       30       280.014926   9850.988011     2.0  \n",
              "...                                    ...           ...     ...  \n",
              "Q9 1   5     3000000   30        46.367977   2366.672351    15.0  \n",
              "                       50        55.344475   2891.672686    15.0  \n",
              "             3400000   10        27.711002   1450.690523    16.0  \n",
              "                       30        46.246768   2499.240081    15.0  \n",
              "                       50        53.495765   3013.414837    15.0  \n",
              "\n",
              "[5012 rows x 7 columns]"
            ]
          },
          "execution_count": 85,
          "metadata": {},
          "output_type": "execute_result"
        }
      ],
      "source": [
        "\n",
        "obm_q_1 = pl_q.groupby(['Q','tpc','dop_q', 'frequency','db_name']).agg({'cpu_cost':'sum','io_cost':'sum','mem_cost':'sum','power':'mean','time':'sum','energy':'sum','dop_pl':'sum'})   \n",
        "obm_q_1\n"
      ]
    },
    {
      "cell_type": "code",
      "execution_count": 86,
      "metadata": {
        "colab": {
          "base_uri": "https://localhost:8080/"
        },
        "id": "DmznatxeU5PK",
        "outputId": "b3219be7-f3b4-479f-ef05-bc43802267a7"
      },
      "outputs": [
        {
          "name": "stderr",
          "output_type": "stream",
          "text": [
            "C:\\Users\\ASUS\\AppData\\Local\\Temp/ipykernel_12976/1193871201.py:2: SettingWithCopyWarning: \n",
            "A value is trying to be set on a copy of a slice from a DataFrame.\n",
            "Try using .loc[row_indexer,col_indexer] = value instead\n",
            "\n",
            "See the caveats in the documentation: https://pandas.pydata.org/pandas-docs/stable/user_guide/indexing.html#returning-a-view-versus-a-copy\n",
            "  df_q_1['dop_q'] = obm_q_1.index.get_level_values('dop_q').values\n",
            "C:\\Users\\ASUS\\AppData\\Local\\Temp/ipykernel_12976/1193871201.py:3: SettingWithCopyWarning: \n",
            "A value is trying to be set on a copy of a slice from a DataFrame.\n",
            "Try using .loc[row_indexer,col_indexer] = value instead\n",
            "\n",
            "See the caveats in the documentation: https://pandas.pydata.org/pandas-docs/stable/user_guide/indexing.html#returning-a-view-versus-a-copy\n",
            "  df_q_1['frequency'] = obm_q_1.index.get_level_values('frequency').values\n",
            "C:\\Users\\ASUS\\AppData\\Local\\Temp/ipykernel_12976/1193871201.py:4: SettingWithCopyWarning: \n",
            "A value is trying to be set on a copy of a slice from a DataFrame.\n",
            "Try using .loc[row_indexer,col_indexer] = value instead\n",
            "\n",
            "See the caveats in the documentation: https://pandas.pydata.org/pandas-docs/stable/user_guide/indexing.html#returning-a-view-versus-a-copy\n",
            "  df_q_1['db_name'] = obm_q_1.index.get_level_values('db_name').values\n"
          ]
        }
      ],
      "source": [
        "df_q_1 = obm_q_1[['cpu_cost' , 'io_cost' , 'mem_cost']]\n",
        "df_q_1['dop_q'] = obm_q_1.index.get_level_values('dop_q').values\n",
        "df_q_1['frequency'] = obm_q_1.index.get_level_values('frequency').values\n",
        "df_q_1['db_name'] = obm_q_1.index.get_level_values('db_name').values\n",
        "\n",
        "x_q = df_q_1.values\n",
        "y_q = obm_q_1['power'].values\n",
        "\n",
        "\n",
        "scaler_q = StandardScaler().fit(x_q)\n",
        "x_scaled = scaler_q.transform(x_q)\n",
        "\n",
        "x_train_q, x_test_q, y_train_q, y_test_q = train_test_split(x_scaled, y_q, test_size=0.33 ,random_state = 2)"
      ]
    },
    {
      "cell_type": "code",
      "execution_count": 87,
      "metadata": {
        "id": "3cJUUbaXV6Up"
      },
      "outputs": [],
      "source": [
        "x_train_b, x_test_b, y_train_b, y_test_b = train_test_split(df_q_1, obm_q_1['power'], test_size=0.33 ,random_state = 2)"
      ]
    },
    {
      "cell_type": "code",
      "execution_count": 88,
      "metadata": {
        "colab": {
          "base_uri": "https://localhost:8080/",
          "height": 455
        },
        "id": "mNbukgp0WJ_q",
        "outputId": "78b57018-f885-41c2-8db2-2f5901375994"
      },
      "outputs": [
        {
          "data": {
            "text/html": [
              "<div>\n",
              "<style scoped>\n",
              "    .dataframe tbody tr th:only-of-type {\n",
              "        vertical-align: middle;\n",
              "    }\n",
              "\n",
              "    .dataframe tbody tr th {\n",
              "        vertical-align: top;\n",
              "    }\n",
              "\n",
              "    .dataframe thead th {\n",
              "        text-align: right;\n",
              "    }\n",
              "</style>\n",
              "<table border=\"1\" class=\"dataframe\">\n",
              "  <thead>\n",
              "    <tr style=\"text-align: right;\">\n",
              "      <th></th>\n",
              "      <th></th>\n",
              "      <th></th>\n",
              "      <th></th>\n",
              "      <th></th>\n",
              "      <th>cpu_cost</th>\n",
              "      <th>io_cost</th>\n",
              "      <th>mem_cost</th>\n",
              "      <th>dop_q</th>\n",
              "      <th>frequency</th>\n",
              "      <th>db_name</th>\n",
              "    </tr>\n",
              "    <tr>\n",
              "      <th>Q</th>\n",
              "      <th>tpc</th>\n",
              "      <th>dop_q</th>\n",
              "      <th>frequency</th>\n",
              "      <th>db_name</th>\n",
              "      <th></th>\n",
              "      <th></th>\n",
              "      <th></th>\n",
              "      <th></th>\n",
              "      <th></th>\n",
              "      <th></th>\n",
              "    </tr>\n",
              "  </thead>\n",
              "  <tbody>\n",
              "    <tr>\n",
              "      <th>Q40</th>\n",
              "      <th>1</th>\n",
              "      <th>3</th>\n",
              "      <th>1500000</th>\n",
              "      <th>50</th>\n",
              "      <td>9423944.50</td>\n",
              "      <td>63620408.0</td>\n",
              "      <td>76667.0</td>\n",
              "      <td>3</td>\n",
              "      <td>1500000</td>\n",
              "      <td>50</td>\n",
              "    </tr>\n",
              "    <tr>\n",
              "      <th>Q38</th>\n",
              "      <th>1</th>\n",
              "      <th>5</th>\n",
              "      <th>3000000</th>\n",
              "      <th>30</th>\n",
              "      <td>3323682.10</td>\n",
              "      <td>48693936.0</td>\n",
              "      <td>1249936.0</td>\n",
              "      <td>5</td>\n",
              "      <td>3000000</td>\n",
              "      <td>30</td>\n",
              "    </tr>\n",
              "    <tr>\n",
              "      <th>Q46</th>\n",
              "      <th>1</th>\n",
              "      <th>3</th>\n",
              "      <th>800000</th>\n",
              "      <th>30</th>\n",
              "      <td>2700677.20</td>\n",
              "      <td>16824943.0</td>\n",
              "      <td>62696.0</td>\n",
              "      <td>3</td>\n",
              "      <td>800000</td>\n",
              "      <td>30</td>\n",
              "    </tr>\n",
              "    <tr>\n",
              "      <th rowspan=\"2\" valign=\"top\">Q34</th>\n",
              "      <th rowspan=\"2\" valign=\"top\">1</th>\n",
              "      <th rowspan=\"2\" valign=\"top\">1</th>\n",
              "      <th>1200000</th>\n",
              "      <th>50</th>\n",
              "      <td>9251638.16</td>\n",
              "      <td>23326742.0</td>\n",
              "      <td>54435.0</td>\n",
              "      <td>1</td>\n",
              "      <td>1200000</td>\n",
              "      <td>50</td>\n",
              "    </tr>\n",
              "    <tr>\n",
              "      <th>3000000</th>\n",
              "      <th>50</th>\n",
              "      <td>9251638.16</td>\n",
              "      <td>23326961.0</td>\n",
              "      <td>54216.0</td>\n",
              "      <td>1</td>\n",
              "      <td>3000000</td>\n",
              "      <td>50</td>\n",
              "    </tr>\n",
              "    <tr>\n",
              "      <th>...</th>\n",
              "      <th>...</th>\n",
              "      <th>...</th>\n",
              "      <th>...</th>\n",
              "      <th>...</th>\n",
              "      <td>...</td>\n",
              "      <td>...</td>\n",
              "      <td>...</td>\n",
              "      <td>...</td>\n",
              "      <td>...</td>\n",
              "      <td>...</td>\n",
              "    </tr>\n",
              "    <tr>\n",
              "      <th>Q50</th>\n",
              "      <th>1</th>\n",
              "      <th>1</th>\n",
              "      <th>3400000</th>\n",
              "      <th>50</th>\n",
              "      <td>4502550.18</td>\n",
              "      <td>16820520.0</td>\n",
              "      <td>62208.0</td>\n",
              "      <td>1</td>\n",
              "      <td>3400000</td>\n",
              "      <td>50</td>\n",
              "    </tr>\n",
              "    <tr>\n",
              "      <th>Q22</th>\n",
              "      <th>1</th>\n",
              "      <th>5</th>\n",
              "      <th>1900000</th>\n",
              "      <th>10</th>\n",
              "      <td>1205282.69</td>\n",
              "      <td>7846142.0</td>\n",
              "      <td>44960.0</td>\n",
              "      <td>5</td>\n",
              "      <td>1900000</td>\n",
              "      <td>10</td>\n",
              "    </tr>\n",
              "    <tr>\n",
              "      <th>Q40</th>\n",
              "      <th>1</th>\n",
              "      <th>1</th>\n",
              "      <th>1900000</th>\n",
              "      <th>30</th>\n",
              "      <td>12235302.40</td>\n",
              "      <td>24557918.0</td>\n",
              "      <td>337280.0</td>\n",
              "      <td>1</td>\n",
              "      <td>1900000</td>\n",
              "      <td>30</td>\n",
              "    </tr>\n",
              "    <tr>\n",
              "      <th>Q53</th>\n",
              "      <th>1</th>\n",
              "      <th>5</th>\n",
              "      <th>3400000</th>\n",
              "      <th>10</th>\n",
              "      <td>751654.45</td>\n",
              "      <td>4383480.0</td>\n",
              "      <td>114688.0</td>\n",
              "      <td>5</td>\n",
              "      <td>3400000</td>\n",
              "      <td>10</td>\n",
              "    </tr>\n",
              "    <tr>\n",
              "      <th>Q40</th>\n",
              "      <th>2</th>\n",
              "      <th>1</th>\n",
              "      <th>2100000</th>\n",
              "      <th>50</th>\n",
              "      <td>912046.00</td>\n",
              "      <td>14925304.0</td>\n",
              "      <td>5529226.0</td>\n",
              "      <td>1</td>\n",
              "      <td>2100000</td>\n",
              "      <td>50</td>\n",
              "    </tr>\n",
              "  </tbody>\n",
              "</table>\n",
              "<p>3358 rows × 6 columns</p>\n",
              "</div>"
            ],
            "text/plain": [
              "                                    cpu_cost     io_cost   mem_cost  dop_q  \\\n",
              "Q   tpc dop_q frequency db_name                                              \n",
              "Q40 1   3     1500000   50        9423944.50  63620408.0    76667.0      3   \n",
              "Q38 1   5     3000000   30        3323682.10  48693936.0  1249936.0      5   \n",
              "Q46 1   3     800000    30        2700677.20  16824943.0    62696.0      3   \n",
              "Q34 1   1     1200000   50        9251638.16  23326742.0    54435.0      1   \n",
              "              3000000   50        9251638.16  23326961.0    54216.0      1   \n",
              "...                                      ...         ...        ...    ...   \n",
              "Q50 1   1     3400000   50        4502550.18  16820520.0    62208.0      1   \n",
              "Q22 1   5     1900000   10        1205282.69   7846142.0    44960.0      5   \n",
              "Q40 1   1     1900000   30       12235302.40  24557918.0   337280.0      1   \n",
              "Q53 1   5     3400000   10         751654.45   4383480.0   114688.0      5   \n",
              "Q40 2   1     2100000   50         912046.00  14925304.0  5529226.0      1   \n",
              "\n",
              "                                 frequency  db_name  \n",
              "Q   tpc dop_q frequency db_name                      \n",
              "Q40 1   3     1500000   50         1500000       50  \n",
              "Q38 1   5     3000000   30         3000000       30  \n",
              "Q46 1   3     800000    30          800000       30  \n",
              "Q34 1   1     1200000   50         1200000       50  \n",
              "              3000000   50         3000000       50  \n",
              "...                                    ...      ...  \n",
              "Q50 1   1     3400000   50         3400000       50  \n",
              "Q22 1   5     1900000   10         1900000       10  \n",
              "Q40 1   1     1900000   30         1900000       30  \n",
              "Q53 1   5     3400000   10         3400000       10  \n",
              "Q40 2   1     2100000   50         2100000       50  \n",
              "\n",
              "[3358 rows x 6 columns]"
            ]
          },
          "execution_count": 88,
          "metadata": {},
          "output_type": "execute_result"
        }
      ],
      "source": [
        "x_train_b"
      ]
    },
    {
      "cell_type": "code",
      "execution_count": 89,
      "metadata": {
        "colab": {
          "base_uri": "https://localhost:8080/"
        },
        "id": "1hTMEw7PPnSQ",
        "outputId": "da306bbb-5604-4378-86fd-a7bef8572700"
      },
      "outputs": [
        {
          "data": {
            "text/plain": [
              "12261"
            ]
          },
          "execution_count": 89,
          "metadata": {},
          "output_type": "execute_result"
        }
      ],
      "source": [
        "len(x_train)"
      ]
    },
    {
      "cell_type": "code",
      "execution_count": 90,
      "metadata": {
        "colab": {
          "base_uri": "https://localhost:8080/"
        },
        "id": "9oz49FwxPrE6",
        "outputId": "90acefdf-a93d-4225-afbc-51d1d2a6c96d"
      },
      "outputs": [
        {
          "data": {
            "text/plain": [
              "1363"
            ]
          },
          "execution_count": 90,
          "metadata": {},
          "output_type": "execute_result"
        }
      ],
      "source": [
        "len(x_test)"
      ]
    },
    {
      "cell_type": "code",
      "execution_count": 91,
      "metadata": {
        "colab": {
          "base_uri": "https://localhost:8080/",
          "height": 455
        },
        "id": "tSBSwuZ-NwdS",
        "outputId": "3cc3bb7e-6708-4af2-817a-ee328d908d2a"
      },
      "outputs": [
        {
          "data": {
            "text/html": [
              "<div>\n",
              "<style scoped>\n",
              "    .dataframe tbody tr th:only-of-type {\n",
              "        vertical-align: middle;\n",
              "    }\n",
              "\n",
              "    .dataframe tbody tr th {\n",
              "        vertical-align: top;\n",
              "    }\n",
              "\n",
              "    .dataframe thead th {\n",
              "        text-align: right;\n",
              "    }\n",
              "</style>\n",
              "<table border=\"1\" class=\"dataframe\">\n",
              "  <thead>\n",
              "    <tr style=\"text-align: right;\">\n",
              "      <th></th>\n",
              "      <th></th>\n",
              "      <th></th>\n",
              "      <th></th>\n",
              "      <th></th>\n",
              "      <th>cpu_cost</th>\n",
              "      <th>io_cost</th>\n",
              "      <th>mem_cost</th>\n",
              "      <th>dop_q</th>\n",
              "      <th>frequency</th>\n",
              "      <th>db_name</th>\n",
              "    </tr>\n",
              "    <tr>\n",
              "      <th>Q</th>\n",
              "      <th>tpc</th>\n",
              "      <th>dop_q</th>\n",
              "      <th>frequency</th>\n",
              "      <th>db_name</th>\n",
              "      <th></th>\n",
              "      <th></th>\n",
              "      <th></th>\n",
              "      <th></th>\n",
              "      <th></th>\n",
              "      <th></th>\n",
              "    </tr>\n",
              "  </thead>\n",
              "  <tbody>\n",
              "    <tr>\n",
              "      <th rowspan=\"5\" valign=\"top\">Q1</th>\n",
              "      <th rowspan=\"5\" valign=\"top\">1</th>\n",
              "      <th rowspan=\"5\" valign=\"top\">1</th>\n",
              "      <th rowspan=\"3\" valign=\"top\">800000</th>\n",
              "      <th>10</th>\n",
              "      <td>4120605.58</td>\n",
              "      <td>5913014.0</td>\n",
              "      <td>1568.0</td>\n",
              "      <td>1</td>\n",
              "      <td>800000</td>\n",
              "      <td>10</td>\n",
              "    </tr>\n",
              "    <tr>\n",
              "      <th>30</th>\n",
              "      <td>7702760.10</td>\n",
              "      <td>15115268.0</td>\n",
              "      <td>1568.0</td>\n",
              "      <td>1</td>\n",
              "      <td>800000</td>\n",
              "      <td>30</td>\n",
              "    </tr>\n",
              "    <tr>\n",
              "      <th>50</th>\n",
              "      <td>11348678.01</td>\n",
              "      <td>24311169.0</td>\n",
              "      <td>1568.0</td>\n",
              "      <td>1</td>\n",
              "      <td>800000</td>\n",
              "      <td>50</td>\n",
              "    </tr>\n",
              "    <tr>\n",
              "      <th rowspan=\"2\" valign=\"top\">1200000</th>\n",
              "      <th>10</th>\n",
              "      <td>4120605.58</td>\n",
              "      <td>5913238.0</td>\n",
              "      <td>1344.0</td>\n",
              "      <td>1</td>\n",
              "      <td>1200000</td>\n",
              "      <td>10</td>\n",
              "    </tr>\n",
              "    <tr>\n",
              "      <th>30</th>\n",
              "      <td>7702760.10</td>\n",
              "      <td>15115492.0</td>\n",
              "      <td>1344.0</td>\n",
              "      <td>1</td>\n",
              "      <td>1200000</td>\n",
              "      <td>30</td>\n",
              "    </tr>\n",
              "    <tr>\n",
              "      <th>...</th>\n",
              "      <th>...</th>\n",
              "      <th>...</th>\n",
              "      <th>...</th>\n",
              "      <th>...</th>\n",
              "      <td>...</td>\n",
              "      <td>...</td>\n",
              "      <td>...</td>\n",
              "      <td>...</td>\n",
              "      <td>...</td>\n",
              "      <td>...</td>\n",
              "    </tr>\n",
              "    <tr>\n",
              "      <th rowspan=\"5\" valign=\"top\">Q9</th>\n",
              "      <th rowspan=\"5\" valign=\"top\">1</th>\n",
              "      <th rowspan=\"5\" valign=\"top\">5</th>\n",
              "      <th rowspan=\"2\" valign=\"top\">3000000</th>\n",
              "      <th>30</th>\n",
              "      <td>3883152.03</td>\n",
              "      <td>31177294.0</td>\n",
              "      <td>105143.0</td>\n",
              "      <td>5</td>\n",
              "      <td>3000000</td>\n",
              "      <td>30</td>\n",
              "    </tr>\n",
              "    <tr>\n",
              "      <th>50</th>\n",
              "      <td>6434676.93</td>\n",
              "      <td>48392570.0</td>\n",
              "      <td>105462.0</td>\n",
              "      <td>5</td>\n",
              "      <td>3000000</td>\n",
              "      <td>50</td>\n",
              "    </tr>\n",
              "    <tr>\n",
              "      <th rowspan=\"3\" valign=\"top\">3400000</th>\n",
              "      <th>10</th>\n",
              "      <td>1332646.87</td>\n",
              "      <td>13785006.0</td>\n",
              "      <td>104071.0</td>\n",
              "      <td>5</td>\n",
              "      <td>3400000</td>\n",
              "      <td>10</td>\n",
              "    </tr>\n",
              "    <tr>\n",
              "      <th>30</th>\n",
              "      <td>3883152.03</td>\n",
              "      <td>31172873.0</td>\n",
              "      <td>105143.0</td>\n",
              "      <td>5</td>\n",
              "      <td>3400000</td>\n",
              "      <td>30</td>\n",
              "    </tr>\n",
              "    <tr>\n",
              "      <th>50</th>\n",
              "      <td>6434676.93</td>\n",
              "      <td>48383652.0</td>\n",
              "      <td>105462.0</td>\n",
              "      <td>5</td>\n",
              "      <td>3400000</td>\n",
              "      <td>50</td>\n",
              "    </tr>\n",
              "  </tbody>\n",
              "</table>\n",
              "<p>5012 rows × 6 columns</p>\n",
              "</div>"
            ],
            "text/plain": [
              "                                   cpu_cost     io_cost  mem_cost  dop_q  \\\n",
              "Q  tpc dop_q frequency db_name                                             \n",
              "Q1 1   1     800000    10        4120605.58   5913014.0    1568.0      1   \n",
              "                       30        7702760.10  15115268.0    1568.0      1   \n",
              "                       50       11348678.01  24311169.0    1568.0      1   \n",
              "             1200000   10        4120605.58   5913238.0    1344.0      1   \n",
              "                       30        7702760.10  15115492.0    1344.0      1   \n",
              "...                                     ...         ...       ...    ...   \n",
              "Q9 1   5     3000000   30        3883152.03  31177294.0  105143.0      5   \n",
              "                       50        6434676.93  48392570.0  105462.0      5   \n",
              "             3400000   10        1332646.87  13785006.0  104071.0      5   \n",
              "                       30        3883152.03  31172873.0  105143.0      5   \n",
              "                       50        6434676.93  48383652.0  105462.0      5   \n",
              "\n",
              "                                frequency  db_name  \n",
              "Q  tpc dop_q frequency db_name                      \n",
              "Q1 1   1     800000    10          800000       10  \n",
              "                       30          800000       30  \n",
              "                       50          800000       50  \n",
              "             1200000   10         1200000       10  \n",
              "                       30         1200000       30  \n",
              "...                                   ...      ...  \n",
              "Q9 1   5     3000000   30         3000000       30  \n",
              "                       50         3000000       50  \n",
              "             3400000   10         3400000       10  \n",
              "                       30         3400000       30  \n",
              "                       50         3400000       50  \n",
              "\n",
              "[5012 rows x 6 columns]"
            ]
          },
          "execution_count": 91,
          "metadata": {},
          "output_type": "execute_result"
        }
      ],
      "source": [
        "df_q_1"
      ]
    },
    {
      "cell_type": "code",
      "execution_count": 92,
      "metadata": {
        "colab": {
          "base_uri": "https://localhost:8080/"
        },
        "id": "I6MEvG5HNxFY",
        "outputId": "5b090b7c-89d9-4e72-a8f0-932ebc8b08d4"
      },
      "outputs": [
        {
          "data": {
            "text/plain": [
              "RandomForestRegressor(random_state=0)"
            ]
          },
          "execution_count": 92,
          "metadata": {},
          "output_type": "execute_result"
        }
      ],
      "source": [
        "rf = RandomForestRegressor(n_estimators = 100, random_state = 0)\n",
        "rf.fit(x_train_q,y_train_q)"
      ]
    },
    {
      "cell_type": "code",
      "execution_count": 93,
      "metadata": {
        "colab": {
          "base_uri": "https://localhost:8080/"
        },
        "id": "q0OZLs1FN6Aa",
        "outputId": "9485777a-2892-4214-fd9c-90ca17c956ea"
      },
      "outputs": [
        {
          "data": {
            "text/plain": [
              "0.016276448213400935"
            ]
          },
          "execution_count": 93,
          "metadata": {},
          "output_type": "execute_result"
        }
      ],
      "source": [
        "pred_y = rf.predict(x_train_q)\n",
        "mean_absolute_percentage_error(y_train_q,pred_y)"
      ]
    },
    {
      "cell_type": "markdown",
      "metadata": {
        "id": "tvREuhotwRNg"
      },
      "source": [
        "evaluation"
      ]
    },
    {
      "cell_type": "code",
      "execution_count": 94,
      "metadata": {
        "colab": {
          "base_uri": "https://localhost:8080/"
        },
        "id": "0t-EPRo-N_uZ",
        "outputId": "87949407-cc2f-4959-d3a8-6ea4d8c2b8e4"
      },
      "outputs": [
        {
          "data": {
            "text/plain": [
              "0.045095662389225945"
            ]
          },
          "execution_count": 94,
          "metadata": {},
          "output_type": "execute_result"
        }
      ],
      "source": [
        "pred_y = rf.predict(x_test_q)\n",
        "#MAPE\n",
        "mean_absolute_percentage_error(y_test_q,pred_y)"
      ]
    },
    {
      "cell_type": "code",
      "execution_count": 95,
      "metadata": {
        "colab": {
          "base_uri": "https://localhost:8080/"
        },
        "id": "nS3PlVlLOF_t",
        "outputId": "7e3ea5dc-2023-458f-8774-a508b4f5d600"
      },
      "outputs": [
        {
          "data": {
            "text/plain": [
              "1.8830350792453452"
            ]
          },
          "execution_count": 95,
          "metadata": {},
          "output_type": "execute_result"
        }
      ],
      "source": [
        "#MAE\n",
        "mean_absolute_error(y_test_q,pred_y)\n"
      ]
    },
    {
      "cell_type": "code",
      "execution_count": 96,
      "metadata": {
        "colab": {
          "base_uri": "https://localhost:8080/",
          "height": 238
        },
        "id": "s0cg3T-MOQFE",
        "outputId": "2b72089b-61fa-42bd-bdd1-fbce0d3e6032"
      },
      "outputs": [
        {
          "data": {
            "text/html": [
              "<div>\n",
              "<style scoped>\n",
              "    .dataframe tbody tr th:only-of-type {\n",
              "        vertical-align: middle;\n",
              "    }\n",
              "\n",
              "    .dataframe tbody tr th {\n",
              "        vertical-align: top;\n",
              "    }\n",
              "\n",
              "    .dataframe thead th {\n",
              "        text-align: right;\n",
              "    }\n",
              "</style>\n",
              "<table border=\"1\" class=\"dataframe\">\n",
              "  <thead>\n",
              "    <tr style=\"text-align: right;\">\n",
              "      <th></th>\n",
              "      <th>feature_importances</th>\n",
              "    </tr>\n",
              "  </thead>\n",
              "  <tbody>\n",
              "    <tr>\n",
              "      <th>cpu_cost</th>\n",
              "      <td>0.103666</td>\n",
              "    </tr>\n",
              "    <tr>\n",
              "      <th>io_cost</th>\n",
              "      <td>0.153407</td>\n",
              "    </tr>\n",
              "    <tr>\n",
              "      <th>mem_cost</th>\n",
              "      <td>0.132906</td>\n",
              "    </tr>\n",
              "    <tr>\n",
              "      <th>dop_q</th>\n",
              "      <td>0.072877</td>\n",
              "    </tr>\n",
              "    <tr>\n",
              "      <th>frequency</th>\n",
              "      <td>0.516154</td>\n",
              "    </tr>\n",
              "    <tr>\n",
              "      <th>scale_factore</th>\n",
              "      <td>0.020989</td>\n",
              "    </tr>\n",
              "  </tbody>\n",
              "</table>\n",
              "</div>"
            ],
            "text/plain": [
              "               feature_importances\n",
              "cpu_cost                  0.103666\n",
              "io_cost                   0.153407\n",
              "mem_cost                  0.132906\n",
              "dop_q                     0.072877\n",
              "frequency                 0.516154\n",
              "scale_factore             0.020989"
            ]
          },
          "execution_count": 96,
          "metadata": {},
          "output_type": "execute_result"
        }
      ],
      "source": [
        "cdf = pd.DataFrame(rf.feature_importances_,['cpu_cost', 'io_cost' , 'mem_cost'  ,'dop_q', 'frequency' , 'scale_factore' ],columns=['feature_importances'])\n",
        "cdf"
      ]
    },
    {
      "cell_type": "code",
      "execution_count": null,
      "metadata": {
        "id": "3NP2yG4Pdr1A"
      },
      "outputs": [],
      "source": []
    },
    {
      "cell_type": "markdown",
      "metadata": {
        "id": "Q19rCe3tH9W5"
      },
      "source": [
        "## PBM with this features\n",
        "( cpu_cost , io_cost , mem_cost , frequnecy , dop_pl , scale factore )"
      ]
    },
    {
      "cell_type": "code",
      "execution_count": 97,
      "metadata": {
        "id": "tQ1wIq4naact"
      },
      "outputs": [],
      "source": [
        "x_train_pl , x_test_pl  = train_test_split( pl_q[['Q','cpu_cost' , 'io_cost' , 'mem_cost' , 'dop_pl' , 'frequency' , 'db_name','tpc','dop_q','power']] , test_size=0.33 ,random_state = 1)"
      ]
    },
    {
      "cell_type": "code",
      "execution_count": 98,
      "metadata": {
        "id": "Tryh4f90aavk"
      },
      "outputs": [],
      "source": [
        "scaler_pl = StandardScaler().fit(x_train_pl[['cpu_cost' , 'io_cost' , 'mem_cost' , 'dop_pl' , 'frequency' , 'db_name']].values)\n",
        "x_train_pl_scaled = scaler_pl.transform(x_train_pl[['cpu_cost' , 'io_cost' , 'mem_cost' , 'dop_pl' , 'frequency' , 'db_name']].values)\n",
        "x_test_pl_scaled = scaler_pl.transform(x_test_pl[['cpu_cost' , 'io_cost' , 'mem_cost' , 'dop_pl' , 'frequency' , 'db_name']].values)"
      ]
    },
    {
      "cell_type": "code",
      "execution_count": 99,
      "metadata": {
        "colab": {
          "base_uri": "https://localhost:8080/"
        },
        "id": "rFUaI8n1h5_O",
        "outputId": "c27a603d-9331-4f75-f20c-b76e4cdfd1fc"
      },
      "outputs": [
        {
          "data": {
            "text/plain": [
              "array([[-5.70029332e-01,  5.19467709e-01, -5.13939731e-02,\n",
              "        -9.55103161e-01, -2.41523637e-01,  1.17810378e+00],\n",
              "       [-2.81705135e-01, -6.42676063e-01,  1.53305802e-02,\n",
              "        -9.55103161e-01, -1.05762064e+00, -1.25431678e+00],\n",
              "       [-5.70029397e-01, -1.98469481e-01, -1.05696277e-01,\n",
              "         1.46141174e+00,  6.91158651e-01,  1.17810378e+00],\n",
              "       ...,\n",
              "       [ 1.20643331e+00,  5.21194668e-01, -7.12412199e-02,\n",
              "         2.53154292e-01, -1.05762064e+00,  1.17810378e+00],\n",
              "       [-2.23986539e-01, -6.98252512e-01, -1.19725208e-01,\n",
              "         2.53154292e-01,  2.24817507e-01, -3.81065009e-02],\n",
              "       [-5.70012421e-01, -8.39205722e-01,  1.71696456e+01,\n",
              "        -9.55103161e-01, -8.35306498e-03,  1.17810378e+00]])"
            ]
          },
          "execution_count": 99,
          "metadata": {},
          "output_type": "execute_result"
        }
      ],
      "source": [
        "x_train_pl_scaled"
      ]
    },
    {
      "cell_type": "code",
      "execution_count": 104,
      "metadata": {
        "colab": {
          "base_uri": "https://localhost:8080/"
        },
        "id": "SoVOa2INhknE",
        "outputId": "f23f55db-2e96-4159-d812-0d6368b7e5c7"
      },
      "outputs": [
        {
          "data": {
            "text/plain": [
              "RandomForestRegressor(random_state=0)"
            ]
          },
          "execution_count": 104,
          "metadata": {},
          "output_type": "execute_result"
        }
      ],
      "source": [
        "rf_pl = RandomForestRegressor(n_estimators = 100, random_state = 0)\n",
        "rf_pl.fit(x_train_pl_scaled,x_train_pl['power'].values)"
      ]
    },
    {
      "cell_type": "code",
      "execution_count": 101,
      "metadata": {
        "colab": {
          "base_uri": "https://localhost:8080/"
        },
        "id": "cICmOkfqOuXh",
        "outputId": "d5e1e087-376f-43fd-9782-14ffd49ea3e0"
      },
      "outputs": [
        {
          "data": {
            "text/plain": [
              "XGBRegressor(base_score=0.5, booster='gbtree', callbacks=None,\n",
              "             colsample_bylevel=1, colsample_bynode=1, colsample_bytree=1,\n",
              "             early_stopping_rounds=None, enable_categorical=False,\n",
              "             eval_metric=None, gamma=0, gpu_id=-1, grow_policy='depthwise',\n",
              "             importance_type=None, interaction_constraints='',\n",
              "             learning_rate=0.300000012, max_bin=256, max_cat_to_onehot=4,\n",
              "             max_delta_step=0, max_depth=6, max_leaves=0, min_child_weight=1,\n",
              "             missing=nan, monotone_constraints='()', n_estimators=100, n_jobs=0,\n",
              "             num_parallel_tree=1, predictor='auto', random_state=0, reg_alpha=0,\n",
              "             reg_lambda=1, ...)"
            ]
          },
          "execution_count": 101,
          "metadata": {},
          "output_type": "execute_result"
        }
      ],
      "source": [
        "rf_pl = XGBRegressor()\n",
        "rf_pl.fit(x_train_pl_scaled, x_train_pl['power'].values)"
      ]
    },
    {
      "cell_type": "code",
      "execution_count": 102,
      "metadata": {
        "colab": {
          "base_uri": "https://localhost:8080/"
        },
        "id": "d8zfRUr-VKXm",
        "outputId": "68018c9b-30e2-424e-fb17-1ea98b64310c"
      },
      "outputs": [
        {
          "data": {
            "text/plain": [
              "SVR(degree=1, kernel='linear')"
            ]
          },
          "execution_count": 102,
          "metadata": {},
          "output_type": "execute_result"
        }
      ],
      "source": [
        "rf_pl = svm.SVR(kernel = 'linear',  degree=1)\n",
        "rf_pl.fit(x_train_pl_scaled,x_train_pl['power'].values)"
      ]
    },
    {
      "cell_type": "code",
      "execution_count": 103,
      "metadata": {
        "colab": {
          "base_uri": "https://localhost:8080/"
        },
        "id": "sr6svFCMYDhB",
        "outputId": "5e7d6458-1365-47be-ff00-d36b1d0d4ac0"
      },
      "outputs": [
        {
          "data": {
            "text/plain": [
              "LinearRegression()"
            ]
          },
          "execution_count": 103,
          "metadata": {},
          "output_type": "execute_result"
        }
      ],
      "source": [
        "rf_pl = LinearRegression()\n",
        "rf_pl.fit(x_train_pl_scaled,x_train_pl['power'].values)"
      ]
    },
    {
      "cell_type": "code",
      "execution_count": 105,
      "metadata": {
        "colab": {
          "base_uri": "https://localhost:8080/"
        },
        "id": "ftTmRNd-iS1n",
        "outputId": "4a5e2f13-7f48-479a-8348-23ed71338f8d"
      },
      "outputs": [
        {
          "data": {
            "text/plain": [
              "0.024109615424187356"
            ]
          },
          "execution_count": 105,
          "metadata": {},
          "output_type": "execute_result"
        }
      ],
      "source": [
        "y_pred_pl = rf_pl.predict(x_train_pl_scaled)\n",
        "mean_absolute_percentage_error(x_train_pl['power'].values,y_pred_pl)"
      ]
    },
    {
      "cell_type": "markdown",
      "metadata": {
        "id": "Ku1GJqVVPbnz"
      },
      "source": [
        "* random tree : 0.06375936437792445 \n",
        "* xgboost : 0.07535232153682592 \n",
        "* svm : 0.11719283083595362\n",
        "* poly : 0.1180314240152693"
      ]
    },
    {
      "cell_type": "code",
      "execution_count": 106,
      "metadata": {
        "colab": {
          "base_uri": "https://localhost:8080/"
        },
        "id": "H1Z9k6ozi2tf",
        "outputId": "fdaad286-8a24-440b-93ff-7d6b2d962b61"
      },
      "outputs": [
        {
          "data": {
            "text/plain": [
              "0.062110152636143695"
            ]
          },
          "execution_count": 106,
          "metadata": {},
          "output_type": "execute_result"
        }
      ],
      "source": [
        "y_pred_pl = rf_pl.predict(x_test_pl_scaled)\n",
        "mean_absolute_percentage_error(x_test_pl['power'].values,y_pred_pl)"
      ]
    },
    {
      "cell_type": "code",
      "execution_count": 107,
      "metadata": {
        "colab": {
          "base_uri": "https://localhost:8080/"
        },
        "id": "tNaA2h3csC8M",
        "outputId": "ed810ed7-f913-4ba1-f4bf-7956794174a6"
      },
      "outputs": [
        {
          "data": {
            "text/plain": [
              "2.426892444041645"
            ]
          },
          "execution_count": 107,
          "metadata": {},
          "output_type": "execute_result"
        }
      ],
      "source": [
        "mean_absolute_error(x_test_pl['power'].values,y_pred_pl)"
      ]
    },
    {
      "cell_type": "markdown",
      "metadata": {
        "id": "P-R6981fEJM8"
      },
      "source": [
        "* random forest regression feature importance"
      ]
    },
    {
      "cell_type": "code",
      "execution_count": 108,
      "metadata": {
        "colab": {
          "base_uri": "https://localhost:8080/",
          "height": 238
        },
        "id": "-FsAO3rHk3HD",
        "outputId": "ae1a4617-6fa9-4bfe-f7bd-2021df4814a6"
      },
      "outputs": [
        {
          "data": {
            "text/html": [
              "<div>\n",
              "<style scoped>\n",
              "    .dataframe tbody tr th:only-of-type {\n",
              "        vertical-align: middle;\n",
              "    }\n",
              "\n",
              "    .dataframe tbody tr th {\n",
              "        vertical-align: top;\n",
              "    }\n",
              "\n",
              "    .dataframe thead th {\n",
              "        text-align: right;\n",
              "    }\n",
              "</style>\n",
              "<table border=\"1\" class=\"dataframe\">\n",
              "  <thead>\n",
              "    <tr style=\"text-align: right;\">\n",
              "      <th></th>\n",
              "      <th>feature_importances</th>\n",
              "    </tr>\n",
              "  </thead>\n",
              "  <tbody>\n",
              "    <tr>\n",
              "      <th>cpu_cost</th>\n",
              "      <td>0.331424</td>\n",
              "    </tr>\n",
              "    <tr>\n",
              "      <th>io_cost</th>\n",
              "      <td>0.116843</td>\n",
              "    </tr>\n",
              "    <tr>\n",
              "      <th>mem_cost</th>\n",
              "      <td>0.101889</td>\n",
              "    </tr>\n",
              "    <tr>\n",
              "      <th>dop_pl</th>\n",
              "      <td>0.132849</td>\n",
              "    </tr>\n",
              "    <tr>\n",
              "      <th>frequency</th>\n",
              "      <td>0.301148</td>\n",
              "    </tr>\n",
              "    <tr>\n",
              "      <th>scale_factore</th>\n",
              "      <td>0.015848</td>\n",
              "    </tr>\n",
              "  </tbody>\n",
              "</table>\n",
              "</div>"
            ],
            "text/plain": [
              "               feature_importances\n",
              "cpu_cost                  0.331424\n",
              "io_cost                   0.116843\n",
              "mem_cost                  0.101889\n",
              "dop_pl                    0.132849\n",
              "frequency                 0.301148\n",
              "scale_factore             0.015848"
            ]
          },
          "execution_count": 108,
          "metadata": {},
          "output_type": "execute_result"
        }
      ],
      "source": [
        "pd.DataFrame(rf_pl.feature_importances_,['cpu_cost', 'io_cost' , 'mem_cost'  ,'dop_pl', 'frequency' , 'scale_factore' ],columns=['feature_importances'])"
      ]
    },
    {
      "cell_type": "code",
      "execution_count": 109,
      "metadata": {
        "colab": {
          "base_uri": "https://localhost:8080/",
          "height": 257
        },
        "id": "ozI-ODbX3mzd",
        "outputId": "92a6de6b-9784-4665-860c-4e1607064109"
      },
      "outputs": [
        {
          "data": {
            "image/png": "[encoded data removed]",
            "text/plain": [
              "<Figure size 432x288 with 1 Axes>"
            ]
          },
          "metadata": {},
          "output_type": "display_data"
        }
      ],
      "source": [
        "labels = 'cpu_cost', 'io_cost' , 'mem_cost'  ,'dop_pl', 'frequency' , 'scale_factore'\n",
        "sizes = rf_pl.feature_importances_\n",
        "explode = (0, 0.1, 0.1, 0 , 0  , 0.1 )  # only \"explode\" the 2nd slice (i.e. 'Hogs')\n",
        "\n",
        "fig1, ax1 = plt.subplots()\n",
        "ax1.pie(sizes, explode=explode, labels=labels, autopct='%1.1f%%',\n",
        "        shadow=True, startangle=90)\n",
        "ax1.axis('equal')  # Equal aspect ratio ensures that pie is drawn as a circle.\n",
        "\n",
        "plt.show()"
      ]
    },
    {
      "cell_type": "markdown",
      "metadata": {
        "id": "savNMwSOEf9B"
      },
      "source": [
        "## Evaluation the PBM on the query level"
      ]
    },
    {
      "cell_type": "code",
      "execution_count": 110,
      "metadata": {
        "id": "o7cORkzNkdTl"
      },
      "outputs": [],
      "source": [
        "x_test_pl['pred'] = y_pred_pl"
      ]
    },
    {
      "cell_type": "code",
      "execution_count": 111,
      "metadata": {
        "colab": {
          "base_uri": "https://localhost:8080/",
          "height": 424
        },
        "id": "CK7QRlVaktWx",
        "outputId": "b48f7d81-bed3-4639-aa79-2f51b4bdfb0d"
      },
      "outputs": [
        {
          "data": {
            "text/html": [
              "<div>\n",
              "<style scoped>\n",
              "    .dataframe tbody tr th:only-of-type {\n",
              "        vertical-align: middle;\n",
              "    }\n",
              "\n",
              "    .dataframe tbody tr th {\n",
              "        vertical-align: top;\n",
              "    }\n",
              "\n",
              "    .dataframe thead th {\n",
              "        text-align: right;\n",
              "    }\n",
              "</style>\n",
              "<table border=\"1\" class=\"dataframe\">\n",
              "  <thead>\n",
              "    <tr style=\"text-align: right;\">\n",
              "      <th></th>\n",
              "      <th>Q</th>\n",
              "      <th>cpu_cost</th>\n",
              "      <th>io_cost</th>\n",
              "      <th>mem_cost</th>\n",
              "      <th>dop_pl</th>\n",
              "      <th>frequency</th>\n",
              "      <th>db_name</th>\n",
              "      <th>tpc</th>\n",
              "      <th>dop_q</th>\n",
              "      <th>power</th>\n",
              "      <th>pred</th>\n",
              "    </tr>\n",
              "  </thead>\n",
              "  <tbody>\n",
              "    <tr>\n",
              "      <th>12066</th>\n",
              "      <td>Q49</td>\n",
              "      <td>4572100.86</td>\n",
              "      <td>11209336.0</td>\n",
              "      <td>38912.0</td>\n",
              "      <td>5.0</td>\n",
              "      <td>3400000</td>\n",
              "      <td>50</td>\n",
              "      <td>1</td>\n",
              "      <td>5</td>\n",
              "      <td>66.648438</td>\n",
              "      <td>59.971704</td>\n",
              "    </tr>\n",
              "    <tr>\n",
              "      <th>5531</th>\n",
              "      <td>Q38</td>\n",
              "      <td>119994.54</td>\n",
              "      <td>26680.0</td>\n",
              "      <td>245756.0</td>\n",
              "      <td>3.0</td>\n",
              "      <td>3400000</td>\n",
              "      <td>30</td>\n",
              "      <td>1</td>\n",
              "      <td>3</td>\n",
              "      <td>65.340500</td>\n",
              "      <td>61.580132</td>\n",
              "    </tr>\n",
              "    <tr>\n",
              "      <th>6182</th>\n",
              "      <td>Q6</td>\n",
              "      <td>1499801.12</td>\n",
              "      <td>2935318.0</td>\n",
              "      <td>17824.0</td>\n",
              "      <td>3.0</td>\n",
              "      <td>1900000</td>\n",
              "      <td>50</td>\n",
              "      <td>1</td>\n",
              "      <td>3</td>\n",
              "      <td>44.049316</td>\n",
              "      <td>43.031525</td>\n",
              "    </tr>\n",
              "    <tr>\n",
              "      <th>5193</th>\n",
              "      <td>Q33</td>\n",
              "      <td>0.23</td>\n",
              "      <td>8884698.0</td>\n",
              "      <td>102856.0</td>\n",
              "      <td>1.0</td>\n",
              "      <td>2300000</td>\n",
              "      <td>30</td>\n",
              "      <td>1</td>\n",
              "      <td>3</td>\n",
              "      <td>38.192500</td>\n",
              "      <td>30.503537</td>\n",
              "    </tr>\n",
              "    <tr>\n",
              "      <th>6772</th>\n",
              "      <td>Q14</td>\n",
              "      <td>14.70</td>\n",
              "      <td>16295084.0</td>\n",
              "      <td>32142.0</td>\n",
              "      <td>1.0</td>\n",
              "      <td>3000000</td>\n",
              "      <td>50</td>\n",
              "      <td>1</td>\n",
              "      <td>3</td>\n",
              "      <td>35.579500</td>\n",
              "      <td>32.375413</td>\n",
              "    </tr>\n",
              "    <tr>\n",
              "      <th>...</th>\n",
              "      <td>...</td>\n",
              "      <td>...</td>\n",
              "      <td>...</td>\n",
              "      <td>...</td>\n",
              "      <td>...</td>\n",
              "      <td>...</td>\n",
              "      <td>...</td>\n",
              "      <td>...</td>\n",
              "      <td>...</td>\n",
              "      <td>...</td>\n",
              "      <td>...</td>\n",
              "    </tr>\n",
              "    <tr>\n",
              "      <th>9722</th>\n",
              "      <td>Q65</td>\n",
              "      <td>0.15</td>\n",
              "      <td>3212154.0</td>\n",
              "      <td>161514.0</td>\n",
              "      <td>1.0</td>\n",
              "      <td>1200000</td>\n",
              "      <td>10</td>\n",
              "      <td>1</td>\n",
              "      <td>3</td>\n",
              "      <td>28.603500</td>\n",
              "      <td>29.232975</td>\n",
              "    </tr>\n",
              "    <tr>\n",
              "      <th>6588</th>\n",
              "      <td>Q11</td>\n",
              "      <td>4556031.99</td>\n",
              "      <td>21960198.0</td>\n",
              "      <td>39182.0</td>\n",
              "      <td>5.0</td>\n",
              "      <td>3000000</td>\n",
              "      <td>50</td>\n",
              "      <td>1</td>\n",
              "      <td>5</td>\n",
              "      <td>52.528353</td>\n",
              "      <td>52.171566</td>\n",
              "    </tr>\n",
              "    <tr>\n",
              "      <th>4084</th>\n",
              "      <td>Q37</td>\n",
              "      <td>87499.01</td>\n",
              "      <td>3137751.0</td>\n",
              "      <td>264236.0</td>\n",
              "      <td>3.0</td>\n",
              "      <td>1900000</td>\n",
              "      <td>10</td>\n",
              "      <td>1</td>\n",
              "      <td>3</td>\n",
              "      <td>37.336167</td>\n",
              "      <td>39.031051</td>\n",
              "    </tr>\n",
              "    <tr>\n",
              "      <th>9416</th>\n",
              "      <td>Q58</td>\n",
              "      <td>0.25</td>\n",
              "      <td>2174076.0</td>\n",
              "      <td>75008.0</td>\n",
              "      <td>1.0</td>\n",
              "      <td>1900000</td>\n",
              "      <td>10</td>\n",
              "      <td>1</td>\n",
              "      <td>3</td>\n",
              "      <td>28.569000</td>\n",
              "      <td>31.606905</td>\n",
              "    </tr>\n",
              "    <tr>\n",
              "      <th>7214</th>\n",
              "      <td>Q21</td>\n",
              "      <td>8984423.72</td>\n",
              "      <td>21525814.0</td>\n",
              "      <td>480.0</td>\n",
              "      <td>1.0</td>\n",
              "      <td>2300000</td>\n",
              "      <td>50</td>\n",
              "      <td>1</td>\n",
              "      <td>1</td>\n",
              "      <td>38.854390</td>\n",
              "      <td>39.145497</td>\n",
              "    </tr>\n",
              "  </tbody>\n",
              "</table>\n",
              "<p>4496 rows × 11 columns</p>\n",
              "</div>"
            ],
            "text/plain": [
              "         Q    cpu_cost     io_cost  mem_cost  dop_pl  frequency  db_name  tpc  \\\n",
              "12066  Q49  4572100.86  11209336.0   38912.0     5.0    3400000       50    1   \n",
              "5531   Q38   119994.54     26680.0  245756.0     3.0    3400000       30    1   \n",
              "6182    Q6  1499801.12   2935318.0   17824.0     3.0    1900000       50    1   \n",
              "5193   Q33        0.23   8884698.0  102856.0     1.0    2300000       30    1   \n",
              "6772   Q14       14.70  16295084.0   32142.0     1.0    3000000       50    1   \n",
              "...    ...         ...         ...       ...     ...        ...      ...  ...   \n",
              "9722   Q65        0.15   3212154.0  161514.0     1.0    1200000       10    1   \n",
              "6588   Q11  4556031.99  21960198.0   39182.0     5.0    3000000       50    1   \n",
              "4084   Q37    87499.01   3137751.0  264236.0     3.0    1900000       10    1   \n",
              "9416   Q58        0.25   2174076.0   75008.0     1.0    1900000       10    1   \n",
              "7214   Q21  8984423.72  21525814.0     480.0     1.0    2300000       50    1   \n",
              "\n",
              "       dop_q      power       pred  \n",
              "12066      5  66.648438  59.971704  \n",
              "5531       3  65.340500  61.580132  \n",
              "6182       3  44.049316  43.031525  \n",
              "5193       3  38.192500  30.503537  \n",
              "6772       3  35.579500  32.375413  \n",
              "...      ...        ...        ...  \n",
              "9722       3  28.603500  29.232975  \n",
              "6588       5  52.528353  52.171566  \n",
              "4084       3  37.336167  39.031051  \n",
              "9416       3  28.569000  31.606905  \n",
              "7214       1  38.854390  39.145497  \n",
              "\n",
              "[4496 rows x 11 columns]"
            ]
          },
          "execution_count": 111,
          "metadata": {},
          "output_type": "execute_result"
        }
      ],
      "source": [
        "x_test_pl"
      ]
    },
    {
      "cell_type": "code",
      "execution_count": 112,
      "metadata": {
        "colab": {
          "base_uri": "https://localhost:8080/",
          "height": 455
        },
        "id": "9VWCNkXckxql",
        "outputId": "d4ea56ba-67e9-46a8-eaeb-5ca6999f89fe"
      },
      "outputs": [
        {
          "data": {
            "text/html": [
              "<div>\n",
              "<style scoped>\n",
              "    .dataframe tbody tr th:only-of-type {\n",
              "        vertical-align: middle;\n",
              "    }\n",
              "\n",
              "    .dataframe tbody tr th {\n",
              "        vertical-align: top;\n",
              "    }\n",
              "\n",
              "    .dataframe thead th {\n",
              "        text-align: right;\n",
              "    }\n",
              "</style>\n",
              "<table border=\"1\" class=\"dataframe\">\n",
              "  <thead>\n",
              "    <tr style=\"text-align: right;\">\n",
              "      <th></th>\n",
              "      <th></th>\n",
              "      <th></th>\n",
              "      <th></th>\n",
              "      <th></th>\n",
              "      <th>cpu_cost</th>\n",
              "      <th>io_cost</th>\n",
              "      <th>mem_cost</th>\n",
              "      <th>power</th>\n",
              "      <th>pred</th>\n",
              "      <th>dop_pl</th>\n",
              "    </tr>\n",
              "    <tr>\n",
              "      <th>Q</th>\n",
              "      <th>tpc</th>\n",
              "      <th>dop_q</th>\n",
              "      <th>frequency</th>\n",
              "      <th>db_name</th>\n",
              "      <th></th>\n",
              "      <th></th>\n",
              "      <th></th>\n",
              "      <th></th>\n",
              "      <th></th>\n",
              "      <th></th>\n",
              "    </tr>\n",
              "  </thead>\n",
              "  <tbody>\n",
              "    <tr>\n",
              "      <th rowspan=\"5\" valign=\"top\">Q1</th>\n",
              "      <th rowspan=\"5\" valign=\"top\">1</th>\n",
              "      <th rowspan=\"5\" valign=\"top\">1</th>\n",
              "      <th rowspan=\"2\" valign=\"top\">800000</th>\n",
              "      <th>10</th>\n",
              "      <td>4120605.58</td>\n",
              "      <td>5913014.0</td>\n",
              "      <td>1568.0</td>\n",
              "      <td>34.175525</td>\n",
              "      <td>34.778496</td>\n",
              "      <td>2.0</td>\n",
              "    </tr>\n",
              "    <tr>\n",
              "      <th>50</th>\n",
              "      <td>9473926.61</td>\n",
              "      <td>21525174.0</td>\n",
              "      <td>1120.0</td>\n",
              "      <td>35.338887</td>\n",
              "      <td>35.299735</td>\n",
              "      <td>1.0</td>\n",
              "    </tr>\n",
              "    <tr>\n",
              "      <th rowspan=\"2\" valign=\"top\">1200000</th>\n",
              "      <th>30</th>\n",
              "      <td>6577804.30</td>\n",
              "      <td>13444095.0</td>\n",
              "      <td>960.0</td>\n",
              "      <td>35.150032</td>\n",
              "      <td>35.298267</td>\n",
              "      <td>1.0</td>\n",
              "    </tr>\n",
              "    <tr>\n",
              "      <th>50</th>\n",
              "      <td>1874751.40</td>\n",
              "      <td>2786059.0</td>\n",
              "      <td>384.0</td>\n",
              "      <td>35.543042</td>\n",
              "      <td>35.616899</td>\n",
              "      <td>1.0</td>\n",
              "    </tr>\n",
              "    <tr>\n",
              "      <th>1500000</th>\n",
              "      <th>10</th>\n",
              "      <td>375029.70</td>\n",
              "      <td>556748.0</td>\n",
              "      <td>320.0</td>\n",
              "      <td>35.797875</td>\n",
              "      <td>35.998090</td>\n",
              "      <td>1.0</td>\n",
              "    </tr>\n",
              "    <tr>\n",
              "      <th>...</th>\n",
              "      <th>...</th>\n",
              "      <th>...</th>\n",
              "      <th>...</th>\n",
              "      <th>...</th>\n",
              "      <td>...</td>\n",
              "      <td>...</td>\n",
              "      <td>...</td>\n",
              "      <td>...</td>\n",
              "      <td>...</td>\n",
              "      <td>...</td>\n",
              "    </tr>\n",
              "    <tr>\n",
              "      <th rowspan=\"5\" valign=\"top\">Q9</th>\n",
              "      <th rowspan=\"5\" valign=\"top\">1</th>\n",
              "      <th rowspan=\"5\" valign=\"top\">5</th>\n",
              "      <th rowspan=\"3\" valign=\"top\">2700000</th>\n",
              "      <th>10</th>\n",
              "      <td>375029.70</td>\n",
              "      <td>507590.0</td>\n",
              "      <td>16602.0</td>\n",
              "      <td>54.369000</td>\n",
              "      <td>50.298724</td>\n",
              "      <td>5.0</td>\n",
              "    </tr>\n",
              "    <tr>\n",
              "      <th>30</th>\n",
              "      <td>3700.57</td>\n",
              "      <td>15780474.0</td>\n",
              "      <td>48555.0</td>\n",
              "      <td>42.329333</td>\n",
              "      <td>45.731998</td>\n",
              "      <td>5.0</td>\n",
              "    </tr>\n",
              "    <tr>\n",
              "      <th>50</th>\n",
              "      <td>3893.54</td>\n",
              "      <td>24125370.0</td>\n",
              "      <td>48555.0</td>\n",
              "      <td>44.091000</td>\n",
              "      <td>46.952316</td>\n",
              "      <td>5.0</td>\n",
              "    </tr>\n",
              "    <tr>\n",
              "      <th rowspan=\"2\" valign=\"top\">3400000</th>\n",
              "      <th>30</th>\n",
              "      <td>2754495.66</td>\n",
              "      <td>13840881.0</td>\n",
              "      <td>39498.0</td>\n",
              "      <td>53.944143</td>\n",
              "      <td>53.600387</td>\n",
              "      <td>5.0</td>\n",
              "    </tr>\n",
              "    <tr>\n",
              "      <th>50</th>\n",
              "      <td>4556031.99</td>\n",
              "      <td>21656376.0</td>\n",
              "      <td>39179.0</td>\n",
              "      <td>56.187851</td>\n",
              "      <td>56.816982</td>\n",
              "      <td>5.0</td>\n",
              "    </tr>\n",
              "  </tbody>\n",
              "</table>\n",
              "<p>3218 rows × 6 columns</p>\n",
              "</div>"
            ],
            "text/plain": [
              "                                  cpu_cost     io_cost  mem_cost      power  \\\n",
              "Q  tpc dop_q frequency db_name                                                \n",
              "Q1 1   1     800000    10       4120605.58   5913014.0    1568.0  34.175525   \n",
              "                       50       9473926.61  21525174.0    1120.0  35.338887   \n",
              "             1200000   30       6577804.30  13444095.0     960.0  35.150032   \n",
              "                       50       1874751.40   2786059.0     384.0  35.543042   \n",
              "             1500000   10        375029.70    556748.0     320.0  35.797875   \n",
              "...                                    ...         ...       ...        ...   \n",
              "Q9 1   5     2700000   10        375029.70    507590.0   16602.0  54.369000   \n",
              "                       30          3700.57  15780474.0   48555.0  42.329333   \n",
              "                       50          3893.54  24125370.0   48555.0  44.091000   \n",
              "             3400000   30       2754495.66  13840881.0   39498.0  53.944143   \n",
              "                       50       4556031.99  21656376.0   39179.0  56.187851   \n",
              "\n",
              "                                     pred  dop_pl  \n",
              "Q  tpc dop_q frequency db_name                     \n",
              "Q1 1   1     800000    10       34.778496     2.0  \n",
              "                       50       35.299735     1.0  \n",
              "             1200000   30       35.298267     1.0  \n",
              "                       50       35.616899     1.0  \n",
              "             1500000   10       35.998090     1.0  \n",
              "...                                   ...     ...  \n",
              "Q9 1   5     2700000   10       50.298724     5.0  \n",
              "                       30       45.731998     5.0  \n",
              "                       50       46.952316     5.0  \n",
              "             3400000   30       53.600387     5.0  \n",
              "                       50       56.816982     5.0  \n",
              "\n",
              "[3218 rows x 6 columns]"
            ]
          },
          "execution_count": 112,
          "metadata": {},
          "output_type": "execute_result"
        }
      ],
      "source": [
        "x_train_obm = x_train_pl.groupby(['Q','tpc','dop_q', 'frequency','db_name']).agg({'cpu_cost':'sum','io_cost':'sum','mem_cost':'sum','power':'mean','dop_pl':'sum'})  \n",
        "x_test_obm = x_test_pl.groupby(['Q','tpc','dop_q', 'frequency','db_name']).agg({'cpu_cost':'sum','io_cost':'sum','mem_cost':'sum','power':'mean','pred':'mean','dop_pl':'sum'})  \n",
        "x_test_obm"
      ]
    },
    {
      "cell_type": "markdown",
      "metadata": {
        "id": "lbea_z5-FJjA"
      },
      "source": [
        "* Evaluation "
      ]
    },
    {
      "cell_type": "code",
      "execution_count": 113,
      "metadata": {
        "colab": {
          "base_uri": "https://localhost:8080/"
        },
        "id": "1RU_PO4bnqdk",
        "outputId": "5b0d3dd7-5cd9-4bef-b1e3-56c62e415094"
      },
      "outputs": [
        {
          "data": {
            "text/plain": [
              "0.05474974491614085"
            ]
          },
          "execution_count": 113,
          "metadata": {},
          "output_type": "execute_result"
        }
      ],
      "source": [
        "mean_absolute_percentage_error(x_test_obm['pred'],x_test_obm['power'])"
      ]
    },
    {
      "cell_type": "code",
      "execution_count": 114,
      "metadata": {
        "colab": {
          "base_uri": "https://localhost:8080/"
        },
        "id": "h97dKiaqshfl",
        "outputId": "0bb4606a-9eb9-4adc-9f4c-2f4a482f2d21"
      },
      "outputs": [
        {
          "data": {
            "text/plain": [
              "2.1507020831755104"
            ]
          },
          "execution_count": 114,
          "metadata": {},
          "output_type": "execute_result"
        }
      ],
      "source": [
        "mean_absolute_error(x_test_obm['pred'],x_test_obm['power'])"
      ]
    },
    {
      "cell_type": "markdown",
      "metadata": {
        "id": "GSwj1kr2QO2x"
      },
      "source": [
        "* random forst : 0.05484362180302124\n",
        "* xgboost : 0.06478763937454245\n",
        "* svm : 0.09298296263809197\n",
        "* poly : 0.09736727782910812"
      ]
    },
    {
      "cell_type": "markdown",
      "metadata": {
        "id": "5JKO6i0an6Vn"
      },
      "source": [
        "## OBM with the dop_q and sum dop_pl"
      ]
    },
    {
      "cell_type": "code",
      "execution_count": 115,
      "metadata": {
        "colab": {
          "base_uri": "https://localhost:8080/",
          "height": 455
        },
        "id": "xEJCeU_xpiMJ",
        "outputId": "8605e32f-dd68-414f-94ef-98bb88c564d7"
      },
      "outputs": [
        {
          "data": {
            "text/html": [
              "<div>\n",
              "<style scoped>\n",
              "    .dataframe tbody tr th:only-of-type {\n",
              "        vertical-align: middle;\n",
              "    }\n",
              "\n",
              "    .dataframe tbody tr th {\n",
              "        vertical-align: top;\n",
              "    }\n",
              "\n",
              "    .dataframe thead th {\n",
              "        text-align: right;\n",
              "    }\n",
              "</style>\n",
              "<table border=\"1\" class=\"dataframe\">\n",
              "  <thead>\n",
              "    <tr style=\"text-align: right;\">\n",
              "      <th></th>\n",
              "      <th></th>\n",
              "      <th></th>\n",
              "      <th></th>\n",
              "      <th></th>\n",
              "      <th>cpu_cost</th>\n",
              "      <th>io_cost</th>\n",
              "      <th>mem_cost</th>\n",
              "      <th>power</th>\n",
              "      <th>dop_pl</th>\n",
              "    </tr>\n",
              "    <tr>\n",
              "      <th>Q</th>\n",
              "      <th>tpc</th>\n",
              "      <th>dop_q</th>\n",
              "      <th>frequency</th>\n",
              "      <th>db_name</th>\n",
              "      <th></th>\n",
              "      <th></th>\n",
              "      <th></th>\n",
              "      <th></th>\n",
              "      <th></th>\n",
              "    </tr>\n",
              "  </thead>\n",
              "  <tbody>\n",
              "    <tr>\n",
              "      <th rowspan=\"5\" valign=\"top\">Q1</th>\n",
              "      <th rowspan=\"5\" valign=\"top\">1</th>\n",
              "      <th rowspan=\"5\" valign=\"top\">1</th>\n",
              "      <th rowspan=\"2\" valign=\"top\">800000</th>\n",
              "      <th>30</th>\n",
              "      <td>7702760.10</td>\n",
              "      <td>15115268.0</td>\n",
              "      <td>1568.0</td>\n",
              "      <td>35.304098</td>\n",
              "      <td>2.0</td>\n",
              "    </tr>\n",
              "    <tr>\n",
              "      <th>50</th>\n",
              "      <td>1874751.40</td>\n",
              "      <td>2785995.0</td>\n",
              "      <td>448.0</td>\n",
              "      <td>35.431708</td>\n",
              "      <td>1.0</td>\n",
              "    </tr>\n",
              "    <tr>\n",
              "      <th rowspan=\"3\" valign=\"top\">1200000</th>\n",
              "      <th>10</th>\n",
              "      <td>4120605.58</td>\n",
              "      <td>5913238.0</td>\n",
              "      <td>1344.0</td>\n",
              "      <td>34.702811</td>\n",
              "      <td>2.0</td>\n",
              "    </tr>\n",
              "    <tr>\n",
              "      <th>30</th>\n",
              "      <td>1124955.80</td>\n",
              "      <td>1671397.0</td>\n",
              "      <td>384.0</td>\n",
              "      <td>35.441100</td>\n",
              "      <td>1.0</td>\n",
              "    </tr>\n",
              "    <tr>\n",
              "      <th>50</th>\n",
              "      <td>9473926.61</td>\n",
              "      <td>21525334.0</td>\n",
              "      <td>960.0</td>\n",
              "      <td>35.256240</td>\n",
              "      <td>1.0</td>\n",
              "    </tr>\n",
              "    <tr>\n",
              "      <th>...</th>\n",
              "      <th>...</th>\n",
              "      <th>...</th>\n",
              "      <th>...</th>\n",
              "      <th>...</th>\n",
              "      <td>...</td>\n",
              "      <td>...</td>\n",
              "      <td>...</td>\n",
              "      <td>...</td>\n",
              "      <td>...</td>\n",
              "    </tr>\n",
              "    <tr>\n",
              "      <th rowspan=\"5\" valign=\"top\">Q9</th>\n",
              "      <th rowspan=\"5\" valign=\"top\">1</th>\n",
              "      <th rowspan=\"5\" valign=\"top\">5</th>\n",
              "      <th rowspan=\"2\" valign=\"top\">3000000</th>\n",
              "      <th>30</th>\n",
              "      <td>3883152.03</td>\n",
              "      <td>31177294.0</td>\n",
              "      <td>105143.0</td>\n",
              "      <td>48.899857</td>\n",
              "      <td>15.0</td>\n",
              "    </tr>\n",
              "    <tr>\n",
              "      <th>50</th>\n",
              "      <td>6434676.93</td>\n",
              "      <td>48392570.0</td>\n",
              "      <td>105462.0</td>\n",
              "      <td>47.353617</td>\n",
              "      <td>15.0</td>\n",
              "    </tr>\n",
              "    <tr>\n",
              "      <th rowspan=\"3\" valign=\"top\">3400000</th>\n",
              "      <th>10</th>\n",
              "      <td>1332646.87</td>\n",
              "      <td>13785006.0</td>\n",
              "      <td>104071.0</td>\n",
              "      <td>49.376319</td>\n",
              "      <td>16.0</td>\n",
              "    </tr>\n",
              "    <tr>\n",
              "      <th>30</th>\n",
              "      <td>1128656.37</td>\n",
              "      <td>17331992.0</td>\n",
              "      <td>65645.0</td>\n",
              "      <td>46.534167</td>\n",
              "      <td>10.0</td>\n",
              "    </tr>\n",
              "    <tr>\n",
              "      <th>50</th>\n",
              "      <td>1878644.94</td>\n",
              "      <td>26727276.0</td>\n",
              "      <td>66283.0</td>\n",
              "      <td>47.074167</td>\n",
              "      <td>10.0</td>\n",
              "    </tr>\n",
              "  </tbody>\n",
              "</table>\n",
              "<p>4603 rows × 5 columns</p>\n",
              "</div>"
            ],
            "text/plain": [
              "                                  cpu_cost     io_cost  mem_cost      power  \\\n",
              "Q  tpc dop_q frequency db_name                                                \n",
              "Q1 1   1     800000    30       7702760.10  15115268.0    1568.0  35.304098   \n",
              "                       50       1874751.40   2785995.0     448.0  35.431708   \n",
              "             1200000   10       4120605.58   5913238.0    1344.0  34.702811   \n",
              "                       30       1124955.80   1671397.0     384.0  35.441100   \n",
              "                       50       9473926.61  21525334.0     960.0  35.256240   \n",
              "...                                    ...         ...       ...        ...   \n",
              "Q9 1   5     3000000   30       3883152.03  31177294.0  105143.0  48.899857   \n",
              "                       50       6434676.93  48392570.0  105462.0  47.353617   \n",
              "             3400000   10       1332646.87  13785006.0  104071.0  49.376319   \n",
              "                       30       1128656.37  17331992.0   65645.0  46.534167   \n",
              "                       50       1878644.94  26727276.0   66283.0  47.074167   \n",
              "\n",
              "                                dop_pl  \n",
              "Q  tpc dop_q frequency db_name          \n",
              "Q1 1   1     800000    30          2.0  \n",
              "                       50          1.0  \n",
              "             1200000   10          2.0  \n",
              "                       30          1.0  \n",
              "                       50          1.0  \n",
              "...                                ...  \n",
              "Q9 1   5     3000000   30         15.0  \n",
              "                       50         15.0  \n",
              "             3400000   10         16.0  \n",
              "                       30         10.0  \n",
              "                       50         10.0  \n",
              "\n",
              "[4603 rows x 5 columns]"
            ]
          },
          "execution_count": 115,
          "metadata": {},
          "output_type": "execute_result"
        }
      ],
      "source": [
        "x_train_obm"
      ]
    },
    {
      "cell_type": "code",
      "execution_count": 116,
      "metadata": {
        "colab": {
          "base_uri": "https://localhost:8080/",
          "height": 768
        },
        "id": "lw8sWdZdoUue",
        "outputId": "7e34240b-45e0-4c34-8a60-595cec544300"
      },
      "outputs": [
        {
          "name": "stderr",
          "output_type": "stream",
          "text": [
            "C:\\Users\\ASUS\\AppData\\Local\\Temp/ipykernel_12976/90160603.py:2: SettingWithCopyWarning: \n",
            "A value is trying to be set on a copy of a slice from a DataFrame.\n",
            "Try using .loc[row_indexer,col_indexer] = value instead\n",
            "\n",
            "See the caveats in the documentation: https://pandas.pydata.org/pandas-docs/stable/user_guide/indexing.html#returning-a-view-versus-a-copy\n",
            "  xobm['dop_q'] = x_train_obm.index.get_level_values('dop_q').values\n",
            "C:\\Users\\ASUS\\AppData\\Local\\Temp/ipykernel_12976/90160603.py:3: SettingWithCopyWarning: \n",
            "A value is trying to be set on a copy of a slice from a DataFrame.\n",
            "Try using .loc[row_indexer,col_indexer] = value instead\n",
            "\n",
            "See the caveats in the documentation: https://pandas.pydata.org/pandas-docs/stable/user_guide/indexing.html#returning-a-view-versus-a-copy\n",
            "  xobm['frequency'] = x_train_obm.index.get_level_values('frequency').values\n",
            "C:\\Users\\ASUS\\AppData\\Local\\Temp/ipykernel_12976/90160603.py:4: SettingWithCopyWarning: \n",
            "A value is trying to be set on a copy of a slice from a DataFrame.\n",
            "Try using .loc[row_indexer,col_indexer] = value instead\n",
            "\n",
            "See the caveats in the documentation: https://pandas.pydata.org/pandas-docs/stable/user_guide/indexing.html#returning-a-view-versus-a-copy\n",
            "  xobm['db_name'] = x_train_obm.index.get_level_values('db_name').values\n"
          ]
        },
        {
          "data": {
            "text/html": [
              "<div>\n",
              "<style scoped>\n",
              "    .dataframe tbody tr th:only-of-type {\n",
              "        vertical-align: middle;\n",
              "    }\n",
              "\n",
              "    .dataframe tbody tr th {\n",
              "        vertical-align: top;\n",
              "    }\n",
              "\n",
              "    .dataframe thead th {\n",
              "        text-align: right;\n",
              "    }\n",
              "</style>\n",
              "<table border=\"1\" class=\"dataframe\">\n",
              "  <thead>\n",
              "    <tr style=\"text-align: right;\">\n",
              "      <th></th>\n",
              "      <th></th>\n",
              "      <th></th>\n",
              "      <th></th>\n",
              "      <th></th>\n",
              "      <th>cpu_cost</th>\n",
              "      <th>io_cost</th>\n",
              "      <th>mem_cost</th>\n",
              "      <th>dop_pl</th>\n",
              "      <th>power</th>\n",
              "      <th>dop_q</th>\n",
              "      <th>frequency</th>\n",
              "      <th>db_name</th>\n",
              "    </tr>\n",
              "    <tr>\n",
              "      <th>Q</th>\n",
              "      <th>tpc</th>\n",
              "      <th>dop_q</th>\n",
              "      <th>frequency</th>\n",
              "      <th>db_name</th>\n",
              "      <th></th>\n",
              "      <th></th>\n",
              "      <th></th>\n",
              "      <th></th>\n",
              "      <th></th>\n",
              "      <th></th>\n",
              "      <th></th>\n",
              "      <th></th>\n",
              "    </tr>\n",
              "  </thead>\n",
              "  <tbody>\n",
              "    <tr>\n",
              "      <th rowspan=\"5\" valign=\"top\">Q1</th>\n",
              "      <th rowspan=\"5\" valign=\"top\">1</th>\n",
              "      <th rowspan=\"5\" valign=\"top\">1</th>\n",
              "      <th rowspan=\"2\" valign=\"top\">800000</th>\n",
              "      <th>10</th>\n",
              "      <td>4120605.58</td>\n",
              "      <td>5913014.0</td>\n",
              "      <td>1568.0</td>\n",
              "      <td>2.0</td>\n",
              "      <td>34.175525</td>\n",
              "      <td>1</td>\n",
              "      <td>800000</td>\n",
              "      <td>10</td>\n",
              "    </tr>\n",
              "    <tr>\n",
              "      <th>50</th>\n",
              "      <td>9473926.61</td>\n",
              "      <td>21525174.0</td>\n",
              "      <td>1120.0</td>\n",
              "      <td>1.0</td>\n",
              "      <td>35.338887</td>\n",
              "      <td>1</td>\n",
              "      <td>800000</td>\n",
              "      <td>50</td>\n",
              "    </tr>\n",
              "    <tr>\n",
              "      <th rowspan=\"2\" valign=\"top\">1200000</th>\n",
              "      <th>30</th>\n",
              "      <td>6577804.30</td>\n",
              "      <td>13444095.0</td>\n",
              "      <td>960.0</td>\n",
              "      <td>1.0</td>\n",
              "      <td>35.150032</td>\n",
              "      <td>1</td>\n",
              "      <td>1200000</td>\n",
              "      <td>30</td>\n",
              "    </tr>\n",
              "    <tr>\n",
              "      <th>50</th>\n",
              "      <td>1874751.40</td>\n",
              "      <td>2786059.0</td>\n",
              "      <td>384.0</td>\n",
              "      <td>1.0</td>\n",
              "      <td>35.543042</td>\n",
              "      <td>1</td>\n",
              "      <td>1200000</td>\n",
              "      <td>50</td>\n",
              "    </tr>\n",
              "    <tr>\n",
              "      <th>1500000</th>\n",
              "      <th>10</th>\n",
              "      <td>375029.70</td>\n",
              "      <td>556748.0</td>\n",
              "      <td>320.0</td>\n",
              "      <td>1.0</td>\n",
              "      <td>35.797875</td>\n",
              "      <td>1</td>\n",
              "      <td>1500000</td>\n",
              "      <td>10</td>\n",
              "    </tr>\n",
              "    <tr>\n",
              "      <th>...</th>\n",
              "      <th>...</th>\n",
              "      <th>...</th>\n",
              "      <th>...</th>\n",
              "      <th>...</th>\n",
              "      <td>...</td>\n",
              "      <td>...</td>\n",
              "      <td>...</td>\n",
              "      <td>...</td>\n",
              "      <td>...</td>\n",
              "      <td>...</td>\n",
              "      <td>...</td>\n",
              "      <td>...</td>\n",
              "    </tr>\n",
              "    <tr>\n",
              "      <th rowspan=\"5\" valign=\"top\">Q9</th>\n",
              "      <th rowspan=\"5\" valign=\"top\">1</th>\n",
              "      <th rowspan=\"5\" valign=\"top\">5</th>\n",
              "      <th rowspan=\"3\" valign=\"top\">2700000</th>\n",
              "      <th>10</th>\n",
              "      <td>375029.70</td>\n",
              "      <td>507590.0</td>\n",
              "      <td>16602.0</td>\n",
              "      <td>5.0</td>\n",
              "      <td>54.369000</td>\n",
              "      <td>5</td>\n",
              "      <td>2700000</td>\n",
              "      <td>10</td>\n",
              "    </tr>\n",
              "    <tr>\n",
              "      <th>30</th>\n",
              "      <td>3700.57</td>\n",
              "      <td>15780474.0</td>\n",
              "      <td>48555.0</td>\n",
              "      <td>5.0</td>\n",
              "      <td>42.329333</td>\n",
              "      <td>5</td>\n",
              "      <td>2700000</td>\n",
              "      <td>30</td>\n",
              "    </tr>\n",
              "    <tr>\n",
              "      <th>50</th>\n",
              "      <td>3893.54</td>\n",
              "      <td>24125370.0</td>\n",
              "      <td>48555.0</td>\n",
              "      <td>5.0</td>\n",
              "      <td>44.091000</td>\n",
              "      <td>5</td>\n",
              "      <td>2700000</td>\n",
              "      <td>50</td>\n",
              "    </tr>\n",
              "    <tr>\n",
              "      <th rowspan=\"2\" valign=\"top\">3400000</th>\n",
              "      <th>30</th>\n",
              "      <td>2754495.66</td>\n",
              "      <td>13840881.0</td>\n",
              "      <td>39498.0</td>\n",
              "      <td>5.0</td>\n",
              "      <td>53.944143</td>\n",
              "      <td>5</td>\n",
              "      <td>3400000</td>\n",
              "      <td>30</td>\n",
              "    </tr>\n",
              "    <tr>\n",
              "      <th>50</th>\n",
              "      <td>4556031.99</td>\n",
              "      <td>21656376.0</td>\n",
              "      <td>39179.0</td>\n",
              "      <td>5.0</td>\n",
              "      <td>56.187851</td>\n",
              "      <td>5</td>\n",
              "      <td>3400000</td>\n",
              "      <td>50</td>\n",
              "    </tr>\n",
              "  </tbody>\n",
              "</table>\n",
              "<p>3218 rows × 8 columns</p>\n",
              "</div>"
            ],
            "text/plain": [
              "                                  cpu_cost     io_cost  mem_cost  dop_pl  \\\n",
              "Q  tpc dop_q frequency db_name                                             \n",
              "Q1 1   1     800000    10       4120605.58   5913014.0    1568.0     2.0   \n",
              "                       50       9473926.61  21525174.0    1120.0     1.0   \n",
              "             1200000   30       6577804.30  13444095.0     960.0     1.0   \n",
              "                       50       1874751.40   2786059.0     384.0     1.0   \n",
              "             1500000   10        375029.70    556748.0     320.0     1.0   \n",
              "...                                    ...         ...       ...     ...   \n",
              "Q9 1   5     2700000   10        375029.70    507590.0   16602.0     5.0   \n",
              "                       30          3700.57  15780474.0   48555.0     5.0   \n",
              "                       50          3893.54  24125370.0   48555.0     5.0   \n",
              "             3400000   30       2754495.66  13840881.0   39498.0     5.0   \n",
              "                       50       4556031.99  21656376.0   39179.0     5.0   \n",
              "\n",
              "                                    power  dop_q  frequency  db_name  \n",
              "Q  tpc dop_q frequency db_name                                        \n",
              "Q1 1   1     800000    10       34.175525      1     800000       10  \n",
              "                       50       35.338887      1     800000       50  \n",
              "             1200000   30       35.150032      1    1200000       30  \n",
              "                       50       35.543042      1    1200000       50  \n",
              "             1500000   10       35.797875      1    1500000       10  \n",
              "...                                   ...    ...        ...      ...  \n",
              "Q9 1   5     2700000   10       54.369000      5    2700000       10  \n",
              "                       30       42.329333      5    2700000       30  \n",
              "                       50       44.091000      5    2700000       50  \n",
              "             3400000   30       53.944143      5    3400000       30  \n",
              "                       50       56.187851      5    3400000       50  \n",
              "\n",
              "[3218 rows x 8 columns]"
            ]
          },
          "execution_count": 116,
          "metadata": {},
          "output_type": "execute_result"
        }
      ],
      "source": [
        "xobm = x_train_obm[['cpu_cost' , 'io_cost' , 'mem_cost','dop_pl','power']]\n",
        "xobm['dop_q'] = x_train_obm.index.get_level_values('dop_q').values\n",
        "xobm['frequency'] = x_train_obm.index.get_level_values('frequency').values\n",
        "xobm['db_name'] = x_train_obm.index.get_level_values('db_name').values\n",
        "\n",
        "xobm_test = x_test_obm[['cpu_cost' , 'io_cost' , 'mem_cost','dop_pl','power']]\n",
        "xobm_test['dop_q'] = x_test_obm.index.get_level_values('dop_q').values\n",
        "xobm_test['frequency'] = x_test_obm.index.get_level_values('frequency').values\n",
        "xobm_test['db_name'] = x_test_obm.index.get_level_values('db_name').values\n",
        "xobm_test"
      ]
    },
    {
      "cell_type": "code",
      "execution_count": 117,
      "metadata": {
        "id": "wGvsuL75qj3e"
      },
      "outputs": [],
      "source": [
        "scaler_obm = StandardScaler().fit(xobm[['cpu_cost' , 'io_cost' , 'mem_cost' , 'dop_q' , 'frequency' , 'db_name','dop_pl']].values)\n",
        "x_train_obm_scaled = scaler_obm.transform(xobm[['cpu_cost' , 'io_cost' , 'mem_cost' , 'dop_q' , 'frequency' , 'db_name','dop_pl']].values)\n",
        "x_test_obm_scaled = scaler_obm.transform(xobm_test[['cpu_cost' , 'io_cost' , 'mem_cost' , 'dop_q' , 'frequency' , 'db_name','dop_pl']].values)"
      ]
    },
    {
      "cell_type": "code",
      "execution_count": 118,
      "metadata": {
        "colab": {
          "base_uri": "https://localhost:8080/"
        },
        "id": "jSH35oeCreig",
        "outputId": "9c769962-acf7-444a-cd94-e48f27e5ec39"
      },
      "outputs": [
        {
          "data": {
            "text/plain": [
              "RandomForestRegressor(random_state=0)"
            ]
          },
          "execution_count": 118,
          "metadata": {},
          "output_type": "execute_result"
        }
      ],
      "source": [
        "rf_obm = RandomForestRegressor(n_estimators = 100, random_state = 0)\n",
        "rf_obm.fit(x_train_obm_scaled,xobm['power'].values)"
      ]
    },
    {
      "cell_type": "code",
      "execution_count": 139,
      "metadata": {
        "colab": {
          "base_uri": "https://localhost:8080/"
        },
        "id": "hID6CNXSPIW0",
        "outputId": "e7522cbd-e986-4329-f497-5e2229a07915"
      },
      "outputs": [
        {
          "name": "stdout",
          "output_type": "stream",
          "text": [
            "[12:50:56] WARNING: /workspace/src/objective/regression_obj.cu:152: reg:linear is now deprecated in favor of reg:squarederror.\n"
          ]
        },
        {
          "data": {
            "text/plain": [
              "XGBRegressor()"
            ]
          },
          "execution_count": 139,
          "metadata": {},
          "output_type": "execute_result"
        }
      ],
      "source": [
        "rf_obm = XGBRegressor()\n",
        "rf_obm.fit(x_train_obm_scaled, xobm['power'].values)"
      ]
    },
    {
      "cell_type": "code",
      "execution_count": 140,
      "metadata": {
        "colab": {
          "base_uri": "https://localhost:8080/"
        },
        "id": "rZiBZIMzW-DB",
        "outputId": "248447ec-5e3b-483b-f98e-c72be9e0096d"
      },
      "outputs": [
        {
          "data": {
            "text/plain": [
              "SVR(degree=1, kernel='linear')"
            ]
          },
          "execution_count": 140,
          "metadata": {},
          "output_type": "execute_result"
        }
      ],
      "source": [
        "rf_obm = svm.SVR(kernel = 'linear',  degree=1)\n",
        "rf_obm.fit(x_train_obm_scaled,xobm['power'].values)"
      ]
    },
    {
      "cell_type": "code",
      "execution_count": 141,
      "metadata": {
        "colab": {
          "base_uri": "https://localhost:8080/"
        },
        "id": "oSsU79heYlwu",
        "outputId": "db31d5bc-a212-4c42-ed83-ed138b782b1d"
      },
      "outputs": [
        {
          "data": {
            "text/plain": [
              "LinearRegression()"
            ]
          },
          "execution_count": 141,
          "metadata": {},
          "output_type": "execute_result"
        }
      ],
      "source": [
        "rf_obm = LinearRegression()\n",
        "rf_obm.fit(x_train_obm_scaled,xobm['power'].values)"
      ]
    },
    {
      "cell_type": "code",
      "execution_count": 119,
      "metadata": {
        "colab": {
          "base_uri": "https://localhost:8080/"
        },
        "id": "ZgcMk7yFrxIb",
        "outputId": "3ea619c9-b9b9-4695-d9c0-584c5a3d8c33"
      },
      "outputs": [
        {
          "data": {
            "text/plain": [
              "0.0211433842795137"
            ]
          },
          "execution_count": 119,
          "metadata": {},
          "output_type": "execute_result"
        }
      ],
      "source": [
        "y_pred_obm = rf_obm.predict(x_train_obm_scaled)\n",
        "mean_absolute_percentage_error(xobm['power'].values,y_pred_obm)"
      ]
    },
    {
      "cell_type": "code",
      "execution_count": 120,
      "metadata": {
        "colab": {
          "base_uri": "https://localhost:8080/"
        },
        "id": "4q3MymIerxY7",
        "outputId": "510d0df5-f310-4b5d-a7b1-6ae8578c5d9e"
      },
      "outputs": [
        {
          "data": {
            "text/plain": [
              "0.06405512249834082"
            ]
          },
          "execution_count": 120,
          "metadata": {},
          "output_type": "execute_result"
        }
      ],
      "source": [
        "y_pred_obm = rf_obm.predict(x_test_obm_scaled)\n",
        "mean_absolute_percentage_error(xobm_test['power'].values,y_pred_obm)"
      ]
    },
    {
      "cell_type": "code",
      "execution_count": 121,
      "metadata": {
        "colab": {
          "base_uri": "https://localhost:8080/"
        },
        "id": "YH7B0e2-z01h",
        "outputId": "0e510d3a-aa5e-44ba-c718-e1f5ac36c581"
      },
      "outputs": [
        {
          "data": {
            "text/plain": [
              "2.595379135539188"
            ]
          },
          "execution_count": 121,
          "metadata": {},
          "output_type": "execute_result"
        }
      ],
      "source": [
        "mean_absolute_error(xobm_test['power'].values,y_pred_obm)"
      ]
    },
    {
      "cell_type": "markdown",
      "metadata": {
        "id": "dhiiy9g8Qhvg"
      },
      "source": [
        "* random forst : 0.06648934381250039\n",
        "* xgboost : 0.0725868105294451\n",
        "* svm : 0.1180515645025561\n",
        "* poly : 0.11755632313131121"
      ]
    },
    {
      "cell_type": "markdown",
      "metadata": {
        "id": "AjLGHSpJFWrl"
      },
      "source": [
        "Random Forest Regresion features importance"
      ]
    },
    {
      "cell_type": "code",
      "execution_count": 122,
      "metadata": {
        "colab": {
          "base_uri": "https://localhost:8080/",
          "height": 269
        },
        "id": "N3y1mfFusWrC",
        "outputId": "db64c5e4-bcd1-469f-8fca-3b550c93e9bb"
      },
      "outputs": [
        {
          "data": {
            "text/html": [
              "<div>\n",
              "<style scoped>\n",
              "    .dataframe tbody tr th:only-of-type {\n",
              "        vertical-align: middle;\n",
              "    }\n",
              "\n",
              "    .dataframe tbody tr th {\n",
              "        vertical-align: top;\n",
              "    }\n",
              "\n",
              "    .dataframe thead th {\n",
              "        text-align: right;\n",
              "    }\n",
              "</style>\n",
              "<table border=\"1\" class=\"dataframe\">\n",
              "  <thead>\n",
              "    <tr style=\"text-align: right;\">\n",
              "      <th></th>\n",
              "      <th>feature_importances</th>\n",
              "    </tr>\n",
              "  </thead>\n",
              "  <tbody>\n",
              "    <tr>\n",
              "      <th>cpu_cost</th>\n",
              "      <td>0.243513</td>\n",
              "    </tr>\n",
              "    <tr>\n",
              "      <th>io_cost</th>\n",
              "      <td>0.098053</td>\n",
              "    </tr>\n",
              "    <tr>\n",
              "      <th>mem_cost</th>\n",
              "      <td>0.122202</td>\n",
              "    </tr>\n",
              "    <tr>\n",
              "      <th>dop_q</th>\n",
              "      <td>0.086908</td>\n",
              "    </tr>\n",
              "    <tr>\n",
              "      <th>frequency</th>\n",
              "      <td>0.375829</td>\n",
              "    </tr>\n",
              "    <tr>\n",
              "      <th>scale_factore</th>\n",
              "      <td>0.012495</td>\n",
              "    </tr>\n",
              "    <tr>\n",
              "      <th>dop_pl</th>\n",
              "      <td>0.060999</td>\n",
              "    </tr>\n",
              "  </tbody>\n",
              "</table>\n",
              "</div>"
            ],
            "text/plain": [
              "               feature_importances\n",
              "cpu_cost                  0.243513\n",
              "io_cost                   0.098053\n",
              "mem_cost                  0.122202\n",
              "dop_q                     0.086908\n",
              "frequency                 0.375829\n",
              "scale_factore             0.012495\n",
              "dop_pl                    0.060999"
            ]
          },
          "execution_count": 122,
          "metadata": {},
          "output_type": "execute_result"
        }
      ],
      "source": [
        "pd.DataFrame(rf_obm.feature_importances_,['cpu_cost', 'io_cost' , 'mem_cost'  ,'dop_q', 'frequency' , 'scale_factore','dop_pl' ],columns=['feature_importances'])"
      ]
    },
    {
      "cell_type": "code",
      "execution_count": 123,
      "metadata": {
        "colab": {
          "base_uri": "https://localhost:8080/",
          "height": 251
        },
        "id": "ruJKWM6-PPn1",
        "outputId": "26d9ffe2-abc0-4e90-f9ff-ae4da2677d8e"
      },
      "outputs": [
        {
          "data": {
            "image/png": "[encoded data removed]",
            "text/plain": [
              "<Figure size 432x288 with 1 Axes>"
            ]
          },
          "metadata": {},
          "output_type": "display_data"
        }
      ],
      "source": [
        "import matplotlib.pyplot as plt\n",
        "\n",
        "labels = 'cpu_cost', 'io_cost' , 'mem_cost'  ,'dop_q', 'frequency' , 'scale_factore','dop_pl'\n",
        "sizes = rf_obm.feature_importances_\n",
        "explode = (0, 0.1, 0.1, 0 , 0  , 0.1 , 0) \n",
        "\n",
        "fig1, ax1 = plt.subplots()\n",
        "ax1.pie(sizes, explode=explode, labels=labels, autopct='%1.1f%%',\n",
        "        shadow=True, startangle=90)\n",
        "ax1.axis('equal') \n",
        "\n",
        "plt.show()"
      ]
    },
    {
      "cell_type": "markdown",
      "metadata": {
        "id": "AIy4RR5xGMTm"
      },
      "source": [
        "# Conclusion \n",
        "\n",
        "from our comparaison we conclued that the **pipeline random forest regresion model**  using the following features (cpu_cost , io_cost , scale factor , mem_cost , dop_pl , frequency ) is the model with the best result :\n",
        "* MAPE : 0.6211\n",
        "* MAE : 2.42"
      ]
    },
    {
      "cell_type": "markdown",
      "metadata": {
        "id": "dkfxNN-eNamj"
      },
      "source": [
        "generation and saving the model"
      ]
    },
    {
      "cell_type": "code",
      "execution_count": 124,
      "metadata": {
        "id": "lP8PPkd0NWYP"
      },
      "outputs": [],
      "source": [
        "x_train_pl , x_test_pl  = train_test_split( pl_q[['Q','cpu_cost' , 'io_cost' , 'mem_cost' , 'dop_pl' , 'frequency' , 'db_name','tpc','dop_q','power']] , test_size=0.33 ,random_state = 1)"
      ]
    },
    {
      "cell_type": "code",
      "execution_count": 125,
      "metadata": {
        "id": "zy7g9unhNWYP"
      },
      "outputs": [],
      "source": [
        "scaler_pl = StandardScaler().fit(x_train_pl[['cpu_cost' , 'io_cost' , 'mem_cost' , 'dop_pl' , 'frequency' , 'db_name']].values)\n",
        "x_train_pl_scaled = scaler_pl.transform(x_train_pl[['cpu_cost' , 'io_cost' , 'mem_cost' , 'dop_pl' , 'frequency' , 'db_name']].values)\n",
        "x_test_pl_scaled = scaler_pl.transform(x_test_pl[['cpu_cost' , 'io_cost' , 'mem_cost' , 'dop_pl' , 'frequency' , 'db_name']].values)"
      ]
    },
    {
      "cell_type": "code",
      "execution_count": 126,
      "metadata": {
        "colab": {
          "base_uri": "https://localhost:8080/"
        },
        "id": "XVYmdp67NWYQ",
        "outputId": "f2fc4acb-c1ff-43dd-a81f-5e71fc5e7d06"
      },
      "outputs": [
        {
          "data": {
            "text/plain": [
              "array([[-5.70029332e-01,  5.19467709e-01, -5.13939731e-02,\n",
              "        -9.55103161e-01, -2.41523637e-01,  1.17810378e+00],\n",
              "       [-2.81705135e-01, -6.42676063e-01,  1.53305802e-02,\n",
              "        -9.55103161e-01, -1.05762064e+00, -1.25431678e+00],\n",
              "       [-5.70029397e-01, -1.98469481e-01, -1.05696277e-01,\n",
              "         1.46141174e+00,  6.91158651e-01,  1.17810378e+00],\n",
              "       ...,\n",
              "       [ 1.20643331e+00,  5.21194668e-01, -7.12412199e-02,\n",
              "         2.53154292e-01, -1.05762064e+00,  1.17810378e+00],\n",
              "       [-2.23986539e-01, -6.98252512e-01, -1.19725208e-01,\n",
              "         2.53154292e-01,  2.24817507e-01, -3.81065009e-02],\n",
              "       [-5.70012421e-01, -8.39205722e-01,  1.71696456e+01,\n",
              "        -9.55103161e-01, -8.35306498e-03,  1.17810378e+00]])"
            ]
          },
          "execution_count": 126,
          "metadata": {},
          "output_type": "execute_result"
        }
      ],
      "source": [
        "x_train_pl_scaled"
      ]
    },
    {
      "cell_type": "code",
      "execution_count": 127,
      "metadata": {
        "colab": {
          "base_uri": "https://localhost:8080/"
        },
        "id": "FIgoP5JCNWYQ",
        "outputId": "e9714a5a-db6a-4125-b430-9be4ef71f9c1"
      },
      "outputs": [
        {
          "data": {
            "text/plain": [
              "RandomForestRegressor(random_state=0)"
            ]
          },
          "execution_count": 127,
          "metadata": {},
          "output_type": "execute_result"
        }
      ],
      "source": [
        "EnergyCostModel = RandomForestRegressor(n_estimators = 100, random_state = 0)\n",
        "EnergyCostModel.fit(x_train_pl_scaled,x_train_pl['power'].values)"
      ]
    },
    {
      "cell_type": "code",
      "execution_count": 128,
      "metadata": {
        "colab": {
          "base_uri": "https://localhost:8080/"
        },
        "id": "llC3LjtnNWYQ",
        "outputId": "5f34bbfe-043e-4422-e660-93fde1aa1336"
      },
      "outputs": [
        {
          "data": {
            "text/plain": [
              "0.024109615424187356"
            ]
          },
          "execution_count": 128,
          "metadata": {},
          "output_type": "execute_result"
        }
      ],
      "source": [
        "y_pred_pl = EnergyCostModel.predict(x_train_pl_scaled)\n",
        "mean_absolute_percentage_error(x_train_pl['power'].values,y_pred_pl)"
      ]
    },
    {
      "cell_type": "code",
      "execution_count": 129,
      "metadata": {
        "colab": {
          "base_uri": "https://localhost:8080/"
        },
        "id": "9j54XiuBNWYQ",
        "outputId": "14224488-6776-4ab9-95b9-ceedb8a134fa"
      },
      "outputs": [
        {
          "data": {
            "text/plain": [
              "0.062110152636143695"
            ]
          },
          "execution_count": 129,
          "metadata": {},
          "output_type": "execute_result"
        }
      ],
      "source": [
        "y_pred_pl = EnergyCostModel.predict(x_test_pl_scaled)\n",
        "mean_absolute_percentage_error(x_test_pl['power'].values,y_pred_pl)"
      ]
    },
    {
      "cell_type": "code",
      "execution_count": 130,
      "metadata": {
        "colab": {
          "base_uri": "https://localhost:8080/"
        },
        "id": "5_AeAdUoNWYQ",
        "outputId": "06836dfe-9fce-44bd-ab08-bb3c25af8a37"
      },
      "outputs": [
        {
          "data": {
            "text/plain": [
              "2.426892444041645"
            ]
          },
          "execution_count": 130,
          "metadata": {},
          "output_type": "execute_result"
        }
      ],
      "source": [
        "mean_absolute_error(x_test_pl['power'].values,y_pred_pl)"
      ]
    },
    {
      "cell_type": "code",
      "execution_count": 131,
      "metadata": {
        "colab": {
          "base_uri": "https://localhost:8080/",
          "height": 238
        },
        "id": "AXH737UvNWYQ",
        "outputId": "ef00b030-756c-46ad-a4f1-919c3ba7f92c"
      },
      "outputs": [
        {
          "data": {
            "text/html": [
              "<div>\n",
              "<style scoped>\n",
              "    .dataframe tbody tr th:only-of-type {\n",
              "        vertical-align: middle;\n",
              "    }\n",
              "\n",
              "    .dataframe tbody tr th {\n",
              "        vertical-align: top;\n",
              "    }\n",
              "\n",
              "    .dataframe thead th {\n",
              "        text-align: right;\n",
              "    }\n",
              "</style>\n",
              "<table border=\"1\" class=\"dataframe\">\n",
              "  <thead>\n",
              "    <tr style=\"text-align: right;\">\n",
              "      <th></th>\n",
              "      <th>feature_importances</th>\n",
              "    </tr>\n",
              "  </thead>\n",
              "  <tbody>\n",
              "    <tr>\n",
              "      <th>cpu_cost</th>\n",
              "      <td>0.331424</td>\n",
              "    </tr>\n",
              "    <tr>\n",
              "      <th>io_cost</th>\n",
              "      <td>0.116843</td>\n",
              "    </tr>\n",
              "    <tr>\n",
              "      <th>mem_cost</th>\n",
              "      <td>0.101889</td>\n",
              "    </tr>\n",
              "    <tr>\n",
              "      <th>dop_pl</th>\n",
              "      <td>0.132849</td>\n",
              "    </tr>\n",
              "    <tr>\n",
              "      <th>frequency</th>\n",
              "      <td>0.301148</td>\n",
              "    </tr>\n",
              "    <tr>\n",
              "      <th>scale_factore</th>\n",
              "      <td>0.015848</td>\n",
              "    </tr>\n",
              "  </tbody>\n",
              "</table>\n",
              "</div>"
            ],
            "text/plain": [
              "               feature_importances\n",
              "cpu_cost                  0.331424\n",
              "io_cost                   0.116843\n",
              "mem_cost                  0.101889\n",
              "dop_pl                    0.132849\n",
              "frequency                 0.301148\n",
              "scale_factore             0.015848"
            ]
          },
          "execution_count": 131,
          "metadata": {},
          "output_type": "execute_result"
        }
      ],
      "source": [
        "pd.DataFrame(EnergyCostModel.feature_importances_,['cpu_cost', 'io_cost' , 'mem_cost'  ,'dop_pl', 'frequency' , 'scale_factore' ],columns=['feature_importances'])"
      ]
    },
    {
      "cell_type": "code",
      "execution_count": 132,
      "metadata": {
        "colab": {
          "base_uri": "https://localhost:8080/",
          "height": 257
        },
        "id": "N2yQtGNFNWYQ",
        "outputId": "cd7a36e2-efd4-44a2-cd65-6f57441adefc"
      },
      "outputs": [
        {
          "data": {
            "image/png": "[encoded data removed]",
            "text/plain": [
              "<Figure size 432x288 with 1 Axes>"
            ]
          },
          "metadata": {},
          "output_type": "display_data"
        }
      ],
      "source": [
        "labels = 'cpu_cost', 'io_cost' , 'mem_cost'  ,'dop_pl', 'frequency' , 'scale_factore'\n",
        "sizes = EnergyCostModel.feature_importances_\n",
        "explode = (0, 0.1, 0.1, 0 , 0  , 0.1 )  # only \"explode\" the 2nd slice (i.e. 'Hogs')\n",
        "\n",
        "fig1, ax1 = plt.subplots()\n",
        "ax1.pie(sizes, explode=explode, labels=labels, autopct='%1.1f%%',\n",
        "        shadow=True, startangle=90)\n",
        "ax1.axis('equal')  # Equal aspect ratio ensures that pie is drawn as a circle.\n",
        "\n",
        "plt.show()"
      ]
    },
    {
      "cell_type": "code",
      "execution_count": 133,
      "metadata": {
        "id": "QTx8sjRJNmxd"
      },
      "outputs": [],
      "source": [
        "import pickle\n",
        "\n",
        "pickle.dump(EnergyCostModel, open('EnergyCostModel.pkl', 'wb'))\n"
      ]
    },
    {
      "cell_type": "code",
      "execution_count": null,
      "metadata": {},
      "outputs": [],
      "source": []
    }
  ],
  "metadata": {
    "colab": {
      "provenance": []
    },
    "kernelspec": {
      "display_name": "base",
      "language": "python",
      "name": "python3"
    },
    "language_info": {
      "codemirror_mode": {
        "name": "ipython",
        "version": 3
      },
      "file_extension": ".py",
      "mimetype": "text/x-python",
      "name": "python",
      "nbconvert_exporter": "python",
      "pygments_lexer": "ipython3",
      "version": "3.8.8"
    },
    "vscode": {
      "interpreter": {
        "hash": "3048b6bf309ca8560ff8c6f628e5c58a1cb6aa5a7c6c5d08855eb7b84572120c"
      }
    }
  },
  "nbformat": 4,
  "nbformat_minor": 0
}
